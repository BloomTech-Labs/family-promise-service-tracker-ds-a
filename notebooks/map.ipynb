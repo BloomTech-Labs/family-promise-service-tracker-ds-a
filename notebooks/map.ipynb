{
  "nbformat": 4,
  "nbformat_minor": 0,
  "metadata": {
    "colab": {
      "name": "map.ipynb",
      "provenance": []
    },
    "kernelspec": {
      "name": "python3",
      "display_name": "Python 3"
    },
    "language_info": {
      "name": "python"
    }
  },
  "cells": [
    {
      "cell_type": "code",
      "metadata": {
        "colab": {
          "base_uri": "https://localhost:8080/",
          "height": 204
        },
        "id": "kpAukWUSiFR1",
        "outputId": "c5854057-3b64-411a-da5f-b9182c15e9d3"
      },
      "source": [
        "import pandas as pd\n",
        "\n",
        "df = pd.read_csv('https://raw.githubusercontent.com/Lambda-School-Labs/family-promise-service-tracker-ds-a/main/data/mock_data_v2.csv')\n",
        "df.head()"
      ],
      "execution_count": 1,
      "outputs": [
        {
          "output_type": "execute_result",
          "data": {
            "text/html": [
              "<div>\n",
              "<style scoped>\n",
              "    .dataframe tbody tr th:only-of-type {\n",
              "        vertical-align: middle;\n",
              "    }\n",
              "\n",
              "    .dataframe tbody tr th {\n",
              "        vertical-align: top;\n",
              "    }\n",
              "\n",
              "    .dataframe thead th {\n",
              "        text-align: right;\n",
              "    }\n",
              "</style>\n",
              "<table border=\"1\" class=\"dataframe\">\n",
              "  <thead>\n",
              "    <tr style=\"text-align: right;\">\n",
              "      <th></th>\n",
              "      <th>client_id</th>\n",
              "      <th>full_name</th>\n",
              "      <th>gender</th>\n",
              "      <th>age</th>\n",
              "      <th>adult</th>\n",
              "      <th>veteran</th>\n",
              "      <th>ethnicity</th>\n",
              "      <th>service_provided</th>\n",
              "      <th>zipcode</th>\n",
              "      <th>city</th>\n",
              "      <th>state</th>\n",
              "      <th>latitude</th>\n",
              "      <th>longitude</th>\n",
              "      <th>date</th>\n",
              "    </tr>\n",
              "  </thead>\n",
              "  <tbody>\n",
              "    <tr>\n",
              "      <th>0</th>\n",
              "      <td>54892</td>\n",
              "      <td>Mehetabel Aylmore</td>\n",
              "      <td>Male</td>\n",
              "      <td>20</td>\n",
              "      <td>1</td>\n",
              "      <td>1</td>\n",
              "      <td>White</td>\n",
              "      <td>Life Skills Classes</td>\n",
              "      <td>99001</td>\n",
              "      <td>Airway Heights</td>\n",
              "      <td>Washington</td>\n",
              "      <td>47.642922</td>\n",
              "      <td>-117.59149</td>\n",
              "      <td>5/14/2018 12:00 AM</td>\n",
              "    </tr>\n",
              "    <tr>\n",
              "      <th>1</th>\n",
              "      <td>49955</td>\n",
              "      <td>Ab Haycox</td>\n",
              "      <td>Female</td>\n",
              "      <td>2</td>\n",
              "      <td>0</td>\n",
              "      <td>0</td>\n",
              "      <td>White</td>\n",
              "      <td>Case Management</td>\n",
              "      <td>99001</td>\n",
              "      <td>Airway Heights</td>\n",
              "      <td>Washington</td>\n",
              "      <td>47.642922</td>\n",
              "      <td>-117.59149</td>\n",
              "      <td>5/15/2018 12:00 AM</td>\n",
              "    </tr>\n",
              "    <tr>\n",
              "      <th>2</th>\n",
              "      <td>60641</td>\n",
              "      <td>Lindi Ransom</td>\n",
              "      <td>Male</td>\n",
              "      <td>23</td>\n",
              "      <td>1</td>\n",
              "      <td>0</td>\n",
              "      <td>Asian</td>\n",
              "      <td>Case Management</td>\n",
              "      <td>99001</td>\n",
              "      <td>Airway Heights</td>\n",
              "      <td>Washington</td>\n",
              "      <td>47.642922</td>\n",
              "      <td>-117.59149</td>\n",
              "      <td>5/16/2018 12:00 AM</td>\n",
              "    </tr>\n",
              "    <tr>\n",
              "      <th>3</th>\n",
              "      <td>64026</td>\n",
              "      <td>Kaye Sample</td>\n",
              "      <td>Male</td>\n",
              "      <td>4</td>\n",
              "      <td>0</td>\n",
              "      <td>0</td>\n",
              "      <td>White</td>\n",
              "      <td>Rental Assistance</td>\n",
              "      <td>99001</td>\n",
              "      <td>Airway Heights</td>\n",
              "      <td>Washington</td>\n",
              "      <td>47.642922</td>\n",
              "      <td>-117.59149</td>\n",
              "      <td>5/17/2018 12:00 AM</td>\n",
              "    </tr>\n",
              "    <tr>\n",
              "      <th>4</th>\n",
              "      <td>63275</td>\n",
              "      <td>Jervis Sydney</td>\n",
              "      <td>Male</td>\n",
              "      <td>67</td>\n",
              "      <td>1</td>\n",
              "      <td>0</td>\n",
              "      <td>White</td>\n",
              "      <td>Transportation</td>\n",
              "      <td>99001</td>\n",
              "      <td>Airway Heights</td>\n",
              "      <td>Washington</td>\n",
              "      <td>47.642922</td>\n",
              "      <td>-117.59149</td>\n",
              "      <td>5/18/2018 12:00 AM</td>\n",
              "    </tr>\n",
              "  </tbody>\n",
              "</table>\n",
              "</div>"
            ],
            "text/plain": [
              "   client_id          full_name  ...  longitude                date\n",
              "0      54892  Mehetabel Aylmore  ... -117.59149  5/14/2018 12:00 AM\n",
              "1      49955          Ab Haycox  ... -117.59149  5/15/2018 12:00 AM\n",
              "2      60641       Lindi Ransom  ... -117.59149  5/16/2018 12:00 AM\n",
              "3      64026        Kaye Sample  ... -117.59149  5/17/2018 12:00 AM\n",
              "4      63275      Jervis Sydney  ... -117.59149  5/18/2018 12:00 AM\n",
              "\n",
              "[5 rows x 14 columns]"
            ]
          },
          "metadata": {
            "tags": []
          },
          "execution_count": 1
        }
      ]
    },
    {
      "cell_type": "code",
      "metadata": {
        "colab": {
          "base_uri": "https://localhost:8080/"
        },
        "id": "-RngHuU-ifBF",
        "outputId": "a42faaf3-89e4-42b8-d3f3-283196b40a5e"
      },
      "source": [
        "df['service_provided'].value_counts()"
      ],
      "execution_count": 2,
      "outputs": [
        {
          "output_type": "execute_result",
          "data": {
            "text/plain": [
              "Case Management             29\n",
              "Bus Pass                    21\n",
              "Food                        13\n",
              "Clothing                    12\n",
              "Life Skills Classes          5\n",
              "Security Deposit             4\n",
              "Employment Services          4\n",
              "Mental Health Counseling     4\n",
              "Bus Tokens                   3\n",
              "Case/Care management         2\n",
              "Transportation               2\n",
              "Rental Assistance            1\n",
              "Name: service_provided, dtype: int64"
            ]
          },
          "metadata": {
            "tags": []
          },
          "execution_count": 2
        }
      ]
    },
    {
      "cell_type": "code",
      "metadata": {
        "id": "utphd8k5ErWG"
      },
      "source": [
        "services_by_zipcode = df['zipcode'].value_counts(normalize=False).rename_axis('zipcode').reset_index(name='counts').to_csv(r'/content/services_by_zipcode.csv', index = False)\n",
        "services_by_zipcode"
      ],
      "execution_count": 3,
      "outputs": []
    },
    {
      "cell_type": "code",
      "metadata": {
        "colab": {
          "base_uri": "https://localhost:8080/",
          "height": 204
        },
        "id": "YKVX1rccJTkx",
        "outputId": "5efe6fd5-533c-4dd4-cfea-355497361c82"
      },
      "source": [
        "map = pd.read_csv('https://raw.githubusercontent.com/Lambda-School-Labs/family-promise-service-tracker-ds-a/main/data/services_by-zipcode.csv')\n",
        "map.head()"
      ],
      "execution_count": 7,
      "outputs": [
        {
          "output_type": "execute_result",
          "data": {
            "text/html": [
              "<div>\n",
              "<style scoped>\n",
              "    .dataframe tbody tr th:only-of-type {\n",
              "        vertical-align: middle;\n",
              "    }\n",
              "\n",
              "    .dataframe tbody tr th {\n",
              "        vertical-align: top;\n",
              "    }\n",
              "\n",
              "    .dataframe thead th {\n",
              "        text-align: right;\n",
              "    }\n",
              "</style>\n",
              "<table border=\"1\" class=\"dataframe\">\n",
              "  <thead>\n",
              "    <tr style=\"text-align: right;\">\n",
              "      <th></th>\n",
              "      <th>zipcode</th>\n",
              "      <th>counts</th>\n",
              "      <th>city</th>\n",
              "      <th>latitude</th>\n",
              "      <th>longitude</th>\n",
              "    </tr>\n",
              "  </thead>\n",
              "  <tbody>\n",
              "    <tr>\n",
              "      <th>0</th>\n",
              "      <td>99201</td>\n",
              "      <td>16</td>\n",
              "      <td>Spokane</td>\n",
              "      <td>47.663945</td>\n",
              "      <td>-117.43185</td>\n",
              "    </tr>\n",
              "    <tr>\n",
              "      <th>1</th>\n",
              "      <td>99217</td>\n",
              "      <td>12</td>\n",
              "      <td>Spokane</td>\n",
              "      <td>47.707542</td>\n",
              "      <td>-117.33776</td>\n",
              "    </tr>\n",
              "    <tr>\n",
              "      <th>2</th>\n",
              "      <td>99021</td>\n",
              "      <td>9</td>\n",
              "      <td>Mead</td>\n",
              "      <td>47.811080</td>\n",
              "      <td>-117.22306</td>\n",
              "    </tr>\n",
              "    <tr>\n",
              "      <th>3</th>\n",
              "      <td>99037</td>\n",
              "      <td>8</td>\n",
              "      <td>Spokane Valley</td>\n",
              "      <td>47.643346</td>\n",
              "      <td>-117.19993</td>\n",
              "    </tr>\n",
              "    <tr>\n",
              "      <th>4</th>\n",
              "      <td>99202</td>\n",
              "      <td>7</td>\n",
              "      <td>Spokane</td>\n",
              "      <td>47.656692</td>\n",
              "      <td>-117.37899</td>\n",
              "    </tr>\n",
              "  </tbody>\n",
              "</table>\n",
              "</div>"
            ],
            "text/plain": [
              "   zipcode  counts            city   latitude  longitude\n",
              "0    99201      16         Spokane  47.663945 -117.43185\n",
              "1    99217      12         Spokane  47.707542 -117.33776\n",
              "2    99021       9            Mead  47.811080 -117.22306\n",
              "3    99037       8  Spokane Valley  47.643346 -117.19993\n",
              "4    99202       7         Spokane  47.656692 -117.37899"
            ]
          },
          "metadata": {
            "tags": []
          },
          "execution_count": 7
        }
      ]
    },
    {
      "cell_type": "code",
      "metadata": {
        "colab": {
          "base_uri": "https://localhost:8080/",
          "height": 542
        },
        "id": "iMbqPuvNkCfO",
        "outputId": "469a823a-c24a-489a-fe64-6ada8598bbe2"
      },
      "source": [
        "import plotly.express as px\n",
        "\n",
        "\n",
        "fig = px.scatter_mapbox(map, lat=\"latitude\", lon='longitude',\n",
        "                     color=\"city\", # which column to use to set the color of markers\n",
        "                     hover_name=\"zipcode\", # column added to hover information\n",
        "                     size='counts',\n",
        "                     zoom=4,\n",
        "                     )\n",
        "\n",
        "fig.update_layout(mapbox_style=\"open-street-map\")\n",
        "fig.show()"
      ],
      "execution_count": 8,
      "outputs": [
        {
          "output_type": "display_data",
          "data": {
            "text/html": [
              "<html>\n",
              "<head><meta charset=\"utf-8\" /></head>\n",
              "<body>\n",
              "    <div>\n",
              "            <script src=\"https://cdnjs.cloudflare.com/ajax/libs/mathjax/2.7.5/MathJax.js?config=TeX-AMS-MML_SVG\"></script><script type=\"text/javascript\">if (window.MathJax) {MathJax.Hub.Config({SVG: {font: \"STIX-Web\"}});}</script>\n",
              "                <script type=\"text/javascript\">window.PlotlyConfig = {MathJaxConfig: 'local'};</script>\n",
              "        <script src=\"https://cdn.plot.ly/plotly-latest.min.js\"></script>    \n",
              "            <div id=\"89b7d489-7a95-4b5e-8c3b-32b18d5992f4\" class=\"plotly-graph-div\" style=\"height:525px; width:100%;\"></div>\n",
              "            <script type=\"text/javascript\">\n",
              "                \n",
              "                    window.PLOTLYENV=window.PLOTLYENV || {};\n",
              "                    \n",
              "                if (document.getElementById(\"89b7d489-7a95-4b5e-8c3b-32b18d5992f4\")) {\n",
              "                    Plotly.newPlot(\n",
              "                        '89b7d489-7a95-4b5e-8c3b-32b18d5992f4',\n",
              "                        [{\"hoverlabel\": {\"namelength\": 0}, \"hovertemplate\": \"<b>%{hovertext}</b><br><br>city=Spokane<br>counts=%{marker.size}<br>latitude=%{lat}<br>longitude=%{lon}\", \"hovertext\": [99201.0, 99217.0, 99202.0, 99218.0, 99203.0, 99204.0, 99205.0, 99207.0, 99208.0, 99223.0, 99224.0], \"lat\": [47.663945, 47.707542, 47.656692, 47.751674, 47.629090999999995, 47.648941, 47.69399, 47.693740999999996, 47.740491, 47.614744, 47.632573], \"legendgroup\": \"city=Spokane\", \"lon\": [-117.43185, -117.33776, -117.37898999999999, -117.4124, -117.40636, -117.43173999999999, -117.43978999999999, -117.38828999999998, -117.43916000000002, -117.35892, -117.49326], \"marker\": {\"color\": \"#636efa\", \"size\": [16, 12, 7, 1, 1, 1, 1, 1, 1, 1, 1], \"sizemode\": \"area\", \"sizeref\": 0.04}, \"mode\": \"markers\", \"name\": \"city=Spokane\", \"showlegend\": true, \"subplot\": \"mapbox\", \"type\": \"scattermapbox\"}, {\"hoverlabel\": {\"namelength\": 0}, \"hovertemplate\": \"<b>%{hovertext}</b><br><br>city=Mead<br>counts=%{marker.size}<br>latitude=%{lat}<br>longitude=%{lon}\", \"hovertext\": [99021.0], \"lat\": [47.81108], \"legendgroup\": \"city=Mead\", \"lon\": [-117.22306], \"marker\": {\"color\": \"#EF553B\", \"size\": [9], \"sizemode\": \"area\", \"sizeref\": 0.04}, \"mode\": \"markers\", \"name\": \"city=Mead\", \"showlegend\": true, \"subplot\": \"mapbox\", \"type\": \"scattermapbox\"}, {\"hoverlabel\": {\"namelength\": 0}, \"hovertemplate\": \"<b>%{hovertext}</b><br><br>city=Spokane Valley<br>counts=%{marker.size}<br>latitude=%{lat}<br>longitude=%{lon}\", \"hovertext\": [99037.0, 99206.0, 99212.0, 99216.0], \"lat\": [47.643346, 47.646994, 47.668926, 47.665819], \"legendgroup\": \"city=Spokane Valley\", \"lon\": [-117.19993000000001, -117.25912, -117.30668, -117.21699], \"marker\": {\"color\": \"#00cc96\", \"size\": [8, 7, 1, 1], \"sizemode\": \"area\", \"sizeref\": 0.04}, \"mode\": \"markers\", \"name\": \"city=Spokane Valley\", \"showlegend\": true, \"subplot\": \"mapbox\", \"type\": \"scattermapbox\"}, {\"hoverlabel\": {\"namelength\": 0}, \"hovertemplate\": \"<b>%{hovertext}</b><br><br>city=Airway Heights<br>counts=%{marker.size}<br>latitude=%{lat}<br>longitude=%{lon}\", \"hovertext\": [99001.0], \"lat\": [47.642922], \"legendgroup\": \"city=Airway Heights\", \"lon\": [-117.59149], \"marker\": {\"color\": \"#ab63fa\", \"size\": [5], \"sizemode\": \"area\", \"sizeref\": 0.04}, \"mode\": \"markers\", \"name\": \"city=Airway Heights\", \"showlegend\": true, \"subplot\": \"mapbox\", \"type\": \"scattermapbox\"}, {\"hoverlabel\": {\"namelength\": 0}, \"hovertemplate\": \"<b>%{hovertext}</b><br><br>city=Chattaroy<br>counts=%{marker.size}<br>latitude=%{lat}<br>longitude=%{lon}\", \"hovertext\": [99003.0], \"lat\": [47.921687], \"legendgroup\": \"city=Chattaroy\", \"lon\": [-117.29378], \"marker\": {\"color\": \"#FFA15A\", \"size\": [4], \"sizemode\": \"area\", \"sizeref\": 0.04}, \"mode\": \"markers\", \"name\": \"city=Chattaroy\", \"showlegend\": true, \"subplot\": \"mapbox\", \"type\": \"scattermapbox\"}, {\"hoverlabel\": {\"namelength\": 0}, \"hovertemplate\": \"<b>%{hovertext}</b><br><br>city=Cheney<br>counts=%{marker.size}<br>latitude=%{lat}<br>longitude=%{lon}\", \"hovertext\": [99004.0], \"lat\": [47.466974], \"legendgroup\": \"city=Cheney\", \"lon\": [-117.60575], \"marker\": {\"color\": \"#19d3f3\", \"size\": [3], \"sizemode\": \"area\", \"sizeref\": 0.04}, \"mode\": \"markers\", \"name\": \"city=Cheney\", \"showlegend\": true, \"subplot\": \"mapbox\", \"type\": \"scattermapbox\"}, {\"hoverlabel\": {\"namelength\": 0}, \"hovertemplate\": \"<b>%{hovertext}</b><br><br>city=Greenacres<br>counts=%{marker.size}<br>latitude=%{lat}<br>longitude=%{lon}\", \"hovertext\": [99016.0], \"lat\": [47.648693], \"legendgroup\": \"city=Greenacres\", \"lon\": [-117.15116], \"marker\": {\"color\": \"#FF6692\", \"size\": [2], \"sizemode\": \"area\", \"sizeref\": 0.04}, \"mode\": \"markers\", \"name\": \"city=Greenacres\", \"showlegend\": true, \"subplot\": \"mapbox\", \"type\": \"scattermapbox\"}, {\"hoverlabel\": {\"namelength\": 0}, \"hovertemplate\": \"<b>%{hovertext}</b><br><br>city=Colbert<br>counts=%{marker.size}<br>latitude=%{lat}<br>longitude=%{lon}\", \"hovertext\": [99005.0], \"lat\": [47.844289], \"legendgroup\": \"city=Colbert\", \"lon\": [-117.37274], \"marker\": {\"color\": \"#B6E880\", \"size\": [2], \"sizemode\": \"area\", \"sizeref\": 0.04}, \"mode\": \"markers\", \"name\": \"city=Colbert\", \"showlegend\": true, \"subplot\": \"mapbox\", \"type\": \"scattermapbox\"}, {\"hoverlabel\": {\"namelength\": 0}, \"hovertemplate\": \"<b>%{hovertext}</b><br><br>city=Liberty Lake<br>counts=%{marker.size}<br>latitude=%{lat}<br>longitude=%{lon}\", \"hovertext\": [99019.0], \"lat\": [47.656171], \"legendgroup\": \"city=Liberty Lake\", \"lon\": [-117.08628], \"marker\": {\"color\": \"#FF97FF\", \"size\": [1], \"sizemode\": \"area\", \"sizeref\": 0.04}, \"mode\": \"markers\", \"name\": \"city=Liberty Lake\", \"showlegend\": true, \"subplot\": \"mapbox\", \"type\": \"scattermapbox\"}, {\"hoverlabel\": {\"namelength\": 0}, \"hovertemplate\": \"<b>%{hovertext}</b><br><br>city=Valleyford<br>counts=%{marker.size}<br>latitude=%{lat}<br>longitude=%{lon}\", \"hovertext\": [99036.0], \"lat\": [47.52507], \"legendgroup\": \"city=Valleyford\", \"lon\": [-117.27054], \"marker\": {\"color\": \"#FECB52\", \"size\": [1], \"sizemode\": \"area\", \"sizeref\": 0.04}, \"mode\": \"markers\", \"name\": \"city=Valleyford\", \"showlegend\": true, \"subplot\": \"mapbox\", \"type\": \"scattermapbox\"}, {\"hoverlabel\": {\"namelength\": 0}, \"hovertemplate\": \"<b>%{hovertext}</b><br><br>city=Spangle<br>counts=%{marker.size}<br>latitude=%{lat}<br>longitude=%{lon}\", \"hovertext\": [99031.0], \"lat\": [47.432691], \"legendgroup\": \"city=Spangle\", \"lon\": [-117.37449], \"marker\": {\"color\": \"#636efa\", \"size\": [1], \"sizemode\": \"area\", \"sizeref\": 0.04}, \"mode\": \"markers\", \"name\": \"city=Spangle\", \"showlegend\": true, \"subplot\": \"mapbox\", \"type\": \"scattermapbox\"}, {\"hoverlabel\": {\"namelength\": 0}, \"hovertemplate\": \"<b>%{hovertext}</b><br><br>city=Rockford<br>counts=%{marker.size}<br>latitude=%{lat}<br>longitude=%{lon}\", \"hovertext\": [99030.0], \"lat\": [47.463725], \"legendgroup\": \"city=Rockford\", \"lon\": [-117.11318999999999], \"marker\": {\"color\": \"#EF553B\", \"size\": [1], \"sizemode\": \"area\", \"sizeref\": 0.04}, \"mode\": \"markers\", \"name\": \"city=Rockford\", \"showlegend\": true, \"subplot\": \"mapbox\", \"type\": \"scattermapbox\"}, {\"hoverlabel\": {\"namelength\": 0}, \"hovertemplate\": \"<b>%{hovertext}</b><br><br>city=Latah<br>counts=%{marker.size}<br>latitude=%{lat}<br>longitude=%{lon}\", \"hovertext\": [99018.0], \"lat\": [47.277842], \"legendgroup\": \"city=Latah\", \"lon\": [-117.13638999999999], \"marker\": {\"color\": \"#00cc96\", \"size\": [1], \"sizemode\": \"area\", \"sizeref\": 0.04}, \"mode\": \"markers\", \"name\": \"city=Latah\", \"showlegend\": true, \"subplot\": \"mapbox\", \"type\": \"scattermapbox\"}, {\"hoverlabel\": {\"namelength\": 0}, \"hovertemplate\": \"<b>%{hovertext}</b><br><br>city=Otis Orchards<br>counts=%{marker.size}<br>latitude=%{lat}<br>longitude=%{lon}\", \"hovertext\": [99027.0], \"lat\": [47.703697999999996], \"legendgroup\": \"city=Otis Orchards\", \"lon\": [-117.12007], \"marker\": {\"color\": \"#ab63fa\", \"size\": [1], \"sizemode\": \"area\", \"sizeref\": 0.04}, \"mode\": \"markers\", \"name\": \"city=Otis Orchards\", \"showlegend\": true, \"subplot\": \"mapbox\", \"type\": \"scattermapbox\"}, {\"hoverlabel\": {\"namelength\": 0}, \"hovertemplate\": \"<b>%{hovertext}</b><br><br>city=Newman Lake<br>counts=%{marker.size}<br>latitude=%{lat}<br>longitude=%{lon}\", \"hovertext\": [99025.0], \"lat\": [47.751434], \"legendgroup\": \"city=Newman Lake\", \"lon\": [-117.06934], \"marker\": {\"color\": \"#FFA15A\", \"size\": [1], \"sizemode\": \"area\", \"sizeref\": 0.04}, \"mode\": \"markers\", \"name\": \"city=Newman Lake\", \"showlegend\": true, \"subplot\": \"mapbox\", \"type\": \"scattermapbox\"}, {\"hoverlabel\": {\"namelength\": 0}, \"hovertemplate\": \"<b>%{hovertext}</b><br><br>city=Mica<br>counts=%{marker.size}<br>latitude=%{lat}<br>longitude=%{lon}\", \"hovertext\": [99023.0], \"lat\": [47.554592], \"legendgroup\": \"city=Mica\", \"lon\": [-117.18352], \"marker\": {\"color\": \"#19d3f3\", \"size\": [1], \"sizemode\": \"area\", \"sizeref\": 0.04}, \"mode\": \"markers\", \"name\": \"city=Mica\", \"showlegend\": true, \"subplot\": \"mapbox\", \"type\": \"scattermapbox\"}, {\"hoverlabel\": {\"namelength\": 0}, \"hovertemplate\": \"<b>%{hovertext}</b><br><br>city=Medical Lake<br>counts=%{marker.size}<br>latitude=%{lat}<br>longitude=%{lon}\", \"hovertext\": [99022.0], \"lat\": [47.583754], \"legendgroup\": \"city=Medical Lake\", \"lon\": [-117.68812], \"marker\": {\"color\": \"#FF6692\", \"size\": [1], \"sizemode\": \"area\", \"sizeref\": 0.04}, \"mode\": \"markers\", \"name\": \"city=Medical Lake\", \"showlegend\": true, \"subplot\": \"mapbox\", \"type\": \"scattermapbox\"}, {\"hoverlabel\": {\"namelength\": 0}, \"hovertemplate\": \"<b>%{hovertext}</b><br><br>city=Deer Park<br>counts=%{marker.size}<br>latitude=%{lat}<br>longitude=%{lon}\", \"hovertext\": [99006.0], \"lat\": [47.966471000000006], \"legendgroup\": \"city=Deer Park\", \"lon\": [-117.48145], \"marker\": {\"color\": \"#B6E880\", \"size\": [1], \"sizemode\": \"area\", \"sizeref\": 0.04}, \"mode\": \"markers\", \"name\": \"city=Deer Park\", \"showlegend\": true, \"subplot\": \"mapbox\", \"type\": \"scattermapbox\"}, {\"hoverlabel\": {\"namelength\": 0}, \"hovertemplate\": \"<b>%{hovertext}</b><br><br>city=Elk<br>counts=%{marker.size}<br>latitude=%{lat}<br>longitude=%{lon}\", \"hovertext\": [99009.0], \"lat\": [48.041663], \"legendgroup\": \"city=Elk\", \"lon\": [-117.24891000000001], \"marker\": {\"color\": \"#FF97FF\", \"size\": [1], \"sizemode\": \"area\", \"sizeref\": 0.04}, \"mode\": \"markers\", \"name\": \"city=Elk\", \"showlegend\": true, \"subplot\": \"mapbox\", \"type\": \"scattermapbox\"}, {\"hoverlabel\": {\"namelength\": 0}, \"hovertemplate\": \"<b>%{hovertext}</b><br><br>city=Fairchild Air Force Base<br>counts=%{marker.size}<br>latitude=%{lat}<br>longitude=%{lon}\", \"hovertext\": [99011.0], \"lat\": [47.595572], \"legendgroup\": \"city=Fairchild Air Force Base\", \"lon\": [-117.67343999999999], \"marker\": {\"color\": \"#FECB52\", \"size\": [1], \"sizemode\": \"area\", \"sizeref\": 0.04}, \"mode\": \"markers\", \"name\": \"city=Fairchild Air Force Base\", \"showlegend\": true, \"subplot\": \"mapbox\", \"type\": \"scattermapbox\"}, {\"hoverlabel\": {\"namelength\": 0}, \"hovertemplate\": \"<b>%{hovertext}</b><br><br>city=Fairfield<br>counts=%{marker.size}<br>latitude=%{lat}<br>longitude=%{lon}\", \"hovertext\": [99012.0], \"lat\": [47.383651], \"legendgroup\": \"city=Fairfield\", \"lon\": [-117.18568], \"marker\": {\"color\": \"#636efa\", \"size\": [1], \"sizemode\": \"area\", \"sizeref\": 0.04}, \"mode\": \"markers\", \"name\": \"city=Fairfield\", \"showlegend\": true, \"subplot\": \"mapbox\", \"type\": \"scattermapbox\"}, {\"hoverlabel\": {\"namelength\": 0}, \"hovertemplate\": \"<b>%{hovertext}</b><br><br>city=Marshall<br>counts=%{marker.size}<br>latitude=%{lat}<br>longitude=%{lon}\", \"hovertext\": [99020.0], \"lat\": [47.563190999999996], \"legendgroup\": \"city=Marshall\", \"lon\": [-117.4959], \"marker\": {\"color\": \"#EF553B\", \"size\": [1], \"sizemode\": \"area\", \"sizeref\": 0.04}, \"mode\": \"markers\", \"name\": \"city=Marshall\", \"showlegend\": true, \"subplot\": \"mapbox\", \"type\": \"scattermapbox\"}, {\"hoverlabel\": {\"namelength\": 0}, \"hovertemplate\": \"<b>%{hovertext}</b><br><br>city=Waverly<br>counts=%{marker.size}<br>latitude=%{lat}<br>longitude=%{lon}\", \"hovertext\": [99039.0], \"lat\": [47.329704], \"legendgroup\": \"city=Waverly\", \"lon\": [-117.24498100000001], \"marker\": {\"color\": \"#00cc96\", \"size\": [1], \"sizemode\": \"area\", \"sizeref\": 0.04}, \"mode\": \"markers\", \"name\": \"city=Waverly\", \"showlegend\": true, \"subplot\": \"mapbox\", \"type\": \"scattermapbox\"}],\n",
              "                        {\"legend\": {\"itemsizing\": \"constant\", \"tracegroupgap\": 0}, \"mapbox\": {\"center\": {\"lat\": 47.64509397222223, \"lon\": -117.33643113888888}, \"domain\": {\"x\": [0.0, 1.0], \"y\": [0.0, 1.0]}, \"style\": \"open-street-map\", \"zoom\": 4}, \"margin\": {\"t\": 60}, \"template\": {\"data\": {\"bar\": [{\"error_x\": {\"color\": \"#2a3f5f\"}, \"error_y\": {\"color\": \"#2a3f5f\"}, \"marker\": {\"line\": {\"color\": \"#E5ECF6\", \"width\": 0.5}}, \"type\": \"bar\"}], \"barpolar\": [{\"marker\": {\"line\": {\"color\": \"#E5ECF6\", \"width\": 0.5}}, \"type\": \"barpolar\"}], \"carpet\": [{\"aaxis\": {\"endlinecolor\": \"#2a3f5f\", \"gridcolor\": \"white\", \"linecolor\": \"white\", \"minorgridcolor\": \"white\", \"startlinecolor\": \"#2a3f5f\"}, \"baxis\": {\"endlinecolor\": \"#2a3f5f\", \"gridcolor\": \"white\", \"linecolor\": \"white\", \"minorgridcolor\": \"white\", \"startlinecolor\": \"#2a3f5f\"}, \"type\": \"carpet\"}], \"choropleth\": [{\"colorbar\": {\"outlinewidth\": 0, \"ticks\": \"\"}, \"type\": \"choropleth\"}], \"contour\": [{\"colorbar\": {\"outlinewidth\": 0, \"ticks\": \"\"}, \"colorscale\": [[0.0, \"#0d0887\"], [0.1111111111111111, \"#46039f\"], [0.2222222222222222, \"#7201a8\"], [0.3333333333333333, \"#9c179e\"], [0.4444444444444444, \"#bd3786\"], [0.5555555555555556, \"#d8576b\"], [0.6666666666666666, \"#ed7953\"], [0.7777777777777778, \"#fb9f3a\"], [0.8888888888888888, \"#fdca26\"], [1.0, \"#f0f921\"]], \"type\": \"contour\"}], \"contourcarpet\": [{\"colorbar\": {\"outlinewidth\": 0, \"ticks\": \"\"}, \"type\": \"contourcarpet\"}], \"heatmap\": [{\"colorbar\": {\"outlinewidth\": 0, \"ticks\": \"\"}, \"colorscale\": [[0.0, \"#0d0887\"], [0.1111111111111111, \"#46039f\"], [0.2222222222222222, \"#7201a8\"], [0.3333333333333333, \"#9c179e\"], [0.4444444444444444, \"#bd3786\"], [0.5555555555555556, \"#d8576b\"], [0.6666666666666666, \"#ed7953\"], [0.7777777777777778, \"#fb9f3a\"], [0.8888888888888888, \"#fdca26\"], [1.0, \"#f0f921\"]], \"type\": \"heatmap\"}], \"heatmapgl\": [{\"colorbar\": {\"outlinewidth\": 0, \"ticks\": \"\"}, \"colorscale\": [[0.0, \"#0d0887\"], [0.1111111111111111, \"#46039f\"], [0.2222222222222222, \"#7201a8\"], [0.3333333333333333, \"#9c179e\"], [0.4444444444444444, \"#bd3786\"], [0.5555555555555556, \"#d8576b\"], [0.6666666666666666, \"#ed7953\"], [0.7777777777777778, \"#fb9f3a\"], [0.8888888888888888, \"#fdca26\"], [1.0, \"#f0f921\"]], \"type\": \"heatmapgl\"}], \"histogram\": [{\"marker\": {\"colorbar\": {\"outlinewidth\": 0, \"ticks\": \"\"}}, \"type\": \"histogram\"}], \"histogram2d\": [{\"colorbar\": {\"outlinewidth\": 0, \"ticks\": \"\"}, \"colorscale\": [[0.0, \"#0d0887\"], [0.1111111111111111, \"#46039f\"], [0.2222222222222222, \"#7201a8\"], [0.3333333333333333, \"#9c179e\"], [0.4444444444444444, \"#bd3786\"], [0.5555555555555556, \"#d8576b\"], [0.6666666666666666, \"#ed7953\"], [0.7777777777777778, \"#fb9f3a\"], [0.8888888888888888, \"#fdca26\"], [1.0, \"#f0f921\"]], \"type\": \"histogram2d\"}], \"histogram2dcontour\": [{\"colorbar\": {\"outlinewidth\": 0, \"ticks\": \"\"}, \"colorscale\": [[0.0, \"#0d0887\"], [0.1111111111111111, \"#46039f\"], [0.2222222222222222, \"#7201a8\"], [0.3333333333333333, \"#9c179e\"], [0.4444444444444444, \"#bd3786\"], [0.5555555555555556, \"#d8576b\"], [0.6666666666666666, \"#ed7953\"], [0.7777777777777778, \"#fb9f3a\"], [0.8888888888888888, \"#fdca26\"], [1.0, \"#f0f921\"]], \"type\": \"histogram2dcontour\"}], \"mesh3d\": [{\"colorbar\": {\"outlinewidth\": 0, \"ticks\": \"\"}, \"type\": \"mesh3d\"}], \"parcoords\": [{\"line\": {\"colorbar\": {\"outlinewidth\": 0, \"ticks\": \"\"}}, \"type\": \"parcoords\"}], \"pie\": [{\"automargin\": true, \"type\": \"pie\"}], \"scatter\": [{\"marker\": {\"colorbar\": {\"outlinewidth\": 0, \"ticks\": \"\"}}, \"type\": \"scatter\"}], \"scatter3d\": [{\"line\": {\"colorbar\": {\"outlinewidth\": 0, \"ticks\": \"\"}}, \"marker\": {\"colorbar\": {\"outlinewidth\": 0, \"ticks\": \"\"}}, \"type\": \"scatter3d\"}], \"scattercarpet\": [{\"marker\": {\"colorbar\": {\"outlinewidth\": 0, \"ticks\": \"\"}}, \"type\": \"scattercarpet\"}], \"scattergeo\": [{\"marker\": {\"colorbar\": {\"outlinewidth\": 0, \"ticks\": \"\"}}, \"type\": \"scattergeo\"}], \"scattergl\": [{\"marker\": {\"colorbar\": {\"outlinewidth\": 0, \"ticks\": \"\"}}, \"type\": \"scattergl\"}], \"scattermapbox\": [{\"marker\": {\"colorbar\": {\"outlinewidth\": 0, \"ticks\": \"\"}}, \"type\": \"scattermapbox\"}], \"scatterpolar\": [{\"marker\": {\"colorbar\": {\"outlinewidth\": 0, \"ticks\": \"\"}}, \"type\": \"scatterpolar\"}], \"scatterpolargl\": [{\"marker\": {\"colorbar\": {\"outlinewidth\": 0, \"ticks\": \"\"}}, \"type\": \"scatterpolargl\"}], \"scatterternary\": [{\"marker\": {\"colorbar\": {\"outlinewidth\": 0, \"ticks\": \"\"}}, \"type\": \"scatterternary\"}], \"surface\": [{\"colorbar\": {\"outlinewidth\": 0, \"ticks\": \"\"}, \"colorscale\": [[0.0, \"#0d0887\"], [0.1111111111111111, \"#46039f\"], [0.2222222222222222, \"#7201a8\"], [0.3333333333333333, \"#9c179e\"], [0.4444444444444444, \"#bd3786\"], [0.5555555555555556, \"#d8576b\"], [0.6666666666666666, \"#ed7953\"], [0.7777777777777778, \"#fb9f3a\"], [0.8888888888888888, \"#fdca26\"], [1.0, \"#f0f921\"]], \"type\": \"surface\"}], \"table\": [{\"cells\": {\"fill\": {\"color\": \"#EBF0F8\"}, \"line\": {\"color\": \"white\"}}, \"header\": {\"fill\": {\"color\": \"#C8D4E3\"}, \"line\": {\"color\": \"white\"}}, \"type\": \"table\"}]}, \"layout\": {\"annotationdefaults\": {\"arrowcolor\": \"#2a3f5f\", \"arrowhead\": 0, \"arrowwidth\": 1}, \"coloraxis\": {\"colorbar\": {\"outlinewidth\": 0, \"ticks\": \"\"}}, \"colorscale\": {\"diverging\": [[0, \"#8e0152\"], [0.1, \"#c51b7d\"], [0.2, \"#de77ae\"], [0.3, \"#f1b6da\"], [0.4, \"#fde0ef\"], [0.5, \"#f7f7f7\"], [0.6, \"#e6f5d0\"], [0.7, \"#b8e186\"], [0.8, \"#7fbc41\"], [0.9, \"#4d9221\"], [1, \"#276419\"]], \"sequential\": [[0.0, \"#0d0887\"], [0.1111111111111111, \"#46039f\"], [0.2222222222222222, \"#7201a8\"], [0.3333333333333333, \"#9c179e\"], [0.4444444444444444, \"#bd3786\"], [0.5555555555555556, \"#d8576b\"], [0.6666666666666666, \"#ed7953\"], [0.7777777777777778, \"#fb9f3a\"], [0.8888888888888888, \"#fdca26\"], [1.0, \"#f0f921\"]], \"sequentialminus\": [[0.0, \"#0d0887\"], [0.1111111111111111, \"#46039f\"], [0.2222222222222222, \"#7201a8\"], [0.3333333333333333, \"#9c179e\"], [0.4444444444444444, \"#bd3786\"], [0.5555555555555556, \"#d8576b\"], [0.6666666666666666, \"#ed7953\"], [0.7777777777777778, \"#fb9f3a\"], [0.8888888888888888, \"#fdca26\"], [1.0, \"#f0f921\"]]}, \"colorway\": [\"#636efa\", \"#EF553B\", \"#00cc96\", \"#ab63fa\", \"#FFA15A\", \"#19d3f3\", \"#FF6692\", \"#B6E880\", \"#FF97FF\", \"#FECB52\"], \"font\": {\"color\": \"#2a3f5f\"}, \"geo\": {\"bgcolor\": \"white\", \"lakecolor\": \"white\", \"landcolor\": \"#E5ECF6\", \"showlakes\": true, \"showland\": true, \"subunitcolor\": \"white\"}, \"hoverlabel\": {\"align\": \"left\"}, \"hovermode\": \"closest\", \"mapbox\": {\"style\": \"light\"}, \"paper_bgcolor\": \"white\", \"plot_bgcolor\": \"#E5ECF6\", \"polar\": {\"angularaxis\": {\"gridcolor\": \"white\", \"linecolor\": \"white\", \"ticks\": \"\"}, \"bgcolor\": \"#E5ECF6\", \"radialaxis\": {\"gridcolor\": \"white\", \"linecolor\": \"white\", \"ticks\": \"\"}}, \"scene\": {\"xaxis\": {\"backgroundcolor\": \"#E5ECF6\", \"gridcolor\": \"white\", \"gridwidth\": 2, \"linecolor\": \"white\", \"showbackground\": true, \"ticks\": \"\", \"zerolinecolor\": \"white\"}, \"yaxis\": {\"backgroundcolor\": \"#E5ECF6\", \"gridcolor\": \"white\", \"gridwidth\": 2, \"linecolor\": \"white\", \"showbackground\": true, \"ticks\": \"\", \"zerolinecolor\": \"white\"}, \"zaxis\": {\"backgroundcolor\": \"#E5ECF6\", \"gridcolor\": \"white\", \"gridwidth\": 2, \"linecolor\": \"white\", \"showbackground\": true, \"ticks\": \"\", \"zerolinecolor\": \"white\"}}, \"shapedefaults\": {\"line\": {\"color\": \"#2a3f5f\"}}, \"ternary\": {\"aaxis\": {\"gridcolor\": \"white\", \"linecolor\": \"white\", \"ticks\": \"\"}, \"baxis\": {\"gridcolor\": \"white\", \"linecolor\": \"white\", \"ticks\": \"\"}, \"bgcolor\": \"#E5ECF6\", \"caxis\": {\"gridcolor\": \"white\", \"linecolor\": \"white\", \"ticks\": \"\"}}, \"title\": {\"x\": 0.05}, \"xaxis\": {\"automargin\": true, \"gridcolor\": \"white\", \"linecolor\": \"white\", \"ticks\": \"\", \"title\": {\"standoff\": 15}, \"zerolinecolor\": \"white\", \"zerolinewidth\": 2}, \"yaxis\": {\"automargin\": true, \"gridcolor\": \"white\", \"linecolor\": \"white\", \"ticks\": \"\", \"title\": {\"standoff\": 15}, \"zerolinecolor\": \"white\", \"zerolinewidth\": 2}}}},\n",
              "                        {\"responsive\": true}\n",
              "                    ).then(function(){\n",
              "                            \n",
              "var gd = document.getElementById('89b7d489-7a95-4b5e-8c3b-32b18d5992f4');\n",
              "var x = new MutationObserver(function (mutations, observer) {{\n",
              "        var display = window.getComputedStyle(gd).display;\n",
              "        if (!display || display === 'none') {{\n",
              "            console.log([gd, 'removed!']);\n",
              "            Plotly.purge(gd);\n",
              "            observer.disconnect();\n",
              "        }}\n",
              "}});\n",
              "\n",
              "// Listen for the removal of the full notebook cells\n",
              "var notebookContainer = gd.closest('#notebook-container');\n",
              "if (notebookContainer) {{\n",
              "    x.observe(notebookContainer, {childList: true});\n",
              "}}\n",
              "\n",
              "// Listen for the clearing of the current output cell\n",
              "var outputEl = gd.closest('.output');\n",
              "if (outputEl) {{\n",
              "    x.observe(outputEl, {childList: true});\n",
              "}}\n",
              "\n",
              "                        })\n",
              "                };\n",
              "                \n",
              "            </script>\n",
              "        </div>\n",
              "</body>\n",
              "</html>"
            ]
          },
          "metadata": {
            "tags": []
          }
        }
      ]
    }
  ]
}