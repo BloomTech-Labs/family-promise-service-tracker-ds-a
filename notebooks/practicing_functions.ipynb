{
 "metadata": {
  "language_info": {
   "codemirror_mode": {
    "name": "ipython",
    "version": 3
   },
   "file_extension": ".py",
   "mimetype": "text/x-python",
   "name": "python",
   "nbconvert_exporter": "python",
   "pygments_lexer": "ipython3",
   "version": "3.9.5"
  },
  "orig_nbformat": 4,
  "kernelspec": {
   "name": "python3",
   "display_name": "Python 3.9.5 64-bit ('family-promise-service-tracker-ds-a-wWfakoPa': pipenv)"
  },
  "interpreter": {
   "hash": "b3df403c0b4d61cf82cc6568758280197a7df9c9a2eb7573f16298522bafd4cc"
  }
 },
 "nbformat": 4,
 "nbformat_minor": 2,
 "cells": [
  {
   "cell_type": "code",
   "execution_count": 1,
   "metadata": {},
   "outputs": [],
   "source": [
    "import pandas as pd\n",
    "import plotly.express as px\n",
    "import geopy"
   ]
  },
  {
   "cell_type": "code",
   "execution_count": 2,
   "metadata": {},
   "outputs": [
    {
     "output_type": "execute_result",
     "data": {
      "text/plain": [
       "   client_id          full_name  gender  age service_description  \\\n",
       "0      54892  Mehetabel Aylmore    Male   20     Case Management   \n",
       "1      49499       Elga Raeburn  Female    9     Case Management   \n",
       "2      64034   Kimmie Richardot  Female    7     Case Management   \n",
       "3      42222       Adham Polack  Female   62     Case Management   \n",
       "4      45792       Jeff Winspar  Female    8      Transportation   \n",
       "\n",
       "                                             address   latitude   longitude  \\\n",
       "0      Gilman Dr W, Seattle, WA 98119, United States  47.636289 -122.371025   \n",
       "1  7th Avenue West, Seattle, WA 98119, United States  47.639123 -122.365667   \n",
       "2  West Lee Street, Seattle, WA 98119, United States  47.629724 -122.369483   \n",
       "3  8th Avenue West, Seattle, WA 98119, United States  47.638473 -122.369279   \n",
       "4       14th Ave W, Seattle, WA 98119, United States  47.632918 -122.372471   \n",
       "\n",
       "                 date  \n",
       "0  5/14/2018 12:00 AM  \n",
       "1  5/14/2018 12:00 AM  \n",
       "2  5/21/2018 12:00 AM  \n",
       "3  9/17/2018 12:00 AM  \n",
       "4  5/21/2018 12:00 AM  "
      ],
      "text/html": "<div>\n<style scoped>\n    .dataframe tbody tr th:only-of-type {\n        vertical-align: middle;\n    }\n\n    .dataframe tbody tr th {\n        vertical-align: top;\n    }\n\n    .dataframe thead th {\n        text-align: right;\n    }\n</style>\n<table border=\"1\" class=\"dataframe\">\n  <thead>\n    <tr style=\"text-align: right;\">\n      <th></th>\n      <th>client_id</th>\n      <th>full_name</th>\n      <th>gender</th>\n      <th>age</th>\n      <th>service_description</th>\n      <th>address</th>\n      <th>latitude</th>\n      <th>longitude</th>\n      <th>date</th>\n    </tr>\n  </thead>\n  <tbody>\n    <tr>\n      <th>0</th>\n      <td>54892</td>\n      <td>Mehetabel Aylmore</td>\n      <td>Male</td>\n      <td>20</td>\n      <td>Case Management</td>\n      <td>Gilman Dr W, Seattle, WA 98119, United States</td>\n      <td>47.636289</td>\n      <td>-122.371025</td>\n      <td>5/14/2018 12:00 AM</td>\n    </tr>\n    <tr>\n      <th>1</th>\n      <td>49499</td>\n      <td>Elga Raeburn</td>\n      <td>Female</td>\n      <td>9</td>\n      <td>Case Management</td>\n      <td>7th Avenue West, Seattle, WA 98119, United States</td>\n      <td>47.639123</td>\n      <td>-122.365667</td>\n      <td>5/14/2018 12:00 AM</td>\n    </tr>\n    <tr>\n      <th>2</th>\n      <td>64034</td>\n      <td>Kimmie Richardot</td>\n      <td>Female</td>\n      <td>7</td>\n      <td>Case Management</td>\n      <td>West Lee Street, Seattle, WA 98119, United States</td>\n      <td>47.629724</td>\n      <td>-122.369483</td>\n      <td>5/21/2018 12:00 AM</td>\n    </tr>\n    <tr>\n      <th>3</th>\n      <td>42222</td>\n      <td>Adham Polack</td>\n      <td>Female</td>\n      <td>62</td>\n      <td>Case Management</td>\n      <td>8th Avenue West, Seattle, WA 98119, United States</td>\n      <td>47.638473</td>\n      <td>-122.369279</td>\n      <td>9/17/2018 12:00 AM</td>\n    </tr>\n    <tr>\n      <th>4</th>\n      <td>45792</td>\n      <td>Jeff Winspar</td>\n      <td>Female</td>\n      <td>8</td>\n      <td>Transportation</td>\n      <td>14th Ave W, Seattle, WA 98119, United States</td>\n      <td>47.632918</td>\n      <td>-122.372471</td>\n      <td>5/21/2018 12:00 AM</td>\n    </tr>\n  </tbody>\n</table>\n</div>"
     },
     "metadata": {},
     "execution_count": 2
    }
   ],
   "source": [
    "data = pd.read_csv('../data/mock_data.csv')\n",
    "data.head()"
   ]
  },
  {
   "cell_type": "code",
   "execution_count": 3,
   "metadata": {},
   "outputs": [
    {
     "output_type": "execute_result",
     "data": {
      "text/plain": [
       "   client_id          full_name  gender  age service_description  \\\n",
       "0      54892  Mehetabel Aylmore    Male   20     Case Management   \n",
       "1      49499       Elga Raeburn  Female    9     Case Management   \n",
       "2      64034   Kimmie Richardot  Female    7     Case Management   \n",
       "3      42222       Adham Polack  Female   62     Case Management   \n",
       "4      45792       Jeff Winspar  Female    8      Transportation   \n",
       "\n",
       "                                             address   latitude   longitude  \\\n",
       "0      Gilman Dr W, Seattle, WA 98119, United States  47.636289 -122.371025   \n",
       "1  7th Avenue West, Seattle, WA 98119, United States  47.639123 -122.365667   \n",
       "2  West Lee Street, Seattle, WA 98119, United States  47.629724 -122.369483   \n",
       "3  8th Avenue West, Seattle, WA 98119, United States  47.638473 -122.369279   \n",
       "4       14th Ave W, Seattle, WA 98119, United States  47.632918 -122.372471   \n",
       "\n",
       "                 date  adult  \n",
       "0  5/14/2018 12:00 AM   True  \n",
       "1  5/14/2018 12:00 AM  False  \n",
       "2  5/21/2018 12:00 AM  False  \n",
       "3  9/17/2018 12:00 AM   True  \n",
       "4  5/21/2018 12:00 AM  False  "
      ],
      "text/html": "<div>\n<style scoped>\n    .dataframe tbody tr th:only-of-type {\n        vertical-align: middle;\n    }\n\n    .dataframe tbody tr th {\n        vertical-align: top;\n    }\n\n    .dataframe thead th {\n        text-align: right;\n    }\n</style>\n<table border=\"1\" class=\"dataframe\">\n  <thead>\n    <tr style=\"text-align: right;\">\n      <th></th>\n      <th>client_id</th>\n      <th>full_name</th>\n      <th>gender</th>\n      <th>age</th>\n      <th>service_description</th>\n      <th>address</th>\n      <th>latitude</th>\n      <th>longitude</th>\n      <th>date</th>\n      <th>adult</th>\n    </tr>\n  </thead>\n  <tbody>\n    <tr>\n      <th>0</th>\n      <td>54892</td>\n      <td>Mehetabel Aylmore</td>\n      <td>Male</td>\n      <td>20</td>\n      <td>Case Management</td>\n      <td>Gilman Dr W, Seattle, WA 98119, United States</td>\n      <td>47.636289</td>\n      <td>-122.371025</td>\n      <td>5/14/2018 12:00 AM</td>\n      <td>True</td>\n    </tr>\n    <tr>\n      <th>1</th>\n      <td>49499</td>\n      <td>Elga Raeburn</td>\n      <td>Female</td>\n      <td>9</td>\n      <td>Case Management</td>\n      <td>7th Avenue West, Seattle, WA 98119, United States</td>\n      <td>47.639123</td>\n      <td>-122.365667</td>\n      <td>5/14/2018 12:00 AM</td>\n      <td>False</td>\n    </tr>\n    <tr>\n      <th>2</th>\n      <td>64034</td>\n      <td>Kimmie Richardot</td>\n      <td>Female</td>\n      <td>7</td>\n      <td>Case Management</td>\n      <td>West Lee Street, Seattle, WA 98119, United States</td>\n      <td>47.629724</td>\n      <td>-122.369483</td>\n      <td>5/21/2018 12:00 AM</td>\n      <td>False</td>\n    </tr>\n    <tr>\n      <th>3</th>\n      <td>42222</td>\n      <td>Adham Polack</td>\n      <td>Female</td>\n      <td>62</td>\n      <td>Case Management</td>\n      <td>8th Avenue West, Seattle, WA 98119, United States</td>\n      <td>47.638473</td>\n      <td>-122.369279</td>\n      <td>9/17/2018 12:00 AM</td>\n      <td>True</td>\n    </tr>\n    <tr>\n      <th>4</th>\n      <td>45792</td>\n      <td>Jeff Winspar</td>\n      <td>Female</td>\n      <td>8</td>\n      <td>Transportation</td>\n      <td>14th Ave W, Seattle, WA 98119, United States</td>\n      <td>47.632918</td>\n      <td>-122.372471</td>\n      <td>5/21/2018 12:00 AM</td>\n      <td>False</td>\n    </tr>\n  </tbody>\n</table>\n</div>"
     },
     "metadata": {},
     "execution_count": 3
    }
   ],
   "source": [
    "data.loc[data['age'] < 18, 'adult'] = False\n",
    "data.loc[data['age'] >= 18, 'adult'] = True\n",
    "\n",
    "data.head()"
   ]
  },
  {
   "cell_type": "code",
   "execution_count": 4,
   "metadata": {},
   "outputs": [
    {
     "output_type": "display_data",
     "data": {
      "application/vnd.plotly.v1+json": {
       "config": {
        "plotlyServerURL": "https://plotly.com"
       },
       "data": [
        {
         "alignmentgroup": "True",
         "hovertemplate": "variable=adult<br>Adult ?=%{x}<br>Count=%{y}<extra></extra>",
         "legendgroup": "adult",
         "marker": {
          "color": "#636efa"
         },
         "name": "adult",
         "offsetgroup": "adult",
         "orientation": "v",
         "showlegend": true,
         "textposition": "auto",
         "type": "bar",
         "x": [
          true,
          false
         ],
         "xaxis": "x",
         "y": [
          776,
          224
         ],
         "yaxis": "y"
        }
       ],
       "layout": {
        "barmode": "relative",
        "legend": {
         "title": {
          "text": "variable"
         },
         "tracegroupgap": 0
        },
        "showlegend": false,
        "template": {
         "data": {
          "bar": [
           {
            "error_x": {
             "color": "#2a3f5f"
            },
            "error_y": {
             "color": "#2a3f5f"
            },
            "marker": {
             "line": {
              "color": "#E5ECF6",
              "width": 0.5
             }
            },
            "type": "bar"
           }
          ],
          "barpolar": [
           {
            "marker": {
             "line": {
              "color": "#E5ECF6",
              "width": 0.5
             }
            },
            "type": "barpolar"
           }
          ],
          "carpet": [
           {
            "aaxis": {
             "endlinecolor": "#2a3f5f",
             "gridcolor": "white",
             "linecolor": "white",
             "minorgridcolor": "white",
             "startlinecolor": "#2a3f5f"
            },
            "baxis": {
             "endlinecolor": "#2a3f5f",
             "gridcolor": "white",
             "linecolor": "white",
             "minorgridcolor": "white",
             "startlinecolor": "#2a3f5f"
            },
            "type": "carpet"
           }
          ],
          "choropleth": [
           {
            "colorbar": {
             "outlinewidth": 0,
             "ticks": ""
            },
            "type": "choropleth"
           }
          ],
          "contour": [
           {
            "colorbar": {
             "outlinewidth": 0,
             "ticks": ""
            },
            "colorscale": [
             [
              0,
              "#0d0887"
             ],
             [
              0.1111111111111111,
              "#46039f"
             ],
             [
              0.2222222222222222,
              "#7201a8"
             ],
             [
              0.3333333333333333,
              "#9c179e"
             ],
             [
              0.4444444444444444,
              "#bd3786"
             ],
             [
              0.5555555555555556,
              "#d8576b"
             ],
             [
              0.6666666666666666,
              "#ed7953"
             ],
             [
              0.7777777777777778,
              "#fb9f3a"
             ],
             [
              0.8888888888888888,
              "#fdca26"
             ],
             [
              1,
              "#f0f921"
             ]
            ],
            "type": "contour"
           }
          ],
          "contourcarpet": [
           {
            "colorbar": {
             "outlinewidth": 0,
             "ticks": ""
            },
            "type": "contourcarpet"
           }
          ],
          "heatmap": [
           {
            "colorbar": {
             "outlinewidth": 0,
             "ticks": ""
            },
            "colorscale": [
             [
              0,
              "#0d0887"
             ],
             [
              0.1111111111111111,
              "#46039f"
             ],
             [
              0.2222222222222222,
              "#7201a8"
             ],
             [
              0.3333333333333333,
              "#9c179e"
             ],
             [
              0.4444444444444444,
              "#bd3786"
             ],
             [
              0.5555555555555556,
              "#d8576b"
             ],
             [
              0.6666666666666666,
              "#ed7953"
             ],
             [
              0.7777777777777778,
              "#fb9f3a"
             ],
             [
              0.8888888888888888,
              "#fdca26"
             ],
             [
              1,
              "#f0f921"
             ]
            ],
            "type": "heatmap"
           }
          ],
          "heatmapgl": [
           {
            "colorbar": {
             "outlinewidth": 0,
             "ticks": ""
            },
            "colorscale": [
             [
              0,
              "#0d0887"
             ],
             [
              0.1111111111111111,
              "#46039f"
             ],
             [
              0.2222222222222222,
              "#7201a8"
             ],
             [
              0.3333333333333333,
              "#9c179e"
             ],
             [
              0.4444444444444444,
              "#bd3786"
             ],
             [
              0.5555555555555556,
              "#d8576b"
             ],
             [
              0.6666666666666666,
              "#ed7953"
             ],
             [
              0.7777777777777778,
              "#fb9f3a"
             ],
             [
              0.8888888888888888,
              "#fdca26"
             ],
             [
              1,
              "#f0f921"
             ]
            ],
            "type": "heatmapgl"
           }
          ],
          "histogram": [
           {
            "marker": {
             "colorbar": {
              "outlinewidth": 0,
              "ticks": ""
             }
            },
            "type": "histogram"
           }
          ],
          "histogram2d": [
           {
            "colorbar": {
             "outlinewidth": 0,
             "ticks": ""
            },
            "colorscale": [
             [
              0,
              "#0d0887"
             ],
             [
              0.1111111111111111,
              "#46039f"
             ],
             [
              0.2222222222222222,
              "#7201a8"
             ],
             [
              0.3333333333333333,
              "#9c179e"
             ],
             [
              0.4444444444444444,
              "#bd3786"
             ],
             [
              0.5555555555555556,
              "#d8576b"
             ],
             [
              0.6666666666666666,
              "#ed7953"
             ],
             [
              0.7777777777777778,
              "#fb9f3a"
             ],
             [
              0.8888888888888888,
              "#fdca26"
             ],
             [
              1,
              "#f0f921"
             ]
            ],
            "type": "histogram2d"
           }
          ],
          "histogram2dcontour": [
           {
            "colorbar": {
             "outlinewidth": 0,
             "ticks": ""
            },
            "colorscale": [
             [
              0,
              "#0d0887"
             ],
             [
              0.1111111111111111,
              "#46039f"
             ],
             [
              0.2222222222222222,
              "#7201a8"
             ],
             [
              0.3333333333333333,
              "#9c179e"
             ],
             [
              0.4444444444444444,
              "#bd3786"
             ],
             [
              0.5555555555555556,
              "#d8576b"
             ],
             [
              0.6666666666666666,
              "#ed7953"
             ],
             [
              0.7777777777777778,
              "#fb9f3a"
             ],
             [
              0.8888888888888888,
              "#fdca26"
             ],
             [
              1,
              "#f0f921"
             ]
            ],
            "type": "histogram2dcontour"
           }
          ],
          "mesh3d": [
           {
            "colorbar": {
             "outlinewidth": 0,
             "ticks": ""
            },
            "type": "mesh3d"
           }
          ],
          "parcoords": [
           {
            "line": {
             "colorbar": {
              "outlinewidth": 0,
              "ticks": ""
             }
            },
            "type": "parcoords"
           }
          ],
          "pie": [
           {
            "automargin": true,
            "type": "pie"
           }
          ],
          "scatter": [
           {
            "marker": {
             "colorbar": {
              "outlinewidth": 0,
              "ticks": ""
             }
            },
            "type": "scatter"
           }
          ],
          "scatter3d": [
           {
            "line": {
             "colorbar": {
              "outlinewidth": 0,
              "ticks": ""
             }
            },
            "marker": {
             "colorbar": {
              "outlinewidth": 0,
              "ticks": ""
             }
            },
            "type": "scatter3d"
           }
          ],
          "scattercarpet": [
           {
            "marker": {
             "colorbar": {
              "outlinewidth": 0,
              "ticks": ""
             }
            },
            "type": "scattercarpet"
           }
          ],
          "scattergeo": [
           {
            "marker": {
             "colorbar": {
              "outlinewidth": 0,
              "ticks": ""
             }
            },
            "type": "scattergeo"
           }
          ],
          "scattergl": [
           {
            "marker": {
             "colorbar": {
              "outlinewidth": 0,
              "ticks": ""
             }
            },
            "type": "scattergl"
           }
          ],
          "scattermapbox": [
           {
            "marker": {
             "colorbar": {
              "outlinewidth": 0,
              "ticks": ""
             }
            },
            "type": "scattermapbox"
           }
          ],
          "scatterpolar": [
           {
            "marker": {
             "colorbar": {
              "outlinewidth": 0,
              "ticks": ""
             }
            },
            "type": "scatterpolar"
           }
          ],
          "scatterpolargl": [
           {
            "marker": {
             "colorbar": {
              "outlinewidth": 0,
              "ticks": ""
             }
            },
            "type": "scatterpolargl"
           }
          ],
          "scatterternary": [
           {
            "marker": {
             "colorbar": {
              "outlinewidth": 0,
              "ticks": ""
             }
            },
            "type": "scatterternary"
           }
          ],
          "surface": [
           {
            "colorbar": {
             "outlinewidth": 0,
             "ticks": ""
            },
            "colorscale": [
             [
              0,
              "#0d0887"
             ],
             [
              0.1111111111111111,
              "#46039f"
             ],
             [
              0.2222222222222222,
              "#7201a8"
             ],
             [
              0.3333333333333333,
              "#9c179e"
             ],
             [
              0.4444444444444444,
              "#bd3786"
             ],
             [
              0.5555555555555556,
              "#d8576b"
             ],
             [
              0.6666666666666666,
              "#ed7953"
             ],
             [
              0.7777777777777778,
              "#fb9f3a"
             ],
             [
              0.8888888888888888,
              "#fdca26"
             ],
             [
              1,
              "#f0f921"
             ]
            ],
            "type": "surface"
           }
          ],
          "table": [
           {
            "cells": {
             "fill": {
              "color": "#EBF0F8"
             },
             "line": {
              "color": "white"
             }
            },
            "header": {
             "fill": {
              "color": "#C8D4E3"
             },
             "line": {
              "color": "white"
             }
            },
            "type": "table"
           }
          ]
         },
         "layout": {
          "annotationdefaults": {
           "arrowcolor": "#2a3f5f",
           "arrowhead": 0,
           "arrowwidth": 1
          },
          "autotypenumbers": "strict",
          "coloraxis": {
           "colorbar": {
            "outlinewidth": 0,
            "ticks": ""
           }
          },
          "colorscale": {
           "diverging": [
            [
             0,
             "#8e0152"
            ],
            [
             0.1,
             "#c51b7d"
            ],
            [
             0.2,
             "#de77ae"
            ],
            [
             0.3,
             "#f1b6da"
            ],
            [
             0.4,
             "#fde0ef"
            ],
            [
             0.5,
             "#f7f7f7"
            ],
            [
             0.6,
             "#e6f5d0"
            ],
            [
             0.7,
             "#b8e186"
            ],
            [
             0.8,
             "#7fbc41"
            ],
            [
             0.9,
             "#4d9221"
            ],
            [
             1,
             "#276419"
            ]
           ],
           "sequential": [
            [
             0,
             "#0d0887"
            ],
            [
             0.1111111111111111,
             "#46039f"
            ],
            [
             0.2222222222222222,
             "#7201a8"
            ],
            [
             0.3333333333333333,
             "#9c179e"
            ],
            [
             0.4444444444444444,
             "#bd3786"
            ],
            [
             0.5555555555555556,
             "#d8576b"
            ],
            [
             0.6666666666666666,
             "#ed7953"
            ],
            [
             0.7777777777777778,
             "#fb9f3a"
            ],
            [
             0.8888888888888888,
             "#fdca26"
            ],
            [
             1,
             "#f0f921"
            ]
           ],
           "sequentialminus": [
            [
             0,
             "#0d0887"
            ],
            [
             0.1111111111111111,
             "#46039f"
            ],
            [
             0.2222222222222222,
             "#7201a8"
            ],
            [
             0.3333333333333333,
             "#9c179e"
            ],
            [
             0.4444444444444444,
             "#bd3786"
            ],
            [
             0.5555555555555556,
             "#d8576b"
            ],
            [
             0.6666666666666666,
             "#ed7953"
            ],
            [
             0.7777777777777778,
             "#fb9f3a"
            ],
            [
             0.8888888888888888,
             "#fdca26"
            ],
            [
             1,
             "#f0f921"
            ]
           ]
          },
          "colorway": [
           "#636efa",
           "#EF553B",
           "#00cc96",
           "#ab63fa",
           "#FFA15A",
           "#19d3f3",
           "#FF6692",
           "#B6E880",
           "#FF97FF",
           "#FECB52"
          ],
          "font": {
           "color": "#2a3f5f"
          },
          "geo": {
           "bgcolor": "white",
           "lakecolor": "white",
           "landcolor": "#E5ECF6",
           "showlakes": true,
           "showland": true,
           "subunitcolor": "white"
          },
          "hoverlabel": {
           "align": "left"
          },
          "hovermode": "closest",
          "mapbox": {
           "style": "light"
          },
          "paper_bgcolor": "white",
          "plot_bgcolor": "#E5ECF6",
          "polar": {
           "angularaxis": {
            "gridcolor": "white",
            "linecolor": "white",
            "ticks": ""
           },
           "bgcolor": "#E5ECF6",
           "radialaxis": {
            "gridcolor": "white",
            "linecolor": "white",
            "ticks": ""
           }
          },
          "scene": {
           "xaxis": {
            "backgroundcolor": "#E5ECF6",
            "gridcolor": "white",
            "gridwidth": 2,
            "linecolor": "white",
            "showbackground": true,
            "ticks": "",
            "zerolinecolor": "white"
           },
           "yaxis": {
            "backgroundcolor": "#E5ECF6",
            "gridcolor": "white",
            "gridwidth": 2,
            "linecolor": "white",
            "showbackground": true,
            "ticks": "",
            "zerolinecolor": "white"
           },
           "zaxis": {
            "backgroundcolor": "#E5ECF6",
            "gridcolor": "white",
            "gridwidth": 2,
            "linecolor": "white",
            "showbackground": true,
            "ticks": "",
            "zerolinecolor": "white"
           }
          },
          "shapedefaults": {
           "line": {
            "color": "#2a3f5f"
           }
          },
          "ternary": {
           "aaxis": {
            "gridcolor": "white",
            "linecolor": "white",
            "ticks": ""
           },
           "baxis": {
            "gridcolor": "white",
            "linecolor": "white",
            "ticks": ""
           },
           "bgcolor": "#E5ECF6",
           "caxis": {
            "gridcolor": "white",
            "linecolor": "white",
            "ticks": ""
           }
          },
          "title": {
           "x": 0.05
          },
          "xaxis": {
           "automargin": true,
           "gridcolor": "white",
           "linecolor": "white",
           "ticks": "",
           "title": {
            "standoff": 15
           },
           "zerolinecolor": "white",
           "zerolinewidth": 2
          },
          "yaxis": {
           "automargin": true,
           "gridcolor": "white",
           "linecolor": "white",
           "ticks": "",
           "title": {
            "standoff": 15
           },
           "zerolinecolor": "white",
           "zerolinewidth": 2
          }
         }
        },
        "title": {
         "text": "Count of Children and Adults Served by Family Promise"
        },
        "xaxis": {
         "anchor": "y",
         "domain": [
          0,
          1
         ],
         "title": {
          "text": "Adult ?"
         }
        },
        "yaxis": {
         "anchor": "x",
         "domain": [
          0,
          1
         ],
         "title": {
          "text": "Count"
         }
        }
       }
      }
     },
     "metadata": {}
    }
   ],
   "source": [
    "adult_child_counts = data['adult'].value_counts()\n",
    "\n",
    "adult_child_count_fig = px.bar(\n",
    "    adult_child_counts, \n",
    "    labels={'index': 'Adult ?', 'value': 'Count'}, \n",
    "    title='Count of Children and Adults Served by Family Promise'\n",
    ")\n",
    "adult_child_count_fig.update_layout(showlegend=False)\n",
    "adult_child_count_fig.show()"
   ]
  },
  {
   "cell_type": "code",
   "execution_count": 19,
   "metadata": {},
   "outputs": [
    {
     "output_type": "display_data",
     "data": {
      "application/vnd.plotly.v1+json": {
       "config": {
        "plotlyServerURL": "https://plotly.com"
       },
       "data": [
        {
         "customdata": [
          [
           "Case Management",
           47.63628904,
           -122.3710252
          ],
          [
           "Case Management",
           47.63912312,
           -122.3656665
          ],
          [
           "Case Management",
           47.62972413,
           -122.3694832
          ],
          [
           "Case Management",
           47.6384732,
           -122.3692791
          ],
          [
           "Case Management",
           47.63052548,
           -122.3661741
          ],
          [
           "Case Management",
           47.63660545,
           -122.3685191
          ],
          [
           "Case Management",
           47.63548171,
           -122.3584778
          ],
          [
           "Case Management",
           47.63721408,
           -122.3600458
          ],
          [
           "Case Management",
           47.63554551,
           -122.3731708
          ],
          [
           "Case Management",
           47.62950681,
           -122.3676293
          ],
          [
           "Case Management",
           47.63920266,
           -122.3658627
          ],
          [
           "Case Management",
           47.63564979,
           -122.3728928
          ],
          [
           "Case Management",
           47.62620037,
           -122.3666019
          ],
          [
           "Case Management",
           47.64064588,
           -122.3724059
          ],
          [
           "Case Management",
           47.63977587,
           -122.3722354
          ],
          [
           "Case Management",
           47.63602478,
           -122.3586936
          ],
          [
           "Case Management",
           47.62794034,
           -122.3649587
          ],
          [
           "Case Management",
           47.63637426,
           -122.3610334
          ],
          [
           "Case Management",
           47.63563222,
           -122.3588809
          ],
          [
           "Case Management",
           47.63339396,
           -122.3719199
          ],
          [
           "Case Management",
           47.63851671,
           -122.369581
          ],
          [
           "Case Management",
           47.63139735,
           -122.3677669
          ],
          [
           "Case Management",
           47.63875224,
           -122.3679727
          ],
          [
           "Case Management",
           47.62990712,
           -122.3689481
          ],
          [
           "Case Management",
           47.63981587,
           -122.3743385
          ],
          [
           "Case Management",
           47.63900778,
           -122.3653201
          ],
          [
           "Case Management",
           47.64063323,
           -122.3727094
          ],
          [
           "Case Management",
           47.63812149,
           -122.37579
          ],
          [
           "Case Management",
           47.62981553,
           -122.3662123
          ],
          [
           "Case Management",
           47.63981019,
           -122.3738006
          ],
          [
           "Case Management",
           47.63556952,
           -122.3616526
          ],
          [
           "Case Management",
           47.63497873,
           -122.3588694
          ],
          [
           "Case Management",
           47.6393621,
           -122.3724026
          ],
          [
           "Case Management",
           47.63461628,
           -122.3580227
          ],
          [
           "Case Management",
           47.63800138,
           -122.3610048
          ],
          [
           "Case Management",
           47.63199585,
           -122.3716577
          ],
          [
           "Case Management",
           47.63868624,
           -122.3707999
          ],
          [
           "Case Management",
           47.63365004,
           -122.3604497
          ],
          [
           "Case Management",
           47.63430018,
           -122.3570598
          ],
          [
           "Case Management",
           47.62834387,
           -122.3664054
          ],
          [
           "Case Management",
           47.63539394,
           -122.3689911
          ],
          [
           "Case Management",
           47.63803516,
           -122.3609101
          ],
          [
           "Case Management",
           47.63933159,
           -122.3615994
          ],
          [
           "Case Management",
           47.63530805,
           -122.3665317
          ],
          [
           "Case Management",
           47.63737488,
           -122.3694109
          ],
          [
           "Case Management",
           47.63829757,
           -122.3737787
          ],
          [
           "Case Management",
           47.63175344,
           -122.3712717
          ],
          [
           "Case Management",
           47.63858056,
           -122.3753257
          ],
          [
           "Case Management",
           47.63788372,
           -122.3673711
          ],
          [
           "Case Management",
           47.63751735,
           -122.3608117
          ],
          [
           "Case Management",
           47.63687418,
           -122.3722717
          ],
          [
           "Case Management",
           47.63256274,
           -122.3672228
          ],
          [
           "Case Management",
           47.63532192,
           -122.3661211
          ],
          [
           "Case Management",
           47.63263391,
           -122.3693184
          ],
          [
           "Case Management",
           47.63260004,
           -122.3699524
          ],
          [
           "Case Management",
           47.64152493,
           -122.3761504
          ],
          [
           "Case Management",
           47.6353107,
           -122.3635056
          ],
          [
           "Case Management",
           47.66932717,
           -122.3925936
          ],
          [
           "Case Management",
           47.67407416,
           -122.3938641
          ],
          [
           "Case Management",
           47.67362807,
           -122.389302
          ],
          [
           "Case Management",
           47.66845996,
           -122.379516
          ],
          [
           "Case Management",
           47.67066232,
           -122.3786659
          ],
          [
           "Case Management",
           47.67264618,
           -122.389333
          ],
          [
           "Case Management",
           47.67317538,
           -122.3822596
          ],
          [
           "Case Management",
           47.667933,
           -122.3786525
          ],
          [
           "Case Management",
           47.67296864,
           -122.3973382
          ],
          [
           "Case Management",
           47.66862742,
           -122.3894959
          ],
          [
           "Case Management",
           47.67011138,
           -122.3938693
          ],
          [
           "Case Management",
           47.6716905,
           -122.3852391
          ],
          [
           "Case Management",
           47.67083618,
           -122.3925371
          ],
          [
           "Case Management",
           47.67088677,
           -122.3930293
          ],
          [
           "Case Management",
           47.67011497,
           -122.3929944
          ],
          [
           "Case Management",
           47.67430793,
           -122.3767423
          ],
          [
           "Case Management",
           47.67125039,
           -122.3826391
          ],
          [
           "Case Management",
           47.66869206,
           -122.3960894
          ],
          [
           "Case Management",
           47.67180552,
           -122.3880471
          ],
          [
           "Case Management",
           47.6714184,
           -122.3853854
          ],
          [
           "Case Management",
           47.66874895,
           -122.38387
          ],
          [
           "Case Management",
           47.67268172,
           -122.3877307
          ],
          [
           "Case Management",
           47.66968185,
           -122.3909885
          ],
          [
           "Case Management",
           47.67504404,
           -122.3827149
          ],
          [
           "Case Management",
           47.66797917,
           -122.3821054
          ],
          [
           "Case Management",
           47.67324985,
           -122.3873317
          ],
          [
           "Case Management",
           47.67553327,
           -122.376324
          ],
          [
           "Case Management",
           47.67570811,
           -122.3875594
          ],
          [
           "Case Management",
           47.67477103,
           -122.3858305
          ],
          [
           "Case Management",
           47.66987432,
           -122.3877174
          ],
          [
           "Case Management",
           47.67097576,
           -122.3878253
          ],
          [
           "Case Management",
           47.67333939,
           -122.3951203
          ],
          [
           "Case Management",
           47.67100489,
           -122.3813814
          ],
          [
           "Case Management",
           47.67170353,
           -122.3763381
          ],
          [
           "Case Management",
           47.67175997,
           -122.3900201
          ],
          [
           "Case Management",
           47.67481867,
           -122.3875212
          ],
          [
           "Case Management",
           47.67300401,
           -122.3850048
          ],
          [
           "Case Management",
           47.67039453,
           -122.393897
          ],
          [
           "Case Management",
           47.67582152,
           -122.3897101
          ],
          [
           "Case Management",
           47.67228446,
           -122.3823135
          ],
          [
           "Case Management",
           47.67227237,
           -122.3841322
          ],
          [
           "Case Management",
           47.67575024,
           -122.3765799
          ],
          [
           "Case Management",
           47.67260212,
           -122.3884415
          ],
          [
           "Case Management",
           47.67180998,
           -122.3834372
          ],
          [
           "Case Management",
           47.66898921,
           -122.3951453
          ],
          [
           "Case Management",
           47.6693543,
           -122.3903476
          ],
          [
           "Case Management",
           47.67166568,
           -122.3779123
          ],
          [
           "Case Management",
           47.67058142,
           -122.3822112
          ],
          [
           "Case Management",
           47.67210896,
           -122.3835885
          ],
          [
           "Case Management",
           47.67145807,
           -122.3791745
          ],
          [
           "Case Management",
           47.67155977,
           -122.382704
          ],
          [
           "Case Management",
           47.67397129,
           -122.3893805
          ],
          [
           "Case Management",
           47.6736071,
           -122.3938029
          ],
          [
           "Case Management",
           47.6719218,
           -122.3806568
          ],
          [
           "Case Management",
           47.66934544,
           -122.3969735
          ],
          [
           "Case Management",
           47.66746398,
           -122.3782553
          ],
          [
           "Case Management",
           47.67181197,
           -122.3889813
          ],
          [
           "Case Management",
           47.67082046,
           -122.3705111
          ],
          [
           "Case Management",
           47.6637344,
           -122.3620801
          ],
          [
           "Case Management",
           47.6675968,
           -122.3647017
          ],
          [
           "Case Management",
           47.67053238,
           -122.3653185
          ],
          [
           "Case Management",
           47.66676677,
           -122.3688235
          ],
          [
           "Case Management",
           47.67235398,
           -122.3661749
          ],
          [
           "Case Management",
           47.66583687,
           -122.3701323
          ],
          [
           "Case Management",
           47.66578734,
           -122.3619923
          ],
          [
           "Case Management",
           47.67228263,
           -122.3731616
          ],
          [
           "Case Management",
           47.66835401,
           -122.3611388
          ],
          [
           "Case Management",
           47.66893752,
           -122.3733392
          ],
          [
           "Case Management",
           47.66525243,
           -122.3619207
          ],
          [
           "Case Management",
           47.67133442,
           -122.3657976
          ],
          [
           "Case Management",
           47.67307821,
           -122.3641401
          ],
          [
           "Case Management",
           47.64269717,
           -122.3436911
          ],
          [
           "Case Management",
           47.63892301,
           -122.3428269
          ],
          [
           "Case Management",
           47.64291211,
           -122.3446833
          ],
          [
           "Case Management",
           47.63934586,
           -122.3431324
          ],
          [
           "Case Management",
           47.63507293,
           -122.3545941
          ],
          [
           "Case Management",
           47.62857355,
           -122.3559092
          ],
          [
           "Case Management",
           47.63793826,
           -122.3507256
          ],
          [
           "Case Management",
           47.62930931,
           -122.3441362
          ],
          [
           "Case Management",
           47.62954816,
           -122.3465966
          ],
          [
           "Case Management",
           47.63444164,
           -122.3437841
          ],
          [
           "Case Management",
           47.63211913,
           -122.3468193
          ],
          [
           "Case Management",
           47.63043465,
           -122.3501712
          ],
          [
           "Case Management",
           47.63840684,
           -122.344077
          ],
          [
           "Case Management",
           47.62900387,
           -122.3438233
          ],
          [
           "Case Management",
           47.63935867,
           -122.3440287
          ],
          [
           "Case Management",
           47.64011972,
           -122.3445298
          ],
          [
           "Case Management",
           47.63815778,
           -122.3441574
          ],
          [
           "Case Management",
           47.63453262,
           -122.3437901
          ],
          [
           "Case Management",
           47.62994743,
           -122.351388
          ],
          [
           "Case Management",
           47.63192143,
           -122.3485203
          ],
          [
           "Case Management",
           47.64154276,
           -122.3446612
          ],
          [
           "Case Management",
           47.63812903,
           -122.352374
          ],
          [
           "Case Management",
           47.63685503,
           -122.3568735
          ],
          [
           "Case Management",
           47.63630285,
           -122.3478271
          ],
          [
           "Case Management",
           47.63770585,
           -122.3439878
          ],
          [
           "Case Management",
           47.64051553,
           -122.344504
          ],
          [
           "Case Management",
           47.63000397,
           -122.3451203
          ],
          [
           "Case Management",
           47.62963743,
           -122.3561691
          ],
          [
           "Case Management",
           47.63736553,
           -122.352344
          ],
          [
           "Case Management",
           47.63784754,
           -122.3535869
          ],
          [
           "Case Management",
           47.63180066,
           -122.3559977
          ],
          [
           "Case Management",
           47.63831372,
           -122.3429312
          ],
          [
           "Case Management",
           47.62833641,
           -122.3463335
          ],
          [
           "Case Management",
           47.64007889,
           -122.3452415
          ],
          [
           "Case Management",
           47.63892542,
           -122.3562882
          ],
          [
           "Case Management",
           47.64001746,
           -122.3451296
          ],
          [
           "Case Management",
           47.63879043,
           -122.341579
          ],
          [
           "Case Management",
           47.62919531,
           -122.3480345
          ],
          [
           "Case Management",
           47.6393371,
           -122.3442914
          ],
          [
           "Case Management",
           47.63033292,
           -122.3476269
          ],
          [
           "Case Management",
           47.65386101,
           -122.3384965
          ],
          [
           "Case Management",
           47.66772999,
           -122.3268727
          ],
          [
           "Case Management",
           47.66144065,
           -122.343953
          ],
          [
           "Case Management",
           47.66166903,
           -122.3337431
          ],
          [
           "Case Management",
           47.65317216,
           -122.3372994
          ],
          [
           "Case Management",
           47.66458664,
           -122.3330577
          ],
          [
           "Case Management",
           47.66407098,
           -122.3353794
          ],
          [
           "Case Management",
           47.65389856,
           -122.3380692
          ],
          [
           "Case Management",
           47.66618274,
           -122.3346106
          ],
          [
           "Case Management",
           47.66150339,
           -122.334257
          ],
          [
           "Case Management",
           47.66922781,
           -122.3351737
          ],
          [
           "Case Management",
           47.66414745,
           -122.3342495
          ],
          [
           "Case Management",
           47.64857217,
           -122.3407591
          ],
          [
           "Case Management",
           47.66735094,
           -122.3399228
          ],
          [
           "Case Management",
           47.65097251,
           -122.3308842
          ],
          [
           "Case Management",
           47.6618228,
           -122.3293007
          ],
          [
           "Case Management",
           47.65129392,
           -122.3310318
          ],
          [
           "Case Management",
           47.64983061,
           -122.3343314
          ],
          [
           "Case Management",
           47.65945121,
           -122.3291367
          ],
          [
           "Case Management",
           47.66947906,
           -122.3294415
          ],
          [
           "Case Management",
           47.66097944,
           -122.333483
          ],
          [
           "Case Management",
           47.66846777,
           -122.3266958
          ],
          [
           "Case Management",
           47.66521357,
           -122.336753
          ],
          [
           "Case Management",
           47.66116478,
           -122.3368463
          ],
          [
           "Case Management",
           47.65098656,
           -122.3417048
          ],
          [
           "Case Management",
           47.65512858,
           -122.3352882
          ],
          [
           "Case Management",
           47.65021119,
           -122.3320348
          ],
          [
           "Case Management",
           47.65020661,
           -122.3311043
          ],
          [
           "Case Management",
           47.66432019,
           -122.3291753
          ],
          [
           "Case Management",
           47.66291652,
           -122.3267233
          ],
          [
           "Case Management",
           47.67081358,
           -122.3274855
          ],
          [
           "Case Management",
           47.65491445,
           -122.3380752
          ],
          [
           "Case Management",
           47.6658025,
           -122.3387674
          ],
          [
           "Case Management",
           47.65254159,
           -122.3387686
          ],
          [
           "Case Management",
           47.65899259,
           -122.3246634
          ],
          [
           "Case Management",
           47.66800609,
           -122.329389
          ],
          [
           "Case Management",
           47.65708273,
           -122.3265511
          ],
          [
           "Case Management",
           47.67096385,
           -122.3288633
          ],
          [
           "Case Management",
           47.66191806,
           -122.3249912
          ],
          [
           "Case Management",
           47.65099402,
           -122.332345
          ],
          [
           "Case Management",
           47.66752608,
           -122.3289111
          ],
          [
           "Case Management",
           47.65127573,
           -122.3327965
          ],
          [
           "Case Management",
           47.66422711,
           -122.3390493
          ],
          [
           "Case Management",
           47.66121706,
           -122.3394242
          ],
          [
           "Case Management",
           47.6624767,
           -122.3326592
          ],
          [
           "Case Management",
           47.66369278,
           -122.3283657
          ],
          [
           "Case Management",
           47.66440368,
           -122.3381274
          ],
          [
           "Case Management",
           47.65478743,
           -122.3365199
          ],
          [
           "Case Management",
           47.65014725,
           -122.3417705
          ],
          [
           "Case Management",
           47.64923604,
           -122.3321802
          ],
          [
           "Case Management",
           47.67169513,
           -122.3248793
          ],
          [
           "Case Management",
           47.64784967,
           -122.3360788
          ],
          [
           "Case Management",
           47.65105573,
           -122.3309857
          ],
          [
           "Case Management",
           47.64811529,
           -122.3316654
          ],
          [
           "Case Management",
           47.65437002,
           -122.3278962
          ],
          [
           "Case Management",
           47.67146344,
           -122.3341332
          ],
          [
           "Case Management",
           47.65837647,
           -122.3267655
          ],
          [
           "Case Management",
           47.66536801,
           -122.3399943
          ],
          [
           "Case Management",
           47.65938706,
           -122.3418815
          ],
          [
           "Case Management",
           47.64169151,
           -122.359255
          ],
          [
           "Case Management",
           47.64977536,
           -122.3579828
          ],
          [
           "Case Management",
           47.64235821,
           -122.3740468
          ],
          [
           "Case Management",
           47.64262214,
           -122.3643547
          ],
          [
           "Case Management",
           47.64689454,
           -122.3614399
          ],
          [
           "Case Management",
           47.65186066,
           -122.3649937
          ],
          [
           "Case Management",
           47.64758832,
           -122.3588954
          ],
          [
           "Case Management",
           47.64665844,
           -122.3568149
          ],
          [
           "Case Management",
           47.64530245,
           -122.3609061
          ],
          [
           "Case Management",
           47.64528801,
           -122.3726424
          ],
          [
           "Case Management",
           47.64353088,
           -122.3608339
          ],
          [
           "Case Management",
           47.64145151,
           -122.3741879
          ],
          [
           "Case Management",
           47.64491325,
           -122.3734628
          ],
          [
           "Case Management",
           47.64141466,
           -122.365496
          ],
          [
           "Case Management",
           47.64652744,
           -122.3543343
          ],
          [
           "Case Management",
           47.65079525,
           -122.3723846
          ],
          [
           "Case Management",
           47.6399253,
           -122.3674313
          ],
          [
           "Case Management",
           47.64238208,
           -122.3720728
          ],
          [
           "Case Management",
           47.64265654,
           -122.3581082
          ],
          [
           "Case Management",
           47.64519299,
           -122.3758195
          ],
          [
           "Case Management",
           47.64410466,
           -122.3706796
          ],
          [
           "Case Management",
           47.64362433,
           -122.3674237
          ],
          [
           "Case Management",
           47.65017304,
           -122.3676004
          ],
          [
           "Case Management",
           47.65058977,
           -122.3712286
          ],
          [
           "Case Management",
           47.64939343,
           -122.3755835
          ],
          [
           "Case Management",
           47.64341119,
           -122.3627156
          ],
          [
           "Case Management",
           47.643435,
           -122.3730079
          ],
          [
           "Case Management",
           47.64413086,
           -122.3562992
          ],
          [
           "Case Management",
           47.64598072,
           -122.3512444
          ],
          [
           "Case Management",
           47.6527602,
           -122.3687842
          ],
          [
           "Case Management",
           47.64328624,
           -122.3758186
          ],
          [
           "Case Management",
           47.64152919,
           -122.3567093
          ],
          [
           "Case Management",
           47.6472569,
           -122.3593189
          ],
          [
           "Case Management",
           47.64721551,
           -122.3566966
          ],
          [
           "Case Management",
           47.646883,
           -122.354231
          ],
          [
           "Case Management",
           47.64719277,
           -122.3589062
          ],
          [
           "Case Management",
           47.64478716,
           -122.3513144
          ],
          [
           "Case Management",
           47.64535059,
           -122.3751942
          ],
          [
           "Case Management",
           47.64936686,
           -122.3722474
          ],
          [
           "Case Management",
           47.64314986,
           -122.3589524
          ],
          [
           "Case Management",
           47.64215181,
           -122.3695928
          ],
          [
           "Case Management",
           47.64783678,
           -122.3561688
          ],
          [
           "Case Management",
           47.64402085,
           -122.3755716
          ],
          [
           "Case Management",
           47.64266228,
           -122.371084
          ],
          [
           "Case Management",
           47.67701505,
           -122.3308477
          ],
          [
           "Case Management",
           47.68826555,
           -122.3358555
          ],
          [
           "Case Management",
           47.67373141,
           -122.3345713
          ],
          [
           "Case Management",
           47.6897677,
           -122.3346466
          ],
          [
           "Case Management",
           47.67467647,
           -122.3334962
          ],
          [
           "Case Management",
           47.67335778,
           -122.3273253
          ],
          [
           "Case Management",
           47.67491184,
           -122.3252381
          ],
          [
           "Case Management",
           47.67452613,
           -122.333473
          ],
          [
           "Case Management",
           47.68226061,
           -122.34345
          ],
          [
           "Case Management",
           47.67556915,
           -122.332773
          ],
          [
           "Case Management",
           47.67650239,
           -122.3255528
          ],
          [
           "Case Management",
           47.67605812,
           -122.3232793
          ],
          [
           "Case Management",
           47.67633824,
           -122.3295859
          ],
          [
           "Case Management",
           47.6780561,
           -122.3222456
          ],
          [
           "Case Management",
           47.68770668,
           -122.3357777
          ],
          [
           "Case Management",
           47.69044857,
           -122.3421874
          ],
          [
           "Case Management",
           47.67552251,
           -122.3242977
          ],
          [
           "Case Management",
           47.67232267,
           -122.3219423
          ],
          [
           "Case Management",
           47.68532979,
           -122.3248518
          ],
          [
           "Case Management",
           47.68378067,
           -122.3420128
          ],
          [
           "Case Management",
           47.68354474,
           -122.3309111
          ],
          [
           "Case Management",
           47.67468991,
           -122.3324155
          ],
          [
           "Case Management",
           47.6858705,
           -122.327567
          ],
          [
           "Case Management",
           47.68009638,
           -122.3234211
          ],
          [
           "Case Management",
           47.67314449,
           -122.3259531
          ],
          [
           "Case Management",
           47.67659659,
           -122.3307759
          ],
          [
           "Case Management",
           47.67644022,
           -122.3274933
          ],
          [
           "Case Management",
           47.68427308,
           -122.3266159
          ],
          [
           "Case Management",
           47.68724568,
           -122.3346957
          ],
          [
           "Case Management",
           47.67345534,
           -122.3372121
          ],
          [
           "Case Management",
           47.68833693,
           -122.3439074
          ],
          [
           "Case Management",
           47.67132207,
           -122.3368268
          ],
          [
           "Case Management",
           47.67478054,
           -122.3246218
          ],
          [
           "Case Management",
           47.68190776,
           -122.3278534
          ],
          [
           "Case Management",
           47.67513918,
           -122.3332839
          ],
          [
           "Case Management",
           47.67572403,
           -122.3246928
          ],
          [
           "Case Management",
           47.68110584,
           -122.3239465
          ],
          [
           "Case Management",
           47.67673937,
           -122.3301907
          ],
          [
           "Case Management",
           47.68653224,
           -122.3377733
          ],
          [
           "Case Management",
           47.68890691,
           -122.3340131
          ],
          [
           "Case Management",
           47.63347386,
           -122.3434448
          ],
          [
           "Case Management",
           47.62794326,
           -122.3412705
          ],
          [
           "Case Management",
           47.62866402,
           -122.3427092
          ],
          [
           "Case Management",
           47.63201049,
           -122.3427368
          ],
          [
           "Case Management",
           47.63296627,
           -122.3413052
          ],
          [
           "Case Management",
           47.63340284,
           -122.3426307
          ],
          [
           "Case Management",
           47.63119424,
           -122.3413036
          ],
          [
           "Case Management",
           47.63619004,
           -122.3425886
          ],
          [
           "Case Management",
           47.63615549,
           -122.3404212
          ],
          [
           "Case Management",
           47.63262639,
           -122.3418006
          ],
          [
           "Case Management",
           47.63167352,
           -122.3405082
          ],
          [
           "Case Management",
           47.63730097,
           -122.3401569
          ],
          [
           "Case Management",
           47.62937474,
           -122.3397464
          ],
          [
           "Case Management",
           47.62715965,
           -122.3432228
          ],
          [
           "Case Management",
           47.62820157,
           -122.343516
          ],
          [
           "Case Management",
           47.63435769,
           -122.3409903
          ],
          [
           "Case Management",
           47.62001637,
           -122.2998046
          ],
          [
           "Case Management",
           47.61331951,
           -122.3005669
          ],
          [
           "Case Management",
           47.61375392,
           -122.3004575
          ],
          [
           "Case Management",
           47.62191137,
           -122.2975011
          ],
          [
           "Case Management",
           47.61825285,
           -122.2984679
          ],
          [
           "Case Management",
           47.61305967,
           -122.297385
          ],
          [
           "Case Management",
           47.60312697,
           -122.3006707
          ],
          [
           "Case Management",
           47.62091627,
           -122.2979149
          ],
          [
           "Case Management",
           47.61219763,
           -122.2977715
          ],
          [
           "Case Management",
           47.61608361,
           -122.2981707
          ],
          [
           "Case Management",
           47.60327025,
           -122.3021606
          ],
          [
           "Case Management",
           47.617632,
           -122.3005565
          ],
          [
           "Case Management",
           47.61780091,
           -122.3000238
          ],
          [
           "Case Management",
           47.62039309,
           -122.2995755
          ],
          [
           "Case Management",
           47.61982203,
           -122.2979645
          ],
          [
           "Case Management",
           47.61894868,
           -122.2983498
          ],
          [
           "Case Management",
           47.61110455,
           -122.2991321
          ],
          [
           "Case Management",
           47.60921741,
           -122.3025701
          ],
          [
           "Case Management",
           47.60846512,
           -122.2968542
          ],
          [
           "Case Management",
           47.61215749,
           -122.3011966
          ],
          [
           "Case Management",
           47.62013918,
           -122.2963572
          ],
          [
           "Case Management",
           47.61532061,
           -122.30176
          ],
          [
           "Case Management",
           47.62022332,
           -122.2985775
          ],
          [
           "Case Management",
           47.61518001,
           -122.3016135
          ],
          [
           "Case Management",
           47.6128511,
           -122.2996815
          ],
          [
           "Case Management",
           47.61323754,
           -122.2976686
          ],
          [
           "Case Management",
           47.61398129,
           -122.2967398
          ],
          [
           "Case Management",
           47.61893324,
           -122.2998512
          ],
          [
           "Case Management",
           47.61297673,
           -122.3014731
          ],
          [
           "Case Management",
           47.61379617,
           -122.3007285
          ],
          [
           "Case Management",
           47.61942863,
           -122.2982765
          ],
          [
           "Case Management",
           47.61119778,
           -122.3010867
          ],
          [
           "Case Management",
           47.6182221,
           -122.2985362
          ],
          [
           "Case Management",
           47.6101556,
           -122.3024077
          ],
          [
           "Case Management",
           47.61831634,
           -122.2900493
          ],
          [
           "Case Management",
           47.61635682,
           -122.291336
          ],
          [
           "Case Management",
           47.61356638,
           -122.2900576
          ],
          [
           "Case Management",
           47.60926371,
           -122.2857323
          ],
          [
           "Case Management",
           47.61619938,
           -122.2911922
          ],
          [
           "Case Management",
           47.60823705,
           -122.2900896
          ],
          [
           "Case Management",
           47.60974857,
           -122.2901086
          ],
          [
           "Case Management",
           47.60814372,
           -122.2919629
          ],
          [
           "Case Management",
           47.61498154,
           -122.2835697
          ],
          [
           "Case Management",
           47.61853609,
           -122.2957238
          ],
          [
           "Case Management",
           47.61251153,
           -122.2899442
          ],
          [
           "Case Management",
           47.61121662,
           -122.2960782
          ],
          [
           "Case Management",
           47.61601739,
           -122.2926619
          ],
          [
           "Case Management",
           47.6101887,
           -122.2921704
          ],
          [
           "Case Management",
           47.61152475,
           -122.2888187
          ],
          [
           "Case Management",
           47.61126858,
           -122.2914648
          ],
          [
           "Case Management",
           47.61568371,
           -122.285174
          ],
          [
           "Case Management",
           47.61593276,
           -122.2853141
          ],
          [
           "Case Management",
           47.61750858,
           -122.2920226
          ],
          [
           "Case Management",
           47.61589742,
           -122.2820429
          ],
          [
           "Case Management",
           47.61519939,
           -122.2941785
          ],
          [
           "Case Management",
           47.60808439,
           -122.2943425
          ],
          [
           "Case Management",
           47.61625334,
           -122.2930666
          ],
          [
           "Case Management",
           47.61512549,
           -122.2944282
          ],
          [
           "Case Management",
           47.61171081,
           -122.287723
          ],
          [
           "Case Management",
           47.66339352,
           -122.3114961
          ],
          [
           "Case Management",
           47.6613099,
           -122.3100722
          ],
          [
           "Case Management",
           47.6645209,
           -122.3095983
          ],
          [
           "Case Management",
           47.65737284,
           -122.3146063
          ],
          [
           "Case Management",
           47.66637834,
           -122.3168925
          ],
          [
           "Case Management",
           47.6589087,
           -122.3147936
          ],
          [
           "Case Management",
           47.66218141,
           -122.3133911
          ],
          [
           "Case Management",
           47.65732954,
           -122.3178094
          ],
          [
           "Case Management",
           47.66695593,
           -122.3155975
          ],
          [
           "Case Management",
           47.65917007,
           -122.3165354
          ],
          [
           "Case Management",
           47.66456191,
           -122.3083994
          ],
          [
           "Case Management",
           47.65760578,
           -122.3144447
          ],
          [
           "Case Management",
           47.66239538,
           -122.3146298
          ],
          [
           "Case Management",
           47.6630712,
           -122.3130173
          ],
          [
           "Case Management",
           47.67056917,
           -122.3157949
          ],
          [
           "Case Management",
           47.65641449,
           -122.3172383
          ],
          [
           "Case Management",
           47.66169364,
           -122.3129142
          ],
          [
           "Case Management",
           47.66314544,
           -122.313413
          ],
          [
           "Case Management",
           47.65730353,
           -122.3186601
          ],
          [
           "Case Management",
           47.65741764,
           -122.3206441
          ],
          [
           "Case Management",
           47.6643652,
           -122.3032258
          ],
          [
           "Case Management",
           47.66757538,
           -122.3187156
          ],
          [
           "Case Management",
           47.66825152,
           -122.3094497
          ],
          [
           "Case Management",
           47.65962584,
           -122.3174207
          ],
          [
           "Case Management",
           47.65753036,
           -122.3178532
          ],
          [
           "Case Management",
           47.6593293,
           -122.3134565
          ],
          [
           "Case Management",
           47.66145428,
           -122.3129249
          ],
          [
           "Case Management",
           47.66749233,
           -122.3152824
          ],
          [
           "Case Management",
           47.66667724,
           -122.3163437
          ],
          [
           "Case Management",
           47.66622474,
           -122.3176093
          ],
          [
           "Case Management",
           47.65865765,
           -122.3189667
          ],
          [
           "Case Management",
           47.6713697,
           -122.3157987
          ],
          [
           "Case Management",
           47.66311747,
           -122.3188134
          ],
          [
           "Case Management",
           47.66818255,
           -122.3173717
          ],
          [
           "Case Management",
           47.65712478,
           -122.3178221
          ],
          [
           "Case Management",
           47.65700652,
           -122.3196197
          ],
          [
           "Case Management",
           47.66709569,
           -122.3168086
          ],
          [
           "Case Management",
           47.66580428,
           -122.3208876
          ],
          [
           "Case Management",
           47.66250162,
           -122.3134163
          ],
          [
           "Case Management",
           47.6669145,
           -122.3142734
          ],
          [
           "Case Management",
           47.66125018,
           -122.3143933
          ],
          [
           "Case Management",
           47.66581866,
           -122.3031713
          ],
          [
           "Case Management",
           47.66765063,
           -122.3194801
          ],
          [
           "Case Management",
           47.67119879,
           -122.3150932
          ],
          [
           "Case Management",
           47.66132295,
           -122.3149835
          ],
          [
           "Case Management",
           47.66443671,
           -122.3067381
          ],
          [
           "Case Management",
           47.66101092,
           -122.3137344
          ],
          [
           "Case Management",
           47.6626723,
           -122.3043698
          ],
          [
           "Case Management",
           47.65895309,
           -122.3219786
          ],
          [
           "Case Management",
           47.66148495,
           -122.3156934
          ],
          [
           "Case Management",
           47.66852258,
           -122.315454
          ],
          [
           "Case Management",
           47.66948569,
           -122.3145501
          ],
          [
           "Case Management",
           47.66129401,
           -122.313182
          ],
          [
           "Case Management",
           47.66317893,
           -122.3039904
          ],
          [
           "Case Management",
           47.66404703,
           -122.3182195
          ],
          [
           "Case Management",
           47.66871493,
           -122.3163162
          ],
          [
           "Case Management",
           47.66312229,
           -122.3098396
          ],
          [
           "Case Management",
           47.65836316,
           -122.3180063
          ],
          [
           "Case Management",
           47.66044158,
           -122.3137683
          ],
          [
           "Case Management",
           47.65877003,
           -122.3136904
          ],
          [
           "Case Management",
           47.65825774,
           -122.313566
          ],
          [
           "Case Management",
           47.66154612,
           -122.3147937
          ],
          [
           "Case Management",
           47.66856587,
           -122.307462
          ],
          [
           "Case Management",
           47.65883581,
           -122.3181496
          ],
          [
           "Case Management",
           47.65721706,
           -122.3142329
          ],
          [
           "Case Management",
           47.6669221,
           -122.3172019
          ],
          [
           "Case Management",
           47.66299472,
           -122.3102215
          ],
          [
           "Case Management",
           47.65824886,
           -122.3176389
          ],
          [
           "Case Management",
           47.65856121,
           -122.3160866
          ],
          [
           "Case Management",
           47.66147374,
           -122.3135628
          ],
          [
           "Case Management",
           47.66765748,
           -122.3178072
          ],
          [
           "Case Management",
           47.65665819,
           -122.3203138
          ],
          [
           "Case Management",
           47.66270103,
           -122.3097321
          ],
          [
           "Case Management",
           47.66448575,
           -122.3046706
          ],
          [
           "Case Management",
           47.6623606,
           -122.302424
          ],
          [
           "Case Management",
           47.65863155,
           -122.3177664
          ],
          [
           "Case Management",
           47.66321788,
           -122.3043709
          ],
          [
           "Case Management",
           47.66713218,
           -122.3164489
          ],
          [
           "Case Management",
           47.66313458,
           -122.3145582
          ],
          [
           "Case Management",
           47.66396766,
           -122.3065185
          ],
          [
           "Case Management",
           47.65731409,
           -122.31976
          ],
          [
           "Case Management",
           47.65860891,
           -122.317713
          ],
          [
           "Case Management",
           47.65688213,
           -122.318273
          ],
          [
           "Case Management",
           47.67160466,
           -122.3157654
          ],
          [
           "Case Management",
           47.65697102,
           -122.3189181
          ],
          [
           "Case Management",
           47.66391817,
           -122.3113423
          ],
          [
           "Case Management",
           47.66902314,
           -122.3158825
          ],
          [
           "Case Management",
           47.66353217,
           -122.3114915
          ],
          [
           "Case Management",
           47.66881617,
           -122.3184417
          ],
          [
           "Case Management",
           47.65741412,
           -122.3158241
          ],
          [
           "Case Management",
           47.6604882,
           -122.3148349
          ],
          [
           "Case Management",
           47.65697036,
           -122.3157798
          ],
          [
           "Case Management",
           47.61893903,
           -122.2921234
          ],
          [
           "Case Management",
           47.61839318,
           -122.2867806
          ],
          [
           "Case Management",
           47.62536071,
           -122.2915178
          ],
          [
           "Case Management",
           47.60950173,
           -122.3117716
          ],
          [
           "Case Management",
           47.60676849,
           -122.3134377
          ],
          [
           "Case Management",
           47.60510734,
           -122.3037078
          ],
          [
           "Case Management",
           47.6119061,
           -122.3033487
          ],
          [
           "Case Management",
           47.61136902,
           -122.3145287
          ],
          [
           "Case Management",
           47.61351809,
           -122.3116054
          ],
          [
           "Case Management",
           47.61109191,
           -122.3066484
          ],
          [
           "Case Management",
           47.61562815,
           -122.3078369
          ],
          [
           "Case Management",
           47.6125167,
           -122.3143453
          ],
          [
           "Case Management",
           47.61397307,
           -122.3078883
          ],
          [
           "Case Management",
           47.60518579,
           -122.3123022
          ],
          [
           "Case Management",
           47.6124754,
           -122.308582
          ],
          [
           "Case Management",
           47.60552279,
           -122.3075301
          ],
          [
           "Case Management",
           47.60562332,
           -122.3089055
          ],
          [
           "Case Management",
           47.61025306,
           -122.3050493
          ],
          [
           "Case Management",
           47.60315576,
           -122.3098553
          ],
          [
           "Case Management",
           47.60440567,
           -122.3054291
          ],
          [
           "Case Management",
           47.61067856,
           -122.3126715
          ],
          [
           "Case Management",
           47.61577894,
           -122.3068259
          ],
          [
           "Case Management",
           47.60977692,
           -122.3130001
          ],
          [
           "Case Management",
           47.60614936,
           -122.3038575
          ],
          [
           "Case Management",
           47.60661261,
           -122.3066379
          ],
          [
           "Case Management",
           47.60591073,
           -122.305446
          ],
          [
           "Case Management",
           47.60338844,
           -122.307437
          ],
          [
           "Case Management",
           47.61173102,
           -122.3082675
          ],
          [
           "Case Management",
           47.61111051,
           -122.3119619
          ],
          [
           "Case Management",
           47.61107513,
           -122.3136267
          ],
          [
           "Case Management",
           47.61600214,
           -122.3080604
          ],
          [
           "Case Management",
           47.61017418,
           -122.3127992
          ],
          [
           "Case Management",
           47.60620715,
           -122.3068346
          ],
          [
           "Case Management",
           47.6097965,
           -122.3153297
          ],
          [
           "Case Management",
           47.61040169,
           -122.313874
          ],
          [
           "Case Management",
           47.60994589,
           -122.3156373
          ],
          [
           "Case Management",
           47.60956186,
           -122.3150989
          ],
          [
           "Case Management",
           47.6115353,
           -122.3143253
          ],
          [
           "Case Management",
           47.61065564,
           -122.3140728
          ],
          [
           "Case Management",
           47.6029395,
           -122.3084089
          ],
          [
           "Case Management",
           47.61002734,
           -122.3043664
          ],
          [
           "Case Management",
           47.61035829,
           -122.3140323
          ],
          [
           "Case Management",
           47.60415027,
           -122.3032345
          ],
          [
           "Case Management",
           47.60213708,
           -122.3141425
          ],
          [
           "Case Management",
           47.61241593,
           -122.314504
          ],
          [
           "Case Management",
           47.61122138,
           -122.3069443
          ],
          [
           "Case Management",
           47.60767917,
           -122.3157153
          ],
          [
           "Case Management",
           47.60547479,
           -122.3094775
          ],
          [
           "Case Management",
           47.61350092,
           -122.312752
          ],
          [
           "Case Management",
           47.60192242,
           -122.3079787
          ],
          [
           "Case Management",
           47.61327641,
           -122.3149974
          ],
          [
           "Case Management",
           47.61180057,
           -122.3141614
          ],
          [
           "Case Management",
           47.60941768,
           -122.3121007
          ],
          [
           "Case Management",
           47.61561719,
           -122.3043458
          ],
          [
           "Case Management",
           47.60794615,
           -122.3075402
          ],
          [
           "Case Management",
           47.60409559,
           -122.3054089
          ],
          [
           "Case Management",
           47.61108859,
           -122.3158229
          ],
          [
           "Case Management",
           47.6100663,
           -122.3048812
          ],
          [
           "Case Management",
           47.60550178,
           -122.3038369
          ],
          [
           "Case Management",
           47.61369416,
           -122.3073254
          ],
          [
           "Case Management",
           47.61243073,
           -122.3158974
          ],
          [
           "Case Management",
           47.61722524,
           -122.3026362
          ],
          [
           "Case Management",
           47.61350303,
           -122.3108026
          ],
          [
           "Case Management",
           47.61587834,
           -122.307739
          ],
          [
           "Case Management",
           47.60254407,
           -122.3098644
          ],
          [
           "Case Management",
           47.60260013,
           -122.3095147
          ],
          [
           "Case Management",
           47.6107524,
           -122.312152
          ],
          [
           "Case Management",
           47.61396248,
           -122.3041849
          ],
          [
           "Case Management",
           47.61245587,
           -122.3148894
          ],
          [
           "Case Management",
           47.61093716,
           -122.3107331
          ],
          [
           "Case Management",
           47.61240201,
           -122.3112072
          ],
          [
           "Case Management",
           47.61092049,
           -122.3134896
          ],
          [
           "Case Management",
           47.61210627,
           -122.3041249
          ],
          [
           "Case Management",
           47.59266596,
           -122.2975618
          ],
          [
           "Case Management",
           47.60238656,
           -122.295347
          ],
          [
           "Case Management",
           47.59526163,
           -122.2972129
          ],
          [
           "Case Management",
           47.60744831,
           -122.2938155
          ],
          [
           "Case Management",
           47.59431107,
           -122.2944084
          ],
          [
           "Case Management",
           47.60459749,
           -122.296725
          ],
          [
           "Case Management",
           47.59259852,
           -122.2955471
          ],
          [
           "Case Management",
           47.59206643,
           -122.2935655
          ],
          [
           "Case Management",
           47.60382449,
           -122.2932511
          ],
          [
           "Case Management",
           47.59172642,
           -122.2959851
          ],
          [
           "Case Management",
           47.59482904,
           -122.295632
          ],
          [
           "Case Management",
           47.59394152,
           -122.291088
          ],
          [
           "Case Management",
           47.60070745,
           -122.2932732
          ],
          [
           "Case Management",
           47.60582903,
           -122.2852102
          ],
          [
           "Case Management",
           47.5957085,
           -122.2975686
          ],
          [
           "Case Management",
           47.60639203,
           -122.2906124
          ],
          [
           "Case Management",
           47.59708807,
           -122.2973948
          ],
          [
           "Case Management",
           47.59880163,
           -122.2924761
          ],
          [
           "Case Management",
           47.5944386,
           -122.2938703
          ],
          [
           "Case Management",
           47.60297419,
           -122.2934195
          ],
          [
           "Case Management",
           47.60568442,
           -122.2953598
          ],
          [
           "Case Management",
           47.59465847,
           -122.2954107
          ],
          [
           "Case Management",
           47.60778218,
           -122.2892843
          ],
          [
           "Case Management",
           47.60475367,
           -122.2943826
          ]
         ],
         "hovertemplate": "<b>%{hovertext}</b><br><br><extra></extra>",
         "hovertext": [
          "Case Management",
          "Case Management",
          "Case Management",
          "Case Management",
          "Case Management",
          "Case Management",
          "Case Management",
          "Case Management",
          "Case Management",
          "Case Management",
          "Case Management",
          "Case Management",
          "Case Management",
          "Case Management",
          "Case Management",
          "Case Management",
          "Case Management",
          "Case Management",
          "Case Management",
          "Case Management",
          "Case Management",
          "Case Management",
          "Case Management",
          "Case Management",
          "Case Management",
          "Case Management",
          "Case Management",
          "Case Management",
          "Case Management",
          "Case Management",
          "Case Management",
          "Case Management",
          "Case Management",
          "Case Management",
          "Case Management",
          "Case Management",
          "Case Management",
          "Case Management",
          "Case Management",
          "Case Management",
          "Case Management",
          "Case Management",
          "Case Management",
          "Case Management",
          "Case Management",
          "Case Management",
          "Case Management",
          "Case Management",
          "Case Management",
          "Case Management",
          "Case Management",
          "Case Management",
          "Case Management",
          "Case Management",
          "Case Management",
          "Case Management",
          "Case Management",
          "Case Management",
          "Case Management",
          "Case Management",
          "Case Management",
          "Case Management",
          "Case Management",
          "Case Management",
          "Case Management",
          "Case Management",
          "Case Management",
          "Case Management",
          "Case Management",
          "Case Management",
          "Case Management",
          "Case Management",
          "Case Management",
          "Case Management",
          "Case Management",
          "Case Management",
          "Case Management",
          "Case Management",
          "Case Management",
          "Case Management",
          "Case Management",
          "Case Management",
          "Case Management",
          "Case Management",
          "Case Management",
          "Case Management",
          "Case Management",
          "Case Management",
          "Case Management",
          "Case Management",
          "Case Management",
          "Case Management",
          "Case Management",
          "Case Management",
          "Case Management",
          "Case Management",
          "Case Management",
          "Case Management",
          "Case Management",
          "Case Management",
          "Case Management",
          "Case Management",
          "Case Management",
          "Case Management",
          "Case Management",
          "Case Management",
          "Case Management",
          "Case Management",
          "Case Management",
          "Case Management",
          "Case Management",
          "Case Management",
          "Case Management",
          "Case Management",
          "Case Management",
          "Case Management",
          "Case Management",
          "Case Management",
          "Case Management",
          "Case Management",
          "Case Management",
          "Case Management",
          "Case Management",
          "Case Management",
          "Case Management",
          "Case Management",
          "Case Management",
          "Case Management",
          "Case Management",
          "Case Management",
          "Case Management",
          "Case Management",
          "Case Management",
          "Case Management",
          "Case Management",
          "Case Management",
          "Case Management",
          "Case Management",
          "Case Management",
          "Case Management",
          "Case Management",
          "Case Management",
          "Case Management",
          "Case Management",
          "Case Management",
          "Case Management",
          "Case Management",
          "Case Management",
          "Case Management",
          "Case Management",
          "Case Management",
          "Case Management",
          "Case Management",
          "Case Management",
          "Case Management",
          "Case Management",
          "Case Management",
          "Case Management",
          "Case Management",
          "Case Management",
          "Case Management",
          "Case Management",
          "Case Management",
          "Case Management",
          "Case Management",
          "Case Management",
          "Case Management",
          "Case Management",
          "Case Management",
          "Case Management",
          "Case Management",
          "Case Management",
          "Case Management",
          "Case Management",
          "Case Management",
          "Case Management",
          "Case Management",
          "Case Management",
          "Case Management",
          "Case Management",
          "Case Management",
          "Case Management",
          "Case Management",
          "Case Management",
          "Case Management",
          "Case Management",
          "Case Management",
          "Case Management",
          "Case Management",
          "Case Management",
          "Case Management",
          "Case Management",
          "Case Management",
          "Case Management",
          "Case Management",
          "Case Management",
          "Case Management",
          "Case Management",
          "Case Management",
          "Case Management",
          "Case Management",
          "Case Management",
          "Case Management",
          "Case Management",
          "Case Management",
          "Case Management",
          "Case Management",
          "Case Management",
          "Case Management",
          "Case Management",
          "Case Management",
          "Case Management",
          "Case Management",
          "Case Management",
          "Case Management",
          "Case Management",
          "Case Management",
          "Case Management",
          "Case Management",
          "Case Management",
          "Case Management",
          "Case Management",
          "Case Management",
          "Case Management",
          "Case Management",
          "Case Management",
          "Case Management",
          "Case Management",
          "Case Management",
          "Case Management",
          "Case Management",
          "Case Management",
          "Case Management",
          "Case Management",
          "Case Management",
          "Case Management",
          "Case Management",
          "Case Management",
          "Case Management",
          "Case Management",
          "Case Management",
          "Case Management",
          "Case Management",
          "Case Management",
          "Case Management",
          "Case Management",
          "Case Management",
          "Case Management",
          "Case Management",
          "Case Management",
          "Case Management",
          "Case Management",
          "Case Management",
          "Case Management",
          "Case Management",
          "Case Management",
          "Case Management",
          "Case Management",
          "Case Management",
          "Case Management",
          "Case Management",
          "Case Management",
          "Case Management",
          "Case Management",
          "Case Management",
          "Case Management",
          "Case Management",
          "Case Management",
          "Case Management",
          "Case Management",
          "Case Management",
          "Case Management",
          "Case Management",
          "Case Management",
          "Case Management",
          "Case Management",
          "Case Management",
          "Case Management",
          "Case Management",
          "Case Management",
          "Case Management",
          "Case Management",
          "Case Management",
          "Case Management",
          "Case Management",
          "Case Management",
          "Case Management",
          "Case Management",
          "Case Management",
          "Case Management",
          "Case Management",
          "Case Management",
          "Case Management",
          "Case Management",
          "Case Management",
          "Case Management",
          "Case Management",
          "Case Management",
          "Case Management",
          "Case Management",
          "Case Management",
          "Case Management",
          "Case Management",
          "Case Management",
          "Case Management",
          "Case Management",
          "Case Management",
          "Case Management",
          "Case Management",
          "Case Management",
          "Case Management",
          "Case Management",
          "Case Management",
          "Case Management",
          "Case Management",
          "Case Management",
          "Case Management",
          "Case Management",
          "Case Management",
          "Case Management",
          "Case Management",
          "Case Management",
          "Case Management",
          "Case Management",
          "Case Management",
          "Case Management",
          "Case Management",
          "Case Management",
          "Case Management",
          "Case Management",
          "Case Management",
          "Case Management",
          "Case Management",
          "Case Management",
          "Case Management",
          "Case Management",
          "Case Management",
          "Case Management",
          "Case Management",
          "Case Management",
          "Case Management",
          "Case Management",
          "Case Management",
          "Case Management",
          "Case Management",
          "Case Management",
          "Case Management",
          "Case Management",
          "Case Management",
          "Case Management",
          "Case Management",
          "Case Management",
          "Case Management",
          "Case Management",
          "Case Management",
          "Case Management",
          "Case Management",
          "Case Management",
          "Case Management",
          "Case Management",
          "Case Management",
          "Case Management",
          "Case Management",
          "Case Management",
          "Case Management",
          "Case Management",
          "Case Management",
          "Case Management",
          "Case Management",
          "Case Management",
          "Case Management",
          "Case Management",
          "Case Management",
          "Case Management",
          "Case Management",
          "Case Management",
          "Case Management",
          "Case Management",
          "Case Management",
          "Case Management",
          "Case Management",
          "Case Management",
          "Case Management",
          "Case Management",
          "Case Management",
          "Case Management",
          "Case Management",
          "Case Management",
          "Case Management",
          "Case Management",
          "Case Management",
          "Case Management",
          "Case Management",
          "Case Management",
          "Case Management",
          "Case Management",
          "Case Management",
          "Case Management",
          "Case Management",
          "Case Management",
          "Case Management",
          "Case Management",
          "Case Management",
          "Case Management",
          "Case Management",
          "Case Management",
          "Case Management",
          "Case Management",
          "Case Management",
          "Case Management",
          "Case Management",
          "Case Management",
          "Case Management",
          "Case Management",
          "Case Management",
          "Case Management",
          "Case Management",
          "Case Management",
          "Case Management",
          "Case Management",
          "Case Management",
          "Case Management",
          "Case Management",
          "Case Management",
          "Case Management",
          "Case Management",
          "Case Management",
          "Case Management",
          "Case Management",
          "Case Management",
          "Case Management",
          "Case Management",
          "Case Management",
          "Case Management",
          "Case Management",
          "Case Management",
          "Case Management",
          "Case Management",
          "Case Management",
          "Case Management",
          "Case Management",
          "Case Management",
          "Case Management",
          "Case Management",
          "Case Management",
          "Case Management",
          "Case Management",
          "Case Management",
          "Case Management",
          "Case Management",
          "Case Management",
          "Case Management",
          "Case Management",
          "Case Management",
          "Case Management",
          "Case Management",
          "Case Management",
          "Case Management",
          "Case Management",
          "Case Management",
          "Case Management",
          "Case Management",
          "Case Management",
          "Case Management",
          "Case Management",
          "Case Management",
          "Case Management",
          "Case Management",
          "Case Management",
          "Case Management",
          "Case Management",
          "Case Management",
          "Case Management",
          "Case Management",
          "Case Management",
          "Case Management",
          "Case Management",
          "Case Management",
          "Case Management",
          "Case Management",
          "Case Management",
          "Case Management",
          "Case Management",
          "Case Management",
          "Case Management",
          "Case Management",
          "Case Management",
          "Case Management",
          "Case Management",
          "Case Management",
          "Case Management",
          "Case Management",
          "Case Management",
          "Case Management",
          "Case Management",
          "Case Management",
          "Case Management",
          "Case Management",
          "Case Management",
          "Case Management",
          "Case Management",
          "Case Management",
          "Case Management",
          "Case Management",
          "Case Management",
          "Case Management",
          "Case Management",
          "Case Management",
          "Case Management",
          "Case Management",
          "Case Management",
          "Case Management",
          "Case Management",
          "Case Management",
          "Case Management",
          "Case Management",
          "Case Management",
          "Case Management",
          "Case Management",
          "Case Management",
          "Case Management",
          "Case Management",
          "Case Management",
          "Case Management",
          "Case Management",
          "Case Management",
          "Case Management",
          "Case Management",
          "Case Management",
          "Case Management",
          "Case Management",
          "Case Management",
          "Case Management",
          "Case Management",
          "Case Management",
          "Case Management",
          "Case Management",
          "Case Management",
          "Case Management",
          "Case Management",
          "Case Management",
          "Case Management",
          "Case Management",
          "Case Management",
          "Case Management",
          "Case Management",
          "Case Management",
          "Case Management",
          "Case Management",
          "Case Management",
          "Case Management",
          "Case Management",
          "Case Management",
          "Case Management",
          "Case Management",
          "Case Management",
          "Case Management",
          "Case Management",
          "Case Management",
          "Case Management",
          "Case Management",
          "Case Management",
          "Case Management",
          "Case Management",
          "Case Management",
          "Case Management",
          "Case Management",
          "Case Management",
          "Case Management",
          "Case Management",
          "Case Management",
          "Case Management",
          "Case Management",
          "Case Management",
          "Case Management"
         ],
         "lat": [
          47.63628904,
          47.63912312,
          47.62972413,
          47.6384732,
          47.63052548,
          47.63660545,
          47.63548171,
          47.63721408,
          47.63554551,
          47.62950681,
          47.63920266,
          47.63564979,
          47.62620037,
          47.64064588,
          47.63977587,
          47.63602478,
          47.62794034,
          47.63637426,
          47.63563222,
          47.63339396,
          47.63851671,
          47.63139735,
          47.63875224,
          47.62990712,
          47.63981587,
          47.63900778,
          47.64063323,
          47.63812149,
          47.62981553,
          47.63981019,
          47.63556952,
          47.63497873,
          47.6393621,
          47.63461628,
          47.63800138,
          47.63199585,
          47.63868624,
          47.63365004,
          47.63430018,
          47.62834387,
          47.63539394,
          47.63803516,
          47.63933159,
          47.63530805,
          47.63737488,
          47.63829757,
          47.63175344,
          47.63858056,
          47.63788372,
          47.63751735,
          47.63687418,
          47.63256274,
          47.63532192,
          47.63263391,
          47.63260004,
          47.64152493,
          47.6353107,
          47.66932717,
          47.67407416,
          47.67362807,
          47.66845996,
          47.67066232,
          47.67264618,
          47.67317538,
          47.667933,
          47.67296864,
          47.66862742,
          47.67011138,
          47.6716905,
          47.67083618,
          47.67088677,
          47.67011497,
          47.67430793,
          47.67125039,
          47.66869206,
          47.67180552,
          47.6714184,
          47.66874895,
          47.67268172,
          47.66968185,
          47.67504404,
          47.66797917,
          47.67324985,
          47.67553327,
          47.67570811,
          47.67477103,
          47.66987432,
          47.67097576,
          47.67333939,
          47.67100489,
          47.67170353,
          47.67175997,
          47.67481867,
          47.67300401,
          47.67039453,
          47.67582152,
          47.67228446,
          47.67227237,
          47.67575024,
          47.67260212,
          47.67180998,
          47.66898921,
          47.6693543,
          47.67166568,
          47.67058142,
          47.67210896,
          47.67145807,
          47.67155977,
          47.67397129,
          47.6736071,
          47.6719218,
          47.66934544,
          47.66746398,
          47.67181197,
          47.67082046,
          47.6637344,
          47.6675968,
          47.67053238,
          47.66676677,
          47.67235398,
          47.66583687,
          47.66578734,
          47.67228263,
          47.66835401,
          47.66893752,
          47.66525243,
          47.67133442,
          47.67307821,
          47.64269717,
          47.63892301,
          47.64291211,
          47.63934586,
          47.63507293,
          47.62857355,
          47.63793826,
          47.62930931,
          47.62954816,
          47.63444164,
          47.63211913,
          47.63043465,
          47.63840684,
          47.62900387,
          47.63935867,
          47.64011972,
          47.63815778,
          47.63453262,
          47.62994743,
          47.63192143,
          47.64154276,
          47.63812903,
          47.63685503,
          47.63630285,
          47.63770585,
          47.64051553,
          47.63000397,
          47.62963743,
          47.63736553,
          47.63784754,
          47.63180066,
          47.63831372,
          47.62833641,
          47.64007889,
          47.63892542,
          47.64001746,
          47.63879043,
          47.62919531,
          47.6393371,
          47.63033292,
          47.65386101,
          47.66772999,
          47.66144065,
          47.66166903,
          47.65317216,
          47.66458664,
          47.66407098,
          47.65389856,
          47.66618274,
          47.66150339,
          47.66922781,
          47.66414745,
          47.64857217,
          47.66735094,
          47.65097251,
          47.6618228,
          47.65129392,
          47.64983061,
          47.65945121,
          47.66947906,
          47.66097944,
          47.66846777,
          47.66521357,
          47.66116478,
          47.65098656,
          47.65512858,
          47.65021119,
          47.65020661,
          47.66432019,
          47.66291652,
          47.67081358,
          47.65491445,
          47.6658025,
          47.65254159,
          47.65899259,
          47.66800609,
          47.65708273,
          47.67096385,
          47.66191806,
          47.65099402,
          47.66752608,
          47.65127573,
          47.66422711,
          47.66121706,
          47.6624767,
          47.66369278,
          47.66440368,
          47.65478743,
          47.65014725,
          47.64923604,
          47.67169513,
          47.64784967,
          47.65105573,
          47.64811529,
          47.65437002,
          47.67146344,
          47.65837647,
          47.66536801,
          47.65938706,
          47.64169151,
          47.64977536,
          47.64235821,
          47.64262214,
          47.64689454,
          47.65186066,
          47.64758832,
          47.64665844,
          47.64530245,
          47.64528801,
          47.64353088,
          47.64145151,
          47.64491325,
          47.64141466,
          47.64652744,
          47.65079525,
          47.6399253,
          47.64238208,
          47.64265654,
          47.64519299,
          47.64410466,
          47.64362433,
          47.65017304,
          47.65058977,
          47.64939343,
          47.64341119,
          47.643435,
          47.64413086,
          47.64598072,
          47.6527602,
          47.64328624,
          47.64152919,
          47.6472569,
          47.64721551,
          47.646883,
          47.64719277,
          47.64478716,
          47.64535059,
          47.64936686,
          47.64314986,
          47.64215181,
          47.64783678,
          47.64402085,
          47.64266228,
          47.67701505,
          47.68826555,
          47.67373141,
          47.6897677,
          47.67467647,
          47.67335778,
          47.67491184,
          47.67452613,
          47.68226061,
          47.67556915,
          47.67650239,
          47.67605812,
          47.67633824,
          47.6780561,
          47.68770668,
          47.69044857,
          47.67552251,
          47.67232267,
          47.68532979,
          47.68378067,
          47.68354474,
          47.67468991,
          47.6858705,
          47.68009638,
          47.67314449,
          47.67659659,
          47.67644022,
          47.68427308,
          47.68724568,
          47.67345534,
          47.68833693,
          47.67132207,
          47.67478054,
          47.68190776,
          47.67513918,
          47.67572403,
          47.68110584,
          47.67673937,
          47.68653224,
          47.68890691,
          47.63347386,
          47.62794326,
          47.62866402,
          47.63201049,
          47.63296627,
          47.63340284,
          47.63119424,
          47.63619004,
          47.63615549,
          47.63262639,
          47.63167352,
          47.63730097,
          47.62937474,
          47.62715965,
          47.62820157,
          47.63435769,
          47.62001637,
          47.61331951,
          47.61375392,
          47.62191137,
          47.61825285,
          47.61305967,
          47.60312697,
          47.62091627,
          47.61219763,
          47.61608361,
          47.60327025,
          47.617632,
          47.61780091,
          47.62039309,
          47.61982203,
          47.61894868,
          47.61110455,
          47.60921741,
          47.60846512,
          47.61215749,
          47.62013918,
          47.61532061,
          47.62022332,
          47.61518001,
          47.6128511,
          47.61323754,
          47.61398129,
          47.61893324,
          47.61297673,
          47.61379617,
          47.61942863,
          47.61119778,
          47.6182221,
          47.6101556,
          47.61831634,
          47.61635682,
          47.61356638,
          47.60926371,
          47.61619938,
          47.60823705,
          47.60974857,
          47.60814372,
          47.61498154,
          47.61853609,
          47.61251153,
          47.61121662,
          47.61601739,
          47.6101887,
          47.61152475,
          47.61126858,
          47.61568371,
          47.61593276,
          47.61750858,
          47.61589742,
          47.61519939,
          47.60808439,
          47.61625334,
          47.61512549,
          47.61171081,
          47.66339352,
          47.6613099,
          47.6645209,
          47.65737284,
          47.66637834,
          47.6589087,
          47.66218141,
          47.65732954,
          47.66695593,
          47.65917007,
          47.66456191,
          47.65760578,
          47.66239538,
          47.6630712,
          47.67056917,
          47.65641449,
          47.66169364,
          47.66314544,
          47.65730353,
          47.65741764,
          47.6643652,
          47.66757538,
          47.66825152,
          47.65962584,
          47.65753036,
          47.6593293,
          47.66145428,
          47.66749233,
          47.66667724,
          47.66622474,
          47.65865765,
          47.6713697,
          47.66311747,
          47.66818255,
          47.65712478,
          47.65700652,
          47.66709569,
          47.66580428,
          47.66250162,
          47.6669145,
          47.66125018,
          47.66581866,
          47.66765063,
          47.67119879,
          47.66132295,
          47.66443671,
          47.66101092,
          47.6626723,
          47.65895309,
          47.66148495,
          47.66852258,
          47.66948569,
          47.66129401,
          47.66317893,
          47.66404703,
          47.66871493,
          47.66312229,
          47.65836316,
          47.66044158,
          47.65877003,
          47.65825774,
          47.66154612,
          47.66856587,
          47.65883581,
          47.65721706,
          47.6669221,
          47.66299472,
          47.65824886,
          47.65856121,
          47.66147374,
          47.66765748,
          47.65665819,
          47.66270103,
          47.66448575,
          47.6623606,
          47.65863155,
          47.66321788,
          47.66713218,
          47.66313458,
          47.66396766,
          47.65731409,
          47.65860891,
          47.65688213,
          47.67160466,
          47.65697102,
          47.66391817,
          47.66902314,
          47.66353217,
          47.66881617,
          47.65741412,
          47.6604882,
          47.65697036,
          47.61893903,
          47.61839318,
          47.62536071,
          47.60950173,
          47.60676849,
          47.60510734,
          47.6119061,
          47.61136902,
          47.61351809,
          47.61109191,
          47.61562815,
          47.6125167,
          47.61397307,
          47.60518579,
          47.6124754,
          47.60552279,
          47.60562332,
          47.61025306,
          47.60315576,
          47.60440567,
          47.61067856,
          47.61577894,
          47.60977692,
          47.60614936,
          47.60661261,
          47.60591073,
          47.60338844,
          47.61173102,
          47.61111051,
          47.61107513,
          47.61600214,
          47.61017418,
          47.60620715,
          47.6097965,
          47.61040169,
          47.60994589,
          47.60956186,
          47.6115353,
          47.61065564,
          47.6029395,
          47.61002734,
          47.61035829,
          47.60415027,
          47.60213708,
          47.61241593,
          47.61122138,
          47.60767917,
          47.60547479,
          47.61350092,
          47.60192242,
          47.61327641,
          47.61180057,
          47.60941768,
          47.61561719,
          47.60794615,
          47.60409559,
          47.61108859,
          47.6100663,
          47.60550178,
          47.61369416,
          47.61243073,
          47.61722524,
          47.61350303,
          47.61587834,
          47.60254407,
          47.60260013,
          47.6107524,
          47.61396248,
          47.61245587,
          47.61093716,
          47.61240201,
          47.61092049,
          47.61210627,
          47.59266596,
          47.60238656,
          47.59526163,
          47.60744831,
          47.59431107,
          47.60459749,
          47.59259852,
          47.59206643,
          47.60382449,
          47.59172642,
          47.59482904,
          47.59394152,
          47.60070745,
          47.60582903,
          47.5957085,
          47.60639203,
          47.59708807,
          47.59880163,
          47.5944386,
          47.60297419,
          47.60568442,
          47.59465847,
          47.60778218,
          47.60475367
         ],
         "legendgroup": "Case Management",
         "lon": [
          -122.3710252,
          -122.3656665,
          -122.3694832,
          -122.3692791,
          -122.3661741,
          -122.3685191,
          -122.3584778,
          -122.3600458,
          -122.3731708,
          -122.3676293,
          -122.3658627,
          -122.3728928,
          -122.3666019,
          -122.3724059,
          -122.3722354,
          -122.3586936,
          -122.3649587,
          -122.3610334,
          -122.3588809,
          -122.3719199,
          -122.369581,
          -122.3677669,
          -122.3679727,
          -122.3689481,
          -122.3743385,
          -122.3653201,
          -122.3727094,
          -122.37579,
          -122.3662123,
          -122.3738006,
          -122.3616526,
          -122.3588694,
          -122.3724026,
          -122.3580227,
          -122.3610048,
          -122.3716577,
          -122.3707999,
          -122.3604497,
          -122.3570598,
          -122.3664054,
          -122.3689911,
          -122.3609101,
          -122.3615994,
          -122.3665317,
          -122.3694109,
          -122.3737787,
          -122.3712717,
          -122.3753257,
          -122.3673711,
          -122.3608117,
          -122.3722717,
          -122.3672228,
          -122.3661211,
          -122.3693184,
          -122.3699524,
          -122.3761504,
          -122.3635056,
          -122.3925936,
          -122.3938641,
          -122.389302,
          -122.379516,
          -122.3786659,
          -122.389333,
          -122.3822596,
          -122.3786525,
          -122.3973382,
          -122.3894959,
          -122.3938693,
          -122.3852391,
          -122.3925371,
          -122.3930293,
          -122.3929944,
          -122.3767423,
          -122.3826391,
          -122.3960894,
          -122.3880471,
          -122.3853854,
          -122.38387,
          -122.3877307,
          -122.3909885,
          -122.3827149,
          -122.3821054,
          -122.3873317,
          -122.376324,
          -122.3875594,
          -122.3858305,
          -122.3877174,
          -122.3878253,
          -122.3951203,
          -122.3813814,
          -122.3763381,
          -122.3900201,
          -122.3875212,
          -122.3850048,
          -122.393897,
          -122.3897101,
          -122.3823135,
          -122.3841322,
          -122.3765799,
          -122.3884415,
          -122.3834372,
          -122.3951453,
          -122.3903476,
          -122.3779123,
          -122.3822112,
          -122.3835885,
          -122.3791745,
          -122.382704,
          -122.3893805,
          -122.3938029,
          -122.3806568,
          -122.3969735,
          -122.3782553,
          -122.3889813,
          -122.3705111,
          -122.3620801,
          -122.3647017,
          -122.3653185,
          -122.3688235,
          -122.3661749,
          -122.3701323,
          -122.3619923,
          -122.3731616,
          -122.3611388,
          -122.3733392,
          -122.3619207,
          -122.3657976,
          -122.3641401,
          -122.3436911,
          -122.3428269,
          -122.3446833,
          -122.3431324,
          -122.3545941,
          -122.3559092,
          -122.3507256,
          -122.3441362,
          -122.3465966,
          -122.3437841,
          -122.3468193,
          -122.3501712,
          -122.344077,
          -122.3438233,
          -122.3440287,
          -122.3445298,
          -122.3441574,
          -122.3437901,
          -122.351388,
          -122.3485203,
          -122.3446612,
          -122.352374,
          -122.3568735,
          -122.3478271,
          -122.3439878,
          -122.344504,
          -122.3451203,
          -122.3561691,
          -122.352344,
          -122.3535869,
          -122.3559977,
          -122.3429312,
          -122.3463335,
          -122.3452415,
          -122.3562882,
          -122.3451296,
          -122.341579,
          -122.3480345,
          -122.3442914,
          -122.3476269,
          -122.3384965,
          -122.3268727,
          -122.343953,
          -122.3337431,
          -122.3372994,
          -122.3330577,
          -122.3353794,
          -122.3380692,
          -122.3346106,
          -122.334257,
          -122.3351737,
          -122.3342495,
          -122.3407591,
          -122.3399228,
          -122.3308842,
          -122.3293007,
          -122.3310318,
          -122.3343314,
          -122.3291367,
          -122.3294415,
          -122.333483,
          -122.3266958,
          -122.336753,
          -122.3368463,
          -122.3417048,
          -122.3352882,
          -122.3320348,
          -122.3311043,
          -122.3291753,
          -122.3267233,
          -122.3274855,
          -122.3380752,
          -122.3387674,
          -122.3387686,
          -122.3246634,
          -122.329389,
          -122.3265511,
          -122.3288633,
          -122.3249912,
          -122.332345,
          -122.3289111,
          -122.3327965,
          -122.3390493,
          -122.3394242,
          -122.3326592,
          -122.3283657,
          -122.3381274,
          -122.3365199,
          -122.3417705,
          -122.3321802,
          -122.3248793,
          -122.3360788,
          -122.3309857,
          -122.3316654,
          -122.3278962,
          -122.3341332,
          -122.3267655,
          -122.3399943,
          -122.3418815,
          -122.359255,
          -122.3579828,
          -122.3740468,
          -122.3643547,
          -122.3614399,
          -122.3649937,
          -122.3588954,
          -122.3568149,
          -122.3609061,
          -122.3726424,
          -122.3608339,
          -122.3741879,
          -122.3734628,
          -122.365496,
          -122.3543343,
          -122.3723846,
          -122.3674313,
          -122.3720728,
          -122.3581082,
          -122.3758195,
          -122.3706796,
          -122.3674237,
          -122.3676004,
          -122.3712286,
          -122.3755835,
          -122.3627156,
          -122.3730079,
          -122.3562992,
          -122.3512444,
          -122.3687842,
          -122.3758186,
          -122.3567093,
          -122.3593189,
          -122.3566966,
          -122.354231,
          -122.3589062,
          -122.3513144,
          -122.3751942,
          -122.3722474,
          -122.3589524,
          -122.3695928,
          -122.3561688,
          -122.3755716,
          -122.371084,
          -122.3308477,
          -122.3358555,
          -122.3345713,
          -122.3346466,
          -122.3334962,
          -122.3273253,
          -122.3252381,
          -122.333473,
          -122.34345,
          -122.332773,
          -122.3255528,
          -122.3232793,
          -122.3295859,
          -122.3222456,
          -122.3357777,
          -122.3421874,
          -122.3242977,
          -122.3219423,
          -122.3248518,
          -122.3420128,
          -122.3309111,
          -122.3324155,
          -122.327567,
          -122.3234211,
          -122.3259531,
          -122.3307759,
          -122.3274933,
          -122.3266159,
          -122.3346957,
          -122.3372121,
          -122.3439074,
          -122.3368268,
          -122.3246218,
          -122.3278534,
          -122.3332839,
          -122.3246928,
          -122.3239465,
          -122.3301907,
          -122.3377733,
          -122.3340131,
          -122.3434448,
          -122.3412705,
          -122.3427092,
          -122.3427368,
          -122.3413052,
          -122.3426307,
          -122.3413036,
          -122.3425886,
          -122.3404212,
          -122.3418006,
          -122.3405082,
          -122.3401569,
          -122.3397464,
          -122.3432228,
          -122.343516,
          -122.3409903,
          -122.2998046,
          -122.3005669,
          -122.3004575,
          -122.2975011,
          -122.2984679,
          -122.297385,
          -122.3006707,
          -122.2979149,
          -122.2977715,
          -122.2981707,
          -122.3021606,
          -122.3005565,
          -122.3000238,
          -122.2995755,
          -122.2979645,
          -122.2983498,
          -122.2991321,
          -122.3025701,
          -122.2968542,
          -122.3011966,
          -122.2963572,
          -122.30176,
          -122.2985775,
          -122.3016135,
          -122.2996815,
          -122.2976686,
          -122.2967398,
          -122.2998512,
          -122.3014731,
          -122.3007285,
          -122.2982765,
          -122.3010867,
          -122.2985362,
          -122.3024077,
          -122.2900493,
          -122.291336,
          -122.2900576,
          -122.2857323,
          -122.2911922,
          -122.2900896,
          -122.2901086,
          -122.2919629,
          -122.2835697,
          -122.2957238,
          -122.2899442,
          -122.2960782,
          -122.2926619,
          -122.2921704,
          -122.2888187,
          -122.2914648,
          -122.285174,
          -122.2853141,
          -122.2920226,
          -122.2820429,
          -122.2941785,
          -122.2943425,
          -122.2930666,
          -122.2944282,
          -122.287723,
          -122.3114961,
          -122.3100722,
          -122.3095983,
          -122.3146063,
          -122.3168925,
          -122.3147936,
          -122.3133911,
          -122.3178094,
          -122.3155975,
          -122.3165354,
          -122.3083994,
          -122.3144447,
          -122.3146298,
          -122.3130173,
          -122.3157949,
          -122.3172383,
          -122.3129142,
          -122.313413,
          -122.3186601,
          -122.3206441,
          -122.3032258,
          -122.3187156,
          -122.3094497,
          -122.3174207,
          -122.3178532,
          -122.3134565,
          -122.3129249,
          -122.3152824,
          -122.3163437,
          -122.3176093,
          -122.3189667,
          -122.3157987,
          -122.3188134,
          -122.3173717,
          -122.3178221,
          -122.3196197,
          -122.3168086,
          -122.3208876,
          -122.3134163,
          -122.3142734,
          -122.3143933,
          -122.3031713,
          -122.3194801,
          -122.3150932,
          -122.3149835,
          -122.3067381,
          -122.3137344,
          -122.3043698,
          -122.3219786,
          -122.3156934,
          -122.315454,
          -122.3145501,
          -122.313182,
          -122.3039904,
          -122.3182195,
          -122.3163162,
          -122.3098396,
          -122.3180063,
          -122.3137683,
          -122.3136904,
          -122.313566,
          -122.3147937,
          -122.307462,
          -122.3181496,
          -122.3142329,
          -122.3172019,
          -122.3102215,
          -122.3176389,
          -122.3160866,
          -122.3135628,
          -122.3178072,
          -122.3203138,
          -122.3097321,
          -122.3046706,
          -122.302424,
          -122.3177664,
          -122.3043709,
          -122.3164489,
          -122.3145582,
          -122.3065185,
          -122.31976,
          -122.317713,
          -122.318273,
          -122.3157654,
          -122.3189181,
          -122.3113423,
          -122.3158825,
          -122.3114915,
          -122.3184417,
          -122.3158241,
          -122.3148349,
          -122.3157798,
          -122.2921234,
          -122.2867806,
          -122.2915178,
          -122.3117716,
          -122.3134377,
          -122.3037078,
          -122.3033487,
          -122.3145287,
          -122.3116054,
          -122.3066484,
          -122.3078369,
          -122.3143453,
          -122.3078883,
          -122.3123022,
          -122.308582,
          -122.3075301,
          -122.3089055,
          -122.3050493,
          -122.3098553,
          -122.3054291,
          -122.3126715,
          -122.3068259,
          -122.3130001,
          -122.3038575,
          -122.3066379,
          -122.305446,
          -122.307437,
          -122.3082675,
          -122.3119619,
          -122.3136267,
          -122.3080604,
          -122.3127992,
          -122.3068346,
          -122.3153297,
          -122.313874,
          -122.3156373,
          -122.3150989,
          -122.3143253,
          -122.3140728,
          -122.3084089,
          -122.3043664,
          -122.3140323,
          -122.3032345,
          -122.3141425,
          -122.314504,
          -122.3069443,
          -122.3157153,
          -122.3094775,
          -122.312752,
          -122.3079787,
          -122.3149974,
          -122.3141614,
          -122.3121007,
          -122.3043458,
          -122.3075402,
          -122.3054089,
          -122.3158229,
          -122.3048812,
          -122.3038369,
          -122.3073254,
          -122.3158974,
          -122.3026362,
          -122.3108026,
          -122.307739,
          -122.3098644,
          -122.3095147,
          -122.312152,
          -122.3041849,
          -122.3148894,
          -122.3107331,
          -122.3112072,
          -122.3134896,
          -122.3041249,
          -122.2975618,
          -122.295347,
          -122.2972129,
          -122.2938155,
          -122.2944084,
          -122.296725,
          -122.2955471,
          -122.2935655,
          -122.2932511,
          -122.2959851,
          -122.295632,
          -122.291088,
          -122.2932732,
          -122.2852102,
          -122.2975686,
          -122.2906124,
          -122.2973948,
          -122.2924761,
          -122.2938703,
          -122.2934195,
          -122.2953598,
          -122.2954107,
          -122.2892843,
          -122.2943826
         ],
         "marker": {
          "color": "#636efa",
          "size": 6
         },
         "mode": "markers",
         "name": "Case Management",
         "showlegend": true,
         "subplot": "mapbox",
         "type": "scattermapbox"
        },
        {
         "customdata": [
          [
           "Transportation",
           47.6329184,
           -122.3724706
          ],
          [
           "Transportation",
           47.66688717,
           -122.3646641
          ],
          [
           "Transportation",
           47.65349156,
           -122.3697413
          ],
          [
           "Transportation",
           47.63051112,
           -122.2817713
          ],
          [
           "Transportation",
           47.62302601,
           -122.2952981
          ]
         ],
         "hovertemplate": "<b>%{hovertext}</b><br><br><extra></extra>",
         "hovertext": [
          "Transportation",
          "Transportation",
          "Transportation",
          "Transportation",
          "Transportation"
         ],
         "lat": [
          47.6329184,
          47.66688717,
          47.65349156,
          47.63051112,
          47.62302601
         ],
         "legendgroup": "Transportation",
         "lon": [
          -122.3724706,
          -122.3646641,
          -122.3697413,
          -122.2817713,
          -122.2952981
         ],
         "marker": {
          "color": "#EF553B",
          "size": 6
         },
         "mode": "markers",
         "name": "Transportation",
         "showlegend": true,
         "subplot": "mapbox",
         "type": "scattermapbox"
        },
        {
         "customdata": [
          [
           "Life Skills Classes",
           47.64016054,
           -122.375856
          ],
          [
           "Life Skills Classes",
           47.66686785,
           -122.3640313
          ],
          [
           "Life Skills Classes",
           47.66682168,
           -122.3629367
          ],
          [
           "Life Skills Classes",
           47.67122243,
           -122.3636869
          ],
          [
           "Life Skills Classes",
           47.66365549,
           -122.3669411
          ],
          [
           "Life Skills Classes",
           47.64236917,
           -122.3440864
          ],
          [
           "Life Skills Classes",
           47.6293877,
           -122.3459247
          ],
          [
           "Life Skills Classes",
           47.64103958,
           -122.3444038
          ],
          [
           "Life Skills Classes",
           47.63911468,
           -122.3542986
          ],
          [
           "Life Skills Classes",
           47.64032332,
           -122.3493863
          ],
          [
           "Life Skills Classes",
           47.67094939,
           -122.3247405
          ],
          [
           "Life Skills Classes",
           47.67150263,
           -122.3278906
          ],
          [
           "Life Skills Classes",
           47.66836312,
           -122.3388869
          ],
          [
           "Life Skills Classes",
           47.66369539,
           -122.3362252
          ],
          [
           "Life Skills Classes",
           47.65611906,
           -122.3390315
          ],
          [
           "Life Skills Classes",
           47.66107313,
           -122.3334981
          ],
          [
           "Life Skills Classes",
           47.65589665,
           -122.3265346
          ],
          [
           "Life Skills Classes",
           47.66668939,
           -122.3392712
          ],
          [
           "Life Skills Classes",
           47.6666711,
           -122.3326017
          ],
          [
           "Life Skills Classes",
           47.67065922,
           -122.3359619
          ],
          [
           "Life Skills Classes",
           47.6497082,
           -122.3310153
          ],
          [
           "Life Skills Classes",
           47.65093383,
           -122.3313258
          ],
          [
           "Life Skills Classes",
           47.66029589,
           -122.3402608
          ],
          [
           "Life Skills Classes",
           47.6761145,
           -122.3324381
          ],
          [
           "Life Skills Classes",
           47.61662263,
           -122.298606
          ],
          [
           "Life Skills Classes",
           47.60881884,
           -122.3007355
          ],
          [
           "Life Skills Classes",
           47.61294386,
           -122.2985568
          ],
          [
           "Life Skills Classes",
           47.61027136,
           -122.3018688
          ],
          [
           "Life Skills Classes",
           47.61093922,
           -122.2940892
          ],
          [
           "Life Skills Classes",
           47.61093444,
           -122.2938206
          ],
          [
           "Life Skills Classes",
           47.61096566,
           -122.2933271
          ],
          [
           "Life Skills Classes",
           47.60865741,
           -122.2948638
          ],
          [
           "Life Skills Classes",
           47.62543446,
           -122.2904389
          ],
          [
           "Life Skills Classes",
           47.61137404,
           -122.3074812
          ],
          [
           "Life Skills Classes",
           47.61148293,
           -122.3097651
          ],
          [
           "Life Skills Classes",
           47.61621959,
           -122.307324
          ],
          [
           "Life Skills Classes",
           47.60927076,
           -122.3111256
          ]
         ],
         "hovertemplate": "<b>%{hovertext}</b><br><br><extra></extra>",
         "hovertext": [
          "Life Skills Classes",
          "Life Skills Classes",
          "Life Skills Classes",
          "Life Skills Classes",
          "Life Skills Classes",
          "Life Skills Classes",
          "Life Skills Classes",
          "Life Skills Classes",
          "Life Skills Classes",
          "Life Skills Classes",
          "Life Skills Classes",
          "Life Skills Classes",
          "Life Skills Classes",
          "Life Skills Classes",
          "Life Skills Classes",
          "Life Skills Classes",
          "Life Skills Classes",
          "Life Skills Classes",
          "Life Skills Classes",
          "Life Skills Classes",
          "Life Skills Classes",
          "Life Skills Classes",
          "Life Skills Classes",
          "Life Skills Classes",
          "Life Skills Classes",
          "Life Skills Classes",
          "Life Skills Classes",
          "Life Skills Classes",
          "Life Skills Classes",
          "Life Skills Classes",
          "Life Skills Classes",
          "Life Skills Classes",
          "Life Skills Classes",
          "Life Skills Classes",
          "Life Skills Classes",
          "Life Skills Classes",
          "Life Skills Classes"
         ],
         "lat": [
          47.64016054,
          47.66686785,
          47.66682168,
          47.67122243,
          47.66365549,
          47.64236917,
          47.6293877,
          47.64103958,
          47.63911468,
          47.64032332,
          47.67094939,
          47.67150263,
          47.66836312,
          47.66369539,
          47.65611906,
          47.66107313,
          47.65589665,
          47.66668939,
          47.6666711,
          47.67065922,
          47.6497082,
          47.65093383,
          47.66029589,
          47.6761145,
          47.61662263,
          47.60881884,
          47.61294386,
          47.61027136,
          47.61093922,
          47.61093444,
          47.61096566,
          47.60865741,
          47.62543446,
          47.61137404,
          47.61148293,
          47.61621959,
          47.60927076
         ],
         "legendgroup": "Life Skills Classes",
         "lon": [
          -122.375856,
          -122.3640313,
          -122.3629367,
          -122.3636869,
          -122.3669411,
          -122.3440864,
          -122.3459247,
          -122.3444038,
          -122.3542986,
          -122.3493863,
          -122.3247405,
          -122.3278906,
          -122.3388869,
          -122.3362252,
          -122.3390315,
          -122.3334981,
          -122.3265346,
          -122.3392712,
          -122.3326017,
          -122.3359619,
          -122.3310153,
          -122.3313258,
          -122.3402608,
          -122.3324381,
          -122.298606,
          -122.3007355,
          -122.2985568,
          -122.3018688,
          -122.2940892,
          -122.2938206,
          -122.2933271,
          -122.2948638,
          -122.2904389,
          -122.3074812,
          -122.3097651,
          -122.307324,
          -122.3111256
         ],
         "marker": {
          "color": "#00cc96",
          "size": 6
         },
         "mode": "markers",
         "name": "Life Skills Classes",
         "showlegend": true,
         "subplot": "mapbox",
         "type": "scattermapbox"
        },
        {
         "customdata": [
          [
           "Health Care",
           47.6324103,
           -122.3572161
          ]
         ],
         "hovertemplate": "<b>%{hovertext}</b><br><br><extra></extra>",
         "hovertext": [
          "Health Care"
         ],
         "lat": [
          47.6324103
         ],
         "legendgroup": "Health Care",
         "lon": [
          -122.3572161
         ],
         "marker": {
          "color": "#ab63fa",
          "size": 6
         },
         "mode": "markers",
         "name": "Health Care",
         "showlegend": true,
         "subplot": "mapbox",
         "type": "scattermapbox"
        },
        {
         "customdata": [
          [
           "Rental Assistance",
           47.63749172,
           -122.3668886
          ],
          [
           "Rental Assistance",
           47.66880846,
           -122.3662618
          ],
          [
           "Rental Assistance",
           47.67548903,
           -122.3675145
          ],
          [
           "Rental Assistance",
           47.64763894,
           -122.3552943
          ],
          [
           "Rental Assistance",
           47.65247214,
           -122.3690778
          ]
         ],
         "hovertemplate": "<b>%{hovertext}</b><br><br><extra></extra>",
         "hovertext": [
          "Rental Assistance",
          "Rental Assistance",
          "Rental Assistance",
          "Rental Assistance",
          "Rental Assistance"
         ],
         "lat": [
          47.63749172,
          47.66880846,
          47.67548903,
          47.64763894,
          47.65247214
         ],
         "legendgroup": "Rental Assistance",
         "lon": [
          -122.3668886,
          -122.3662618,
          -122.3675145,
          -122.3552943,
          -122.3690778
         ],
         "marker": {
          "color": "#FFA15A",
          "size": 6
         },
         "mode": "markers",
         "name": "Rental Assistance",
         "showlegend": true,
         "subplot": "mapbox",
         "type": "scattermapbox"
        },
        {
         "customdata": [
          [
           "Credit Repair",
           47.63926602,
           -122.3747258
          ]
         ],
         "hovertemplate": "<b>%{hovertext}</b><br><br><extra></extra>",
         "hovertext": [
          "Credit Repair"
         ],
         "lat": [
          47.63926602
         ],
         "legendgroup": "Credit Repair",
         "lon": [
          -122.3747258
         ],
         "marker": {
          "color": "#19d3f3",
          "size": 6
         },
         "mode": "markers",
         "name": "Credit Repair",
         "showlegend": true,
         "subplot": "mapbox",
         "type": "scattermapbox"
        },
        {
         "customdata": [
          [
           "Case/Care management",
           47.63508504,
           -122.3644435
          ],
          [
           "Case/Care management",
           47.64105215,
           -122.3750817
          ],
          [
           "Case/Care management",
           47.66832396,
           -122.3718212
          ],
          [
           "Case/Care management",
           47.6723724,
           -122.3628417
          ],
          [
           "Case/Care management",
           47.66388206,
           -122.3621749
          ],
          [
           "Case/Care management",
           47.67092865,
           -122.3667818
          ],
          [
           "Case/Care management",
           47.67261671,
           -122.3743927
          ],
          [
           "Case/Care management",
           47.67271728,
           -122.3614171
          ],
          [
           "Case/Care management",
           47.67274336,
           -122.3731945
          ],
          [
           "Case/Care management",
           47.66454921,
           -122.3682089
          ],
          [
           "Case/Care management",
           47.66658567,
           -122.3656518
          ],
          [
           "Case/Care management",
           47.67358404,
           -122.3738143
          ],
          [
           "Case/Care management",
           47.66337838,
           -122.3646915
          ],
          [
           "Case/Care management",
           47.66934139,
           -122.3662641
          ],
          [
           "Case/Care management",
           47.66493716,
           -122.3616797
          ],
          [
           "Case/Care management",
           47.66884467,
           -122.3683793
          ],
          [
           "Case/Care management",
           47.6650167,
           -122.3647071
          ],
          [
           "Case/Care management",
           47.66597002,
           -122.3686393
          ],
          [
           "Case/Care management",
           47.67431327,
           -122.3679688
          ],
          [
           "Case/Care management",
           47.66520903,
           -122.3624565
          ],
          [
           "Case/Care management",
           47.66444545,
           -122.370171
          ],
          [
           "Case/Care management",
           47.67098702,
           -122.3751406
          ],
          [
           "Case/Care management",
           47.66539135,
           -122.3660988
          ],
          [
           "Case/Care management",
           47.67342403,
           -122.3742328
          ],
          [
           "Case/Care management",
           47.67155243,
           -122.3676333
          ],
          [
           "Case/Care management",
           47.66338811,
           -122.3613784
          ],
          [
           "Case/Care management",
           47.66336498,
           -122.3624685
          ],
          [
           "Case/Care management",
           47.67076135,
           -122.371095
          ],
          [
           "Case/Care management",
           47.67591574,
           -122.3704736
          ],
          [
           "Case/Care management",
           47.66365131,
           -122.3620818
          ],
          [
           "Case/Care management",
           47.66678535,
           -122.3667514
          ],
          [
           "Case/Care management",
           47.63184304,
           -122.3451235
          ],
          [
           "Case/Care management",
           47.62812031,
           -122.3487521
          ],
          [
           "Case/Care management",
           47.64359973,
           -122.3446299
          ],
          [
           "Case/Care management",
           47.63899882,
           -122.3435739
          ],
          [
           "Case/Care management",
           47.63950083,
           -122.3433039
          ],
          [
           "Case/Care management",
           47.63152636,
           -122.3562828
          ],
          [
           "Case/Care management",
           47.64017717,
           -122.3465226
          ],
          [
           "Case/Care management",
           47.64290503,
           -122.346705
          ],
          [
           "Case/Care management",
           47.64075557,
           -122.3428766
          ],
          [
           "Case/Care management",
           47.63544456,
           -122.3555166
          ],
          [
           "Case/Care management",
           47.6305064,
           -122.3450221
          ],
          [
           "Case/Care management",
           47.630214,
           -122.3476151
          ],
          [
           "Case/Care management",
           47.6337667,
           -122.3446154
          ],
          [
           "Case/Care management",
           47.63987162,
           -122.3418345
          ],
          [
           "Case/Care management",
           47.63214523,
           -122.3506487
          ],
          [
           "Case/Care management",
           47.63279988,
           -122.3465579
          ],
          [
           "Case/Care management",
           47.63082669,
           -122.3562298
          ],
          [
           "Case/Care management",
           47.6327564,
           -122.3469865
          ],
          [
           "Case/Care management",
           47.62846484,
           -122.3465481
          ],
          [
           "Case/Care management",
           47.66140494,
           -122.3454722
          ],
          [
           "Case/Care management",
           47.65736192,
           -122.3276249
          ],
          [
           "Case/Care management",
           47.64985412,
           -122.3306848
          ],
          [
           "Case/Care management",
           47.65055156,
           -122.3305887
          ],
          [
           "Case/Care management",
           47.66286984,
           -122.3248901
          ],
          [
           "Case/Care management",
           47.66659624,
           -122.3379123
          ],
          [
           "Case/Care management",
           47.66330129,
           -122.3434587
          ],
          [
           "Case/Care management",
           47.65809327,
           -122.3317165
          ],
          [
           "Case/Care management",
           47.65767236,
           -122.3258483
          ],
          [
           "Case/Care management",
           47.64952916,
           -122.3321774
          ],
          [
           "Case/Care management",
           47.65372,
           -122.3383883
          ],
          [
           "Case/Care management",
           47.65059636,
           -122.3340379
          ],
          [
           "Case/Care management",
           47.65787896,
           -122.3417997
          ],
          [
           "Case/Care management",
           47.66189383,
           -122.3237494
          ],
          [
           "Case/Care management",
           47.66266784,
           -122.3450441
          ],
          [
           "Case/Care management",
           47.66990224,
           -122.3240487
          ],
          [
           "Case/Care management",
           47.66400538,
           -122.3283366
          ],
          [
           "Case/Care management",
           47.66263063,
           -122.3461182
          ],
          [
           "Case/Care management",
           47.65510297,
           -122.3360436
          ],
          [
           "Case/Care management",
           47.6473451,
           -122.3334862
          ],
          [
           "Case/Care management",
           47.66214454,
           -122.3240169
          ],
          [
           "Case/Care management",
           47.65321009,
           -122.3399708
          ],
          [
           "Case/Care management",
           47.65094245,
           -122.3325889
          ],
          [
           "Case/Care management",
           47.65355382,
           -122.3289685
          ],
          [
           "Case/Care management",
           47.66436893,
           -122.3306356
          ],
          [
           "Case/Care management",
           47.67025275,
           -122.3288856
          ],
          [
           "Case/Care management",
           47.66031845,
           -122.3319052
          ],
          [
           "Case/Care management",
           47.65410861,
           -122.3376053
          ],
          [
           "Case/Care management",
           47.6499608,
           -122.3327015
          ],
          [
           "Case/Care management",
           47.65769988,
           -122.3341513
          ],
          [
           "Case/Care management",
           47.65158166,
           -122.3307967
          ],
          [
           "Case/Care management",
           47.6708457,
           -122.3374666
          ],
          [
           "Case/Care management",
           47.66809219,
           -122.3367733
          ],
          [
           "Case/Care management",
           47.6716421,
           -122.3252768
          ],
          [
           "Case/Care management",
           47.66982241,
           -122.3269604
          ],
          [
           "Case/Care management",
           47.65084966,
           -122.3329107
          ],
          [
           "Case/Care management",
           47.65543135,
           -122.3334223
          ],
          [
           "Case/Care management",
           47.66230982,
           -122.3268488
          ],
          [
           "Case/Care management",
           47.66332376,
           -122.3257564
          ],
          [
           "Case/Care management",
           47.64989806,
           -122.3312562
          ],
          [
           "Case/Care management",
           47.66642488,
           -122.3349052
          ],
          [
           "Case/Care management",
           47.6516632,
           -122.339685
          ],
          [
           "Case/Care management",
           47.65349108,
           -122.3409534
          ],
          [
           "Case/Care management",
           47.65612702,
           -122.3353029
          ],
          [
           "Case/Care management",
           47.65929724,
           -122.333096
          ],
          [
           "Case/Care management",
           47.65257626,
           -122.328736
          ],
          [
           "Case/Care management",
           47.65410157,
           -122.3385109
          ],
          [
           "Case/Care management",
           47.67048822,
           -122.3226001
          ],
          [
           "Case/Care management",
           47.65668734,
           -122.3265699
          ],
          [
           "Case/Care management",
           47.65243416,
           -122.3378533
          ],
          [
           "Case/Care management",
           47.64826946,
           -122.3370324
          ],
          [
           "Case/Care management",
           47.668176,
           -122.3373708
          ],
          [
           "Case/Care management",
           47.6702672,
           -122.3253725
          ],
          [
           "Case/Care management",
           47.66190551,
           -122.3239717
          ],
          [
           "Case/Care management",
           47.66222166,
           -122.3235871
          ],
          [
           "Case/Care management",
           47.66632647,
           -122.3337413
          ],
          [
           "Case/Care management",
           47.66198074,
           -122.3460958
          ],
          [
           "Case/Care management",
           47.65447679,
           -122.3364643
          ],
          [
           "Case/Care management",
           47.66767781,
           -122.3284138
          ],
          [
           "Case/Care management",
           47.66358479,
           -122.340728
          ],
          [
           "Case/Care management",
           47.65736664,
           -122.326742
          ],
          [
           "Case/Care management",
           47.67535854,
           -122.3333845
          ],
          [
           "Case/Care management",
           47.63058331,
           -122.3434493
          ],
          [
           "Case/Care management",
           47.60423775,
           -122.2994468
          ],
          [
           "Case/Care management",
           47.61818758,
           -122.3019211
          ],
          [
           "Case/Care management",
           47.60888015,
           -122.2987123
          ],
          [
           "Case/Care management",
           47.61118873,
           -122.3007846
          ],
          [
           "Case/Care management",
           47.61596816,
           -122.2982173
          ],
          [
           "Case/Care management",
           47.60279528,
           -122.3016744
          ],
          [
           "Case/Care management",
           47.60913636,
           -122.2951883
          ],
          [
           "Case/Care management",
           47.61316307,
           -122.2823255
          ],
          [
           "Case/Care management",
           47.61708715,
           -122.2931394
          ],
          [
           "Case/Care management",
           47.61043977,
           -122.2956121
          ],
          [
           "Case/Care management",
           47.6150055,
           -122.2900015
          ],
          [
           "Case/Care management",
           47.62371457,
           -122.2912274
          ],
          [
           "Case/Care management",
           47.6201619,
           -122.2958143
          ],
          [
           "Case/Care management",
           47.62459342,
           -122.2945468
          ],
          [
           "Case/Care management",
           47.61966237,
           -122.2895565
          ],
          [
           "Case/Care management",
           47.6241695,
           -122.2930447
          ],
          [
           "Case/Care management",
           47.6193169,
           -122.2873737
          ],
          [
           "Case/Care management",
           47.60844249,
           -122.310376
          ],
          [
           "Case/Care management",
           47.60581271,
           -122.3040398
          ],
          [
           "Case/Care management",
           47.60998161,
           -122.3046398
          ],
          [
           "Case/Care management",
           47.60679614,
           -122.3090857
          ],
          [
           "Case/Care management",
           47.60230965,
           -122.3057982
          ],
          [
           "Case/Care management",
           47.60489137,
           -122.3067103
          ],
          [
           "Case/Care management",
           47.61066814,
           -122.3125534
          ],
          [
           "Case/Care management",
           47.60663951,
           -122.3081398
          ],
          [
           "Case/Care management",
           47.60820377,
           -122.309995
          ],
          [
           "Case/Care management",
           47.61497797,
           -122.3092361
          ],
          [
           "Case/Care management",
           47.60373015,
           -122.3131471
          ],
          [
           "Case/Care management",
           47.61037712,
           -122.3115658
          ],
          [
           "Case/Care management",
           47.61280971,
           -122.3093698
          ],
          [
           "Case/Care management",
           47.61006942,
           -122.3077298
          ],
          [
           "Case/Care management",
           47.61014851,
           -122.3092557
          ],
          [
           "Case/Care management",
           47.61046729,
           -122.3110913
          ],
          [
           "Case/Care management",
           47.61161948,
           -122.3142567
          ],
          [
           "Case/Care management",
           47.614168,
           -122.3074669
          ],
          [
           "Case/Care management",
           47.61422859,
           -122.3083819
          ],
          [
           "Case/Care management",
           47.60725053,
           -122.3081946
          ],
          [
           "Case/Care management",
           47.61197874,
           -122.3036215
          ],
          [
           "Case/Care management",
           47.61056399,
           -122.3129119
          ],
          [
           "Case/Care management",
           47.60419373,
           -122.3099201
          ],
          [
           "Case/Care management",
           47.60262175,
           -122.3085165
          ],
          [
           "Case/Care management",
           47.60761884,
           -122.3083246
          ],
          [
           "Case/Care management",
           47.60848068,
           -122.3106915
          ],
          [
           "Case/Care management",
           47.60951889,
           -122.3127036
          ],
          [
           "Case/Care management",
           47.60712102,
           -122.3104627
          ],
          [
           "Case/Care management",
           47.61089433,
           -122.3044801
          ],
          [
           "Case/Care management",
           47.60230148,
           -122.3071731
          ],
          [
           "Case/Care management",
           47.60613645,
           -122.3090328
          ],
          [
           "Case/Care management",
           47.60959625,
           -122.3164374
          ],
          [
           "Case/Care management",
           47.60294718,
           -122.3132107
          ],
          [
           "Case/Care management",
           47.60216456,
           -122.3118822
          ],
          [
           "Case/Care management",
           47.61155082,
           -122.3068164
          ],
          [
           "Case/Care management",
           47.60187188,
           -122.307129
          ],
          [
           "Case/Care management",
           47.61360689,
           -122.3124325
          ],
          [
           "Case/Care management",
           47.61237958,
           -122.3137424
          ],
          [
           "Case/Care management",
           47.60702962,
           -122.3069496
          ],
          [
           "Case/Care management",
           47.60663359,
           -122.3160647
          ],
          [
           "Case/Care management",
           47.61441923,
           -122.3067207
          ],
          [
           "Case/Care management",
           47.60863925,
           -122.3065334
          ],
          [
           "Case/Care management",
           47.61340138,
           -122.3034553
          ],
          [
           "Case/Care management",
           47.61250123,
           -122.3096554
          ],
          [
           "Case/Care management",
           47.60275515,
           -122.3119689
          ],
          [
           "Case/Care management",
           47.59680105,
           -122.2884614
          ],
          [
           "Case/Care management",
           47.596318,
           -122.2966468
          ],
          [
           "Case/Care management",
           47.60724932,
           -122.2941532
          ],
          [
           "Case/Care management",
           47.59620078,
           -122.2908042
          ],
          [
           "Case/Care management",
           47.60393134,
           -122.2945169
          ],
          [
           "Case/Care management",
           47.60781103,
           -122.2957674
          ],
          [
           "Case/Care management",
           47.59254368,
           -122.2939382
          ],
          [
           "Case/Care management",
           47.6067369,
           -122.2900877
          ],
          [
           "Case/Care management",
           47.59220795,
           -122.2950032
          ],
          [
           "Case/Care management",
           47.60161607,
           -122.2943798
          ],
          [
           "Case/Care management",
           47.59788774,
           -122.2969628
          ],
          [
           "Case/Care management",
           47.59481013,
           -122.2961645
          ],
          [
           "Case/Care management",
           47.60429647,
           -122.2943586
          ],
          [
           "Case/Care management",
           47.60437922,
           -122.2911153
          ],
          [
           "Case/Care management",
           47.59697059,
           -122.2964817
          ],
          [
           "Case/Care management",
           47.59176832,
           -122.2943217
          ]
         ],
         "hovertemplate": "<b>%{hovertext}</b><br><br><extra></extra>",
         "hovertext": [
          "Case/Care management",
          "Case/Care management",
          "Case/Care management",
          "Case/Care management",
          "Case/Care management",
          "Case/Care management",
          "Case/Care management",
          "Case/Care management",
          "Case/Care management",
          "Case/Care management",
          "Case/Care management",
          "Case/Care management",
          "Case/Care management",
          "Case/Care management",
          "Case/Care management",
          "Case/Care management",
          "Case/Care management",
          "Case/Care management",
          "Case/Care management",
          "Case/Care management",
          "Case/Care management",
          "Case/Care management",
          "Case/Care management",
          "Case/Care management",
          "Case/Care management",
          "Case/Care management",
          "Case/Care management",
          "Case/Care management",
          "Case/Care management",
          "Case/Care management",
          "Case/Care management",
          "Case/Care management",
          "Case/Care management",
          "Case/Care management",
          "Case/Care management",
          "Case/Care management",
          "Case/Care management",
          "Case/Care management",
          "Case/Care management",
          "Case/Care management",
          "Case/Care management",
          "Case/Care management",
          "Case/Care management",
          "Case/Care management",
          "Case/Care management",
          "Case/Care management",
          "Case/Care management",
          "Case/Care management",
          "Case/Care management",
          "Case/Care management",
          "Case/Care management",
          "Case/Care management",
          "Case/Care management",
          "Case/Care management",
          "Case/Care management",
          "Case/Care management",
          "Case/Care management",
          "Case/Care management",
          "Case/Care management",
          "Case/Care management",
          "Case/Care management",
          "Case/Care management",
          "Case/Care management",
          "Case/Care management",
          "Case/Care management",
          "Case/Care management",
          "Case/Care management",
          "Case/Care management",
          "Case/Care management",
          "Case/Care management",
          "Case/Care management",
          "Case/Care management",
          "Case/Care management",
          "Case/Care management",
          "Case/Care management",
          "Case/Care management",
          "Case/Care management",
          "Case/Care management",
          "Case/Care management",
          "Case/Care management",
          "Case/Care management",
          "Case/Care management",
          "Case/Care management",
          "Case/Care management",
          "Case/Care management",
          "Case/Care management",
          "Case/Care management",
          "Case/Care management",
          "Case/Care management",
          "Case/Care management",
          "Case/Care management",
          "Case/Care management",
          "Case/Care management",
          "Case/Care management",
          "Case/Care management",
          "Case/Care management",
          "Case/Care management",
          "Case/Care management",
          "Case/Care management",
          "Case/Care management",
          "Case/Care management",
          "Case/Care management",
          "Case/Care management",
          "Case/Care management",
          "Case/Care management",
          "Case/Care management",
          "Case/Care management",
          "Case/Care management",
          "Case/Care management",
          "Case/Care management",
          "Case/Care management",
          "Case/Care management",
          "Case/Care management",
          "Case/Care management",
          "Case/Care management",
          "Case/Care management",
          "Case/Care management",
          "Case/Care management",
          "Case/Care management",
          "Case/Care management",
          "Case/Care management",
          "Case/Care management",
          "Case/Care management",
          "Case/Care management",
          "Case/Care management",
          "Case/Care management",
          "Case/Care management",
          "Case/Care management",
          "Case/Care management",
          "Case/Care management",
          "Case/Care management",
          "Case/Care management",
          "Case/Care management",
          "Case/Care management",
          "Case/Care management",
          "Case/Care management",
          "Case/Care management",
          "Case/Care management",
          "Case/Care management",
          "Case/Care management",
          "Case/Care management",
          "Case/Care management",
          "Case/Care management",
          "Case/Care management",
          "Case/Care management",
          "Case/Care management",
          "Case/Care management",
          "Case/Care management",
          "Case/Care management",
          "Case/Care management",
          "Case/Care management",
          "Case/Care management",
          "Case/Care management",
          "Case/Care management",
          "Case/Care management",
          "Case/Care management",
          "Case/Care management",
          "Case/Care management",
          "Case/Care management",
          "Case/Care management",
          "Case/Care management",
          "Case/Care management",
          "Case/Care management",
          "Case/Care management",
          "Case/Care management",
          "Case/Care management",
          "Case/Care management",
          "Case/Care management",
          "Case/Care management",
          "Case/Care management",
          "Case/Care management",
          "Case/Care management",
          "Case/Care management",
          "Case/Care management",
          "Case/Care management",
          "Case/Care management",
          "Case/Care management",
          "Case/Care management",
          "Case/Care management",
          "Case/Care management",
          "Case/Care management",
          "Case/Care management",
          "Case/Care management",
          "Case/Care management",
          "Case/Care management",
          "Case/Care management",
          "Case/Care management",
          "Case/Care management",
          "Case/Care management",
          "Case/Care management",
          "Case/Care management"
         ],
         "lat": [
          47.63508504,
          47.64105215,
          47.66832396,
          47.6723724,
          47.66388206,
          47.67092865,
          47.67261671,
          47.67271728,
          47.67274336,
          47.66454921,
          47.66658567,
          47.67358404,
          47.66337838,
          47.66934139,
          47.66493716,
          47.66884467,
          47.6650167,
          47.66597002,
          47.67431327,
          47.66520903,
          47.66444545,
          47.67098702,
          47.66539135,
          47.67342403,
          47.67155243,
          47.66338811,
          47.66336498,
          47.67076135,
          47.67591574,
          47.66365131,
          47.66678535,
          47.63184304,
          47.62812031,
          47.64359973,
          47.63899882,
          47.63950083,
          47.63152636,
          47.64017717,
          47.64290503,
          47.64075557,
          47.63544456,
          47.6305064,
          47.630214,
          47.6337667,
          47.63987162,
          47.63214523,
          47.63279988,
          47.63082669,
          47.6327564,
          47.62846484,
          47.66140494,
          47.65736192,
          47.64985412,
          47.65055156,
          47.66286984,
          47.66659624,
          47.66330129,
          47.65809327,
          47.65767236,
          47.64952916,
          47.65372,
          47.65059636,
          47.65787896,
          47.66189383,
          47.66266784,
          47.66990224,
          47.66400538,
          47.66263063,
          47.65510297,
          47.6473451,
          47.66214454,
          47.65321009,
          47.65094245,
          47.65355382,
          47.66436893,
          47.67025275,
          47.66031845,
          47.65410861,
          47.6499608,
          47.65769988,
          47.65158166,
          47.6708457,
          47.66809219,
          47.6716421,
          47.66982241,
          47.65084966,
          47.65543135,
          47.66230982,
          47.66332376,
          47.64989806,
          47.66642488,
          47.6516632,
          47.65349108,
          47.65612702,
          47.65929724,
          47.65257626,
          47.65410157,
          47.67048822,
          47.65668734,
          47.65243416,
          47.64826946,
          47.668176,
          47.6702672,
          47.66190551,
          47.66222166,
          47.66632647,
          47.66198074,
          47.65447679,
          47.66767781,
          47.66358479,
          47.65736664,
          47.67535854,
          47.63058331,
          47.60423775,
          47.61818758,
          47.60888015,
          47.61118873,
          47.61596816,
          47.60279528,
          47.60913636,
          47.61316307,
          47.61708715,
          47.61043977,
          47.6150055,
          47.62371457,
          47.6201619,
          47.62459342,
          47.61966237,
          47.6241695,
          47.6193169,
          47.60844249,
          47.60581271,
          47.60998161,
          47.60679614,
          47.60230965,
          47.60489137,
          47.61066814,
          47.60663951,
          47.60820377,
          47.61497797,
          47.60373015,
          47.61037712,
          47.61280971,
          47.61006942,
          47.61014851,
          47.61046729,
          47.61161948,
          47.614168,
          47.61422859,
          47.60725053,
          47.61197874,
          47.61056399,
          47.60419373,
          47.60262175,
          47.60761884,
          47.60848068,
          47.60951889,
          47.60712102,
          47.61089433,
          47.60230148,
          47.60613645,
          47.60959625,
          47.60294718,
          47.60216456,
          47.61155082,
          47.60187188,
          47.61360689,
          47.61237958,
          47.60702962,
          47.60663359,
          47.61441923,
          47.60863925,
          47.61340138,
          47.61250123,
          47.60275515,
          47.59680105,
          47.596318,
          47.60724932,
          47.59620078,
          47.60393134,
          47.60781103,
          47.59254368,
          47.6067369,
          47.59220795,
          47.60161607,
          47.59788774,
          47.59481013,
          47.60429647,
          47.60437922,
          47.59697059,
          47.59176832
         ],
         "legendgroup": "Case/Care management",
         "lon": [
          -122.3644435,
          -122.3750817,
          -122.3718212,
          -122.3628417,
          -122.3621749,
          -122.3667818,
          -122.3743927,
          -122.3614171,
          -122.3731945,
          -122.3682089,
          -122.3656518,
          -122.3738143,
          -122.3646915,
          -122.3662641,
          -122.3616797,
          -122.3683793,
          -122.3647071,
          -122.3686393,
          -122.3679688,
          -122.3624565,
          -122.370171,
          -122.3751406,
          -122.3660988,
          -122.3742328,
          -122.3676333,
          -122.3613784,
          -122.3624685,
          -122.371095,
          -122.3704736,
          -122.3620818,
          -122.3667514,
          -122.3451235,
          -122.3487521,
          -122.3446299,
          -122.3435739,
          -122.3433039,
          -122.3562828,
          -122.3465226,
          -122.346705,
          -122.3428766,
          -122.3555166,
          -122.3450221,
          -122.3476151,
          -122.3446154,
          -122.3418345,
          -122.3506487,
          -122.3465579,
          -122.3562298,
          -122.3469865,
          -122.3465481,
          -122.3454722,
          -122.3276249,
          -122.3306848,
          -122.3305887,
          -122.3248901,
          -122.3379123,
          -122.3434587,
          -122.3317165,
          -122.3258483,
          -122.3321774,
          -122.3383883,
          -122.3340379,
          -122.3417997,
          -122.3237494,
          -122.3450441,
          -122.3240487,
          -122.3283366,
          -122.3461182,
          -122.3360436,
          -122.3334862,
          -122.3240169,
          -122.3399708,
          -122.3325889,
          -122.3289685,
          -122.3306356,
          -122.3288856,
          -122.3319052,
          -122.3376053,
          -122.3327015,
          -122.3341513,
          -122.3307967,
          -122.3374666,
          -122.3367733,
          -122.3252768,
          -122.3269604,
          -122.3329107,
          -122.3334223,
          -122.3268488,
          -122.3257564,
          -122.3312562,
          -122.3349052,
          -122.339685,
          -122.3409534,
          -122.3353029,
          -122.333096,
          -122.328736,
          -122.3385109,
          -122.3226001,
          -122.3265699,
          -122.3378533,
          -122.3370324,
          -122.3373708,
          -122.3253725,
          -122.3239717,
          -122.3235871,
          -122.3337413,
          -122.3460958,
          -122.3364643,
          -122.3284138,
          -122.340728,
          -122.326742,
          -122.3333845,
          -122.3434493,
          -122.2994468,
          -122.3019211,
          -122.2987123,
          -122.3007846,
          -122.2982173,
          -122.3016744,
          -122.2951883,
          -122.2823255,
          -122.2931394,
          -122.2956121,
          -122.2900015,
          -122.2912274,
          -122.2958143,
          -122.2945468,
          -122.2895565,
          -122.2930447,
          -122.2873737,
          -122.310376,
          -122.3040398,
          -122.3046398,
          -122.3090857,
          -122.3057982,
          -122.3067103,
          -122.3125534,
          -122.3081398,
          -122.309995,
          -122.3092361,
          -122.3131471,
          -122.3115658,
          -122.3093698,
          -122.3077298,
          -122.3092557,
          -122.3110913,
          -122.3142567,
          -122.3074669,
          -122.3083819,
          -122.3081946,
          -122.3036215,
          -122.3129119,
          -122.3099201,
          -122.3085165,
          -122.3083246,
          -122.3106915,
          -122.3127036,
          -122.3104627,
          -122.3044801,
          -122.3071731,
          -122.3090328,
          -122.3164374,
          -122.3132107,
          -122.3118822,
          -122.3068164,
          -122.307129,
          -122.3124325,
          -122.3137424,
          -122.3069496,
          -122.3160647,
          -122.3067207,
          -122.3065334,
          -122.3034553,
          -122.3096554,
          -122.3119689,
          -122.2884614,
          -122.2966468,
          -122.2941532,
          -122.2908042,
          -122.2945169,
          -122.2957674,
          -122.2939382,
          -122.2900877,
          -122.2950032,
          -122.2943798,
          -122.2969628,
          -122.2961645,
          -122.2943586,
          -122.2911153,
          -122.2964817,
          -122.2943217
         ],
         "marker": {
          "color": "#FF6692",
          "size": 6
         },
         "mode": "markers",
         "name": "Case/Care management",
         "showlegend": true,
         "subplot": "mapbox",
         "type": "scattermapbox"
        },
        {
         "customdata": [
          [
           "Bus Pass",
           47.63140095,
           -122.3676901
          ],
          [
           "Bus Pass",
           47.66676678,
           -122.3812427
          ],
          [
           "Bus Pass",
           47.67550084,
           -122.3889063
          ],
          [
           "Bus Pass",
           47.67575764,
           -122.3787983
          ],
          [
           "Bus Pass",
           47.66780059,
           -122.3883002
          ],
          [
           "Bus Pass",
           47.66937129,
           -122.3762878
          ],
          [
           "Bus Pass",
           47.66896088,
           -122.3938769
          ],
          [
           "Bus Pass",
           47.67168771,
           -122.3925586
          ],
          [
           "Bus Pass",
           47.66502233,
           -122.3827968
          ],
          [
           "Bus Pass",
           47.66939869,
           -122.389254
          ],
          [
           "Bus Pass",
           47.6721767,
           -122.3903617
          ],
          [
           "Bus Pass",
           47.67349962,
           -122.3869636
          ],
          [
           "Bus Pass",
           47.66934443,
           -122.3865391
          ],
          [
           "Bus Pass",
           47.67433308,
           -122.375678
          ],
          [
           "Bus Pass",
           47.67269174,
           -122.3735586
          ],
          [
           "Bus Pass",
           47.67529056,
           -122.3704741
          ],
          [
           "Bus Pass",
           47.66899339,
           -122.3628603
          ],
          [
           "Bus Pass",
           47.66879475,
           -122.3616125
          ],
          [
           "Bus Pass",
           47.67388232,
           -122.3746263
          ],
          [
           "Bus Pass",
           47.66980224,
           -122.3385395
          ],
          [
           "Bus Pass",
           47.65085838,
           -122.3313378
          ],
          [
           "Bus Pass",
           47.65707098,
           -122.3238801
          ],
          [
           "Bus Pass",
           47.66243176,
           -122.3467924
          ],
          [
           "Bus Pass",
           47.65089092,
           -122.3335344
          ],
          [
           "Bus Pass",
           47.67206215,
           -122.3249283
          ],
          [
           "Bus Pass",
           47.65215976,
           -122.3394301
          ],
          [
           "Bus Pass",
           47.6622894,
           -122.3460901
          ],
          [
           "Bus Pass",
           47.6703066,
           -122.3390952
          ],
          [
           "Bus Pass",
           47.67571999,
           -122.3321768
          ],
          [
           "Bus Pass",
           47.67853736,
           -122.3250134
          ],
          [
           "Bus Pass",
           47.61303672,
           -122.2994532
          ],
          [
           "Bus Pass",
           47.60957776,
           -122.2988641
          ],
          [
           "Bus Pass",
           47.62233688,
           -122.2974357
          ],
          [
           "Bus Pass",
           47.60952299,
           -122.2986581
          ],
          [
           "Bus Pass",
           47.61028148,
           -122.2957444
          ],
          [
           "Bus Pass",
           47.66116769,
           -122.3146512
          ],
          [
           "Bus Pass",
           47.66833788,
           -122.315186
          ],
          [
           "Bus Pass",
           47.66109671,
           -122.318774
          ],
          [
           "Bus Pass",
           47.66442357,
           -122.3032119
          ],
          [
           "Bus Pass",
           47.65747556,
           -122.3175427
          ],
          [
           "Bus Pass",
           47.6041844,
           -122.312639
          ]
         ],
         "hovertemplate": "<b>%{hovertext}</b><br><br><extra></extra>",
         "hovertext": [
          "Bus Pass",
          "Bus Pass",
          "Bus Pass",
          "Bus Pass",
          "Bus Pass",
          "Bus Pass",
          "Bus Pass",
          "Bus Pass",
          "Bus Pass",
          "Bus Pass",
          "Bus Pass",
          "Bus Pass",
          "Bus Pass",
          "Bus Pass",
          "Bus Pass",
          "Bus Pass",
          "Bus Pass",
          "Bus Pass",
          "Bus Pass",
          "Bus Pass",
          "Bus Pass",
          "Bus Pass",
          "Bus Pass",
          "Bus Pass",
          "Bus Pass",
          "Bus Pass",
          "Bus Pass",
          "Bus Pass",
          "Bus Pass",
          "Bus Pass",
          "Bus Pass",
          "Bus Pass",
          "Bus Pass",
          "Bus Pass",
          "Bus Pass",
          "Bus Pass",
          "Bus Pass",
          "Bus Pass",
          "Bus Pass",
          "Bus Pass",
          "Bus Pass"
         ],
         "lat": [
          47.63140095,
          47.66676678,
          47.67550084,
          47.67575764,
          47.66780059,
          47.66937129,
          47.66896088,
          47.67168771,
          47.66502233,
          47.66939869,
          47.6721767,
          47.67349962,
          47.66934443,
          47.67433308,
          47.67269174,
          47.67529056,
          47.66899339,
          47.66879475,
          47.67388232,
          47.66980224,
          47.65085838,
          47.65707098,
          47.66243176,
          47.65089092,
          47.67206215,
          47.65215976,
          47.6622894,
          47.6703066,
          47.67571999,
          47.67853736,
          47.61303672,
          47.60957776,
          47.62233688,
          47.60952299,
          47.61028148,
          47.66116769,
          47.66833788,
          47.66109671,
          47.66442357,
          47.65747556,
          47.6041844
         ],
         "legendgroup": "Bus Pass",
         "lon": [
          -122.3676901,
          -122.3812427,
          -122.3889063,
          -122.3787983,
          -122.3883002,
          -122.3762878,
          -122.3938769,
          -122.3925586,
          -122.3827968,
          -122.389254,
          -122.3903617,
          -122.3869636,
          -122.3865391,
          -122.375678,
          -122.3735586,
          -122.3704741,
          -122.3628603,
          -122.3616125,
          -122.3746263,
          -122.3385395,
          -122.3313378,
          -122.3238801,
          -122.3467924,
          -122.3335344,
          -122.3249283,
          -122.3394301,
          -122.3460901,
          -122.3390952,
          -122.3321768,
          -122.3250134,
          -122.2994532,
          -122.2988641,
          -122.2974357,
          -122.2986581,
          -122.2957444,
          -122.3146512,
          -122.315186,
          -122.318774,
          -122.3032119,
          -122.3175427,
          -122.312639
         ],
         "marker": {
          "color": "#B6E880",
          "size": 6
         },
         "mode": "markers",
         "name": "Bus Pass",
         "showlegend": true,
         "subplot": "mapbox",
         "type": "scattermapbox"
        },
        {
         "customdata": [
          [
           "Mental Health Counseling",
           47.67283504,
           -122.3874716
          ],
          [
           "Mental Health Counseling",
           47.67171434,
           -122.3658876
          ],
          [
           "Mental Health Counseling",
           47.66807053,
           -122.3620862
          ],
          [
           "Mental Health Counseling",
           47.67212369,
           -122.3650094
          ],
          [
           "Mental Health Counseling",
           47.67357118,
           -122.3642743
          ],
          [
           "Mental Health Counseling",
           47.66524464,
           -122.3704095
          ],
          [
           "Mental Health Counseling",
           47.67167956,
           -122.3653898
          ],
          [
           "Mental Health Counseling",
           47.66624017,
           -122.3609177
          ],
          [
           "Mental Health Counseling",
           47.67091242,
           -122.3655995
          ],
          [
           "Mental Health Counseling",
           47.64675745,
           -122.3527991
          ],
          [
           "Mental Health Counseling",
           47.61455596,
           -122.2901788
          ],
          [
           "Mental Health Counseling",
           47.66494949,
           -122.3211328
          ],
          [
           "Mental Health Counseling",
           47.66701648,
           -122.3044009
          ],
          [
           "Mental Health Counseling",
           47.65892905,
           -122.3163078
          ],
          [
           "Mental Health Counseling",
           47.66314003,
           -122.30285
          ],
          [
           "Mental Health Counseling",
           47.60751122,
           -122.3075847
          ],
          [
           "Mental Health Counseling",
           47.59515432,
           -122.2966662
          ]
         ],
         "hovertemplate": "<b>%{hovertext}</b><br><br><extra></extra>",
         "hovertext": [
          "Mental Health Counseling",
          "Mental Health Counseling",
          "Mental Health Counseling",
          "Mental Health Counseling",
          "Mental Health Counseling",
          "Mental Health Counseling",
          "Mental Health Counseling",
          "Mental Health Counseling",
          "Mental Health Counseling",
          "Mental Health Counseling",
          "Mental Health Counseling",
          "Mental Health Counseling",
          "Mental Health Counseling",
          "Mental Health Counseling",
          "Mental Health Counseling",
          "Mental Health Counseling",
          "Mental Health Counseling"
         ],
         "lat": [
          47.67283504,
          47.67171434,
          47.66807053,
          47.67212369,
          47.67357118,
          47.66524464,
          47.67167956,
          47.66624017,
          47.67091242,
          47.64675745,
          47.61455596,
          47.66494949,
          47.66701648,
          47.65892905,
          47.66314003,
          47.60751122,
          47.59515432
         ],
         "legendgroup": "Mental Health Counseling",
         "lon": [
          -122.3874716,
          -122.3658876,
          -122.3620862,
          -122.3650094,
          -122.3642743,
          -122.3704095,
          -122.3653898,
          -122.3609177,
          -122.3655995,
          -122.3527991,
          -122.2901788,
          -122.3211328,
          -122.3044009,
          -122.3163078,
          -122.30285,
          -122.3075847,
          -122.2966662
         ],
         "marker": {
          "color": "#FF97FF",
          "size": 6
         },
         "mode": "markers",
         "name": "Mental Health Counseling",
         "showlegend": true,
         "subplot": "mapbox",
         "type": "scattermapbox"
        },
        {
         "customdata": [
          [
           "Food",
           47.62889479,
           -122.3475714
          ],
          [
           "Food",
           47.6593428,
           -122.3319395
          ],
          [
           "Food",
           47.64480022,
           -122.3739315
          ],
          [
           "Food",
           47.64018626,
           -122.3663757
          ],
          [
           "Food",
           47.68713059,
           -122.3345137
          ],
          [
           "Food",
           47.61858617,
           -122.3015051
          ],
          [
           "Food",
           47.61401049,
           -122.2966074
          ],
          [
           "Food",
           47.61049873,
           -122.2972573
          ],
          [
           "Food",
           47.60590764,
           -122.3139468
          ],
          [
           "Food",
           47.60910412,
           -122.31115
          ],
          [
           "Food",
           47.59537123,
           -122.2967295
          ]
         ],
         "hovertemplate": "<b>%{hovertext}</b><br><br><extra></extra>",
         "hovertext": [
          "Food",
          "Food",
          "Food",
          "Food",
          "Food",
          "Food",
          "Food",
          "Food",
          "Food",
          "Food",
          "Food"
         ],
         "lat": [
          47.62889479,
          47.6593428,
          47.64480022,
          47.64018626,
          47.68713059,
          47.61858617,
          47.61401049,
          47.61049873,
          47.60590764,
          47.60910412,
          47.59537123
         ],
         "legendgroup": "Food",
         "lon": [
          -122.3475714,
          -122.3319395,
          -122.3739315,
          -122.3663757,
          -122.3345137,
          -122.3015051,
          -122.2966074,
          -122.2972573,
          -122.3139468,
          -122.31115,
          -122.2967295
         ],
         "marker": {
          "color": "#FECB52",
          "size": 6
         },
         "mode": "markers",
         "name": "Food",
         "showlegend": true,
         "subplot": "mapbox",
         "type": "scattermapbox"
        },
        {
         "customdata": [
          [
           "Bus Tokens",
           47.63321404,
           -122.3549398
          ],
          [
           "Bus Tokens",
           47.6294311,
           -122.3452937
          ],
          [
           "Bus Tokens",
           47.62917175,
           -122.3474787
          ],
          [
           "Bus Tokens",
           47.64219186,
           -122.3464303
          ],
          [
           "Bus Tokens",
           47.64034606,
           -122.3420882
          ],
          [
           "Bus Tokens",
           47.62905147,
           -122.3509893
          ],
          [
           "Bus Tokens",
           47.62983437,
           -122.3468722
          ],
          [
           "Bus Tokens",
           47.63111242,
           -122.3439642
          ],
          [
           "Bus Tokens",
           47.64046804,
           -122.3557637
          ],
          [
           "Bus Tokens",
           47.63953892,
           -122.3448475
          ],
          [
           "Bus Tokens",
           47.64071111,
           -122.3463179
          ],
          [
           "Bus Tokens",
           47.64145197,
           -122.3528848
          ],
          [
           "Bus Tokens",
           47.64387483,
           -122.3461443
          ],
          [
           "Bus Tokens",
           47.63703759,
           -122.353111
          ],
          [
           "Bus Tokens",
           47.63394912,
           -122.3496911
          ],
          [
           "Bus Tokens",
           47.63786752,
           -122.3530645
          ],
          [
           "Bus Tokens",
           47.66546743,
           -122.3235737
          ],
          [
           "Bus Tokens",
           47.6669849,
           -122.3394022
          ],
          [
           "Bus Tokens",
           47.65373805,
           -122.3389802
          ],
          [
           "Bus Tokens",
           47.66895679,
           -122.3377825
          ],
          [
           "Bus Tokens",
           47.65588494,
           -122.332136
          ],
          [
           "Bus Tokens",
           47.65163619,
           -122.3386218
          ],
          [
           "Bus Tokens",
           47.66540203,
           -122.3393869
          ],
          [
           "Bus Tokens",
           47.65361625,
           -122.3325597
          ],
          [
           "Bus Tokens",
           47.66474422,
           -122.3381738
          ],
          [
           "Bus Tokens",
           47.66585564,
           -122.3226907
          ],
          [
           "Bus Tokens",
           47.65635515,
           -122.3381037
          ],
          [
           "Bus Tokens",
           47.66014668,
           -122.3415303
          ],
          [
           "Bus Tokens",
           47.66692015,
           -122.3387942
          ],
          [
           "Bus Tokens",
           47.65158618,
           -122.3399027
          ],
          [
           "Bus Tokens",
           47.65595529,
           -122.3321554
          ],
          [
           "Bus Tokens",
           47.65991178,
           -122.3376861
          ],
          [
           "Bus Tokens",
           47.66103159,
           -122.3351641
          ],
          [
           "Bus Tokens",
           47.66128295,
           -122.326836
          ],
          [
           "Bus Tokens",
           47.65002387,
           -122.3328031
          ],
          [
           "Bus Tokens",
           47.60526922,
           -122.2987883
          ],
          [
           "Bus Tokens",
           47.61433214,
           -122.3013293
          ],
          [
           "Bus Tokens",
           47.61481815,
           -122.3003435
          ],
          [
           "Bus Tokens",
           47.67042422,
           -122.3152792
          ]
         ],
         "hovertemplate": "<b>%{hovertext}</b><br><br><extra></extra>",
         "hovertext": [
          "Bus Tokens",
          "Bus Tokens",
          "Bus Tokens",
          "Bus Tokens",
          "Bus Tokens",
          "Bus Tokens",
          "Bus Tokens",
          "Bus Tokens",
          "Bus Tokens",
          "Bus Tokens",
          "Bus Tokens",
          "Bus Tokens",
          "Bus Tokens",
          "Bus Tokens",
          "Bus Tokens",
          "Bus Tokens",
          "Bus Tokens",
          "Bus Tokens",
          "Bus Tokens",
          "Bus Tokens",
          "Bus Tokens",
          "Bus Tokens",
          "Bus Tokens",
          "Bus Tokens",
          "Bus Tokens",
          "Bus Tokens",
          "Bus Tokens",
          "Bus Tokens",
          "Bus Tokens",
          "Bus Tokens",
          "Bus Tokens",
          "Bus Tokens",
          "Bus Tokens",
          "Bus Tokens",
          "Bus Tokens",
          "Bus Tokens",
          "Bus Tokens",
          "Bus Tokens",
          "Bus Tokens"
         ],
         "lat": [
          47.63321404,
          47.6294311,
          47.62917175,
          47.64219186,
          47.64034606,
          47.62905147,
          47.62983437,
          47.63111242,
          47.64046804,
          47.63953892,
          47.64071111,
          47.64145197,
          47.64387483,
          47.63703759,
          47.63394912,
          47.63786752,
          47.66546743,
          47.6669849,
          47.65373805,
          47.66895679,
          47.65588494,
          47.65163619,
          47.66540203,
          47.65361625,
          47.66474422,
          47.66585564,
          47.65635515,
          47.66014668,
          47.66692015,
          47.65158618,
          47.65595529,
          47.65991178,
          47.66103159,
          47.66128295,
          47.65002387,
          47.60526922,
          47.61433214,
          47.61481815,
          47.67042422
         ],
         "legendgroup": "Bus Tokens",
         "lon": [
          -122.3549398,
          -122.3452937,
          -122.3474787,
          -122.3464303,
          -122.3420882,
          -122.3509893,
          -122.3468722,
          -122.3439642,
          -122.3557637,
          -122.3448475,
          -122.3463179,
          -122.3528848,
          -122.3461443,
          -122.353111,
          -122.3496911,
          -122.3530645,
          -122.3235737,
          -122.3394022,
          -122.3389802,
          -122.3377825,
          -122.332136,
          -122.3386218,
          -122.3393869,
          -122.3325597,
          -122.3381738,
          -122.3226907,
          -122.3381037,
          -122.3415303,
          -122.3387942,
          -122.3399027,
          -122.3321554,
          -122.3376861,
          -122.3351641,
          -122.326836,
          -122.3328031,
          -122.2987883,
          -122.3013293,
          -122.3003435,
          -122.3152792
         ],
         "marker": {
          "color": "#636efa",
          "size": 6
         },
         "mode": "markers",
         "name": "Bus Tokens",
         "showlegend": true,
         "subplot": "mapbox",
         "type": "scattermapbox"
        },
        {
         "customdata": [
          [
           "Security Deposit",
           47.6543064,
           -122.3302262
          ],
          [
           "Security Deposit",
           47.65433968,
           -122.3708774
          ],
          [
           "Security Deposit",
           47.65634217,
           -122.3188398
          ],
          [
           "Security Deposit",
           47.60767478,
           -122.3056185
          ]
         ],
         "hovertemplate": "<b>%{hovertext}</b><br><br><extra></extra>",
         "hovertext": [
          "Security Deposit",
          "Security Deposit",
          "Security Deposit",
          "Security Deposit"
         ],
         "lat": [
          47.6543064,
          47.65433968,
          47.65634217,
          47.60767478
         ],
         "legendgroup": "Security Deposit",
         "lon": [
          -122.3302262,
          -122.3708774,
          -122.3188398,
          -122.3056185
         ],
         "marker": {
          "color": "#EF553B",
          "size": 6
         },
         "mode": "markers",
         "name": "Security Deposit",
         "showlegend": true,
         "subplot": "mapbox",
         "type": "scattermapbox"
        },
        {
         "customdata": [
          [
           "Clothing",
           47.65940041,
           -122.3245071
          ]
         ],
         "hovertemplate": "<b>%{hovertext}</b><br><br><extra></extra>",
         "hovertext": [
          "Clothing"
         ],
         "lat": [
          47.65940041
         ],
         "legendgroup": "Clothing",
         "lon": [
          -122.3245071
         ],
         "marker": {
          "color": "#00cc96",
          "size": 6
         },
         "mode": "markers",
         "name": "Clothing",
         "showlegend": true,
         "subplot": "mapbox",
         "type": "scattermapbox"
        },
        {
         "customdata": [
          [
           "Birth Certificate",
           47.65754176,
           -122.3415325
          ],
          [
           "Birth Certificate",
           47.61871017,
           -122.2964238
          ],
          [
           "Birth Certificate",
           47.6203323,
           -122.2955346
          ],
          [
           "Birth Certificate",
           47.61107854,
           -122.3128201
          ],
          [
           "Birth Certificate",
           47.60332553,
           -122.3138647
          ]
         ],
         "hovertemplate": "<b>%{hovertext}</b><br><br><extra></extra>",
         "hovertext": [
          "Birth Certificate",
          "Birth Certificate",
          "Birth Certificate",
          "Birth Certificate",
          "Birth Certificate"
         ],
         "lat": [
          47.65754176,
          47.61871017,
          47.6203323,
          47.61107854,
          47.60332553
         ],
         "legendgroup": "Birth Certificate",
         "lon": [
          -122.3415325,
          -122.2964238,
          -122.2955346,
          -122.3128201,
          -122.3138647
         ],
         "marker": {
          "color": "#ab63fa",
          "size": 6
         },
         "mode": "markers",
         "name": "Birth Certificate",
         "showlegend": true,
         "subplot": "mapbox",
         "type": "scattermapbox"
        },
        {
         "customdata": [
          [
           "Moving Costs",
           47.66858111,
           -122.3368802
          ],
          [
           "Moving Costs",
           47.6409471,
           -122.3573748
          ],
          [
           "Moving Costs",
           47.61815492,
           -122.2875826
          ],
          [
           "Moving Costs",
           47.60587457,
           -122.3079307
          ]
         ],
         "hovertemplate": "<b>%{hovertext}</b><br><br><extra></extra>",
         "hovertext": [
          "Moving Costs",
          "Moving Costs",
          "Moving Costs",
          "Moving Costs"
         ],
         "lat": [
          47.66858111,
          47.6409471,
          47.61815492,
          47.60587457
         ],
         "legendgroup": "Moving Costs",
         "lon": [
          -122.3368802,
          -122.3573748,
          -122.2875826,
          -122.3079307
         ],
         "marker": {
          "color": "#FFA15A",
          "size": 6
         },
         "mode": "markers",
         "name": "Moving Costs",
         "showlegend": true,
         "subplot": "mapbox",
         "type": "scattermapbox"
        },
        {
         "customdata": [
          [
           "Responsible Renters Class",
           47.66993429,
           -122.3266899
          ],
          [
           "Responsible Renters Class",
           47.6585389,
           -122.325818
          ],
          [
           "Responsible Renters Class",
           47.64181148,
           -122.3740712
          ],
          [
           "Responsible Renters Class",
           47.64096458,
           -122.3682862
          ],
          [
           "Responsible Renters Class",
           47.68472182,
           -122.3388215
          ],
          [
           "Responsible Renters Class",
           47.62088255,
           -122.2977449
          ],
          [
           "Responsible Renters Class",
           47.62250279,
           -122.2956157
          ],
          [
           "Responsible Renters Class",
           47.60308859,
           -122.305234
          ],
          [
           "Responsible Renters Class",
           47.61008938,
           -122.3136806
          ],
          [
           "Responsible Renters Class",
           47.61057511,
           -122.3044013
          ],
          [
           "Responsible Renters Class",
           47.6137239,
           -122.3091643
          ],
          [
           "Responsible Renters Class",
           47.6064609,
           -122.3074784
          ],
          [
           "Responsible Renters Class",
           47.60632184,
           -122.3055772
          ]
         ],
         "hovertemplate": "<b>%{hovertext}</b><br><br><extra></extra>",
         "hovertext": [
          "Responsible Renters Class",
          "Responsible Renters Class",
          "Responsible Renters Class",
          "Responsible Renters Class",
          "Responsible Renters Class",
          "Responsible Renters Class",
          "Responsible Renters Class",
          "Responsible Renters Class",
          "Responsible Renters Class",
          "Responsible Renters Class",
          "Responsible Renters Class",
          "Responsible Renters Class",
          "Responsible Renters Class"
         ],
         "lat": [
          47.66993429,
          47.6585389,
          47.64181148,
          47.64096458,
          47.68472182,
          47.62088255,
          47.62250279,
          47.60308859,
          47.61008938,
          47.61057511,
          47.6137239,
          47.6064609,
          47.60632184
         ],
         "legendgroup": "Responsible Renters Class",
         "lon": [
          -122.3266899,
          -122.325818,
          -122.3740712,
          -122.3682862,
          -122.3388215,
          -122.2977449,
          -122.2956157,
          -122.305234,
          -122.3136806,
          -122.3044013,
          -122.3091643,
          -122.3074784,
          -122.3055772
         ],
         "marker": {
          "color": "#19d3f3",
          "size": 6
         },
         "mode": "markers",
         "name": "Responsible Renters Class",
         "showlegend": true,
         "subplot": "mapbox",
         "type": "scattermapbox"
        },
        {
         "customdata": [
          [
           "Housing Search and Placement",
           47.68614501,
           -122.332185
          ],
          [
           "Housing Search and Placement",
           47.68532672,
           -122.3423891
          ],
          [
           "Housing Search and Placement",
           47.67330354,
           -122.322513
          ],
          [
           "Housing Search and Placement",
           47.67803024,
           -122.326485
          ],
          [
           "Housing Search and Placement",
           47.68415691,
           -122.3259722
          ],
          [
           "Housing Search and Placement",
           47.67708444,
           -122.3235236
          ],
          [
           "Housing Search and Placement",
           47.60810282,
           -122.2970611
          ],
          [
           "Housing Search and Placement",
           47.61710244,
           -122.2965592
          ],
          [
           "Housing Search and Placement",
           47.6104028,
           -122.3003326
          ],
          [
           "Housing Search and Placement",
           47.61916109,
           -122.2986551
          ],
          [
           "Housing Search and Placement",
           47.6128668,
           -122.2984791
          ],
          [
           "Housing Search and Placement",
           47.61560788,
           -122.301896
          ],
          [
           "Housing Search and Placement",
           47.6174257,
           -122.3009016
          ],
          [
           "Housing Search and Placement",
           47.61837466,
           -122.2977052
          ],
          [
           "Housing Search and Placement",
           47.61632845,
           -122.2954818
          ],
          [
           "Housing Search and Placement",
           47.61608833,
           -122.2885017
          ],
          [
           "Housing Search and Placement",
           47.61553436,
           -122.2830025
          ],
          [
           "Housing Search and Placement",
           47.6105636,
           -122.2863438
          ],
          [
           "Housing Search and Placement",
           47.61835336,
           -122.287456
          ],
          [
           "Housing Search and Placement",
           47.61648989,
           -122.2940182
          ],
          [
           "Housing Search and Placement",
           47.61556576,
           -122.2852787
          ],
          [
           "Housing Search and Placement",
           47.6651984,
           -122.305289
          ],
          [
           "Housing Search and Placement",
           47.66940738,
           -122.3083482
          ],
          [
           "Housing Search and Placement",
           47.66404593,
           -122.3035321
          ],
          [
           "Housing Search and Placement",
           47.65732911,
           -122.3174674
          ],
          [
           "Housing Search and Placement",
           47.659933,
           -122.3214421
          ],
          [
           "Housing Search and Placement",
           47.66215516,
           -122.3035447
          ],
          [
           "Housing Search and Placement",
           47.66778803,
           -122.3199847
          ],
          [
           "Housing Search and Placement",
           47.66664004,
           -122.3164824
          ],
          [
           "Housing Search and Placement",
           47.66722261,
           -122.3167983
          ],
          [
           "Housing Search and Placement",
           47.66491325,
           -122.3097638
          ]
         ],
         "hovertemplate": "<b>%{hovertext}</b><br><br><extra></extra>",
         "hovertext": [
          "Housing Search and Placement",
          "Housing Search and Placement",
          "Housing Search and Placement",
          "Housing Search and Placement",
          "Housing Search and Placement",
          "Housing Search and Placement",
          "Housing Search and Placement",
          "Housing Search and Placement",
          "Housing Search and Placement",
          "Housing Search and Placement",
          "Housing Search and Placement",
          "Housing Search and Placement",
          "Housing Search and Placement",
          "Housing Search and Placement",
          "Housing Search and Placement",
          "Housing Search and Placement",
          "Housing Search and Placement",
          "Housing Search and Placement",
          "Housing Search and Placement",
          "Housing Search and Placement",
          "Housing Search and Placement",
          "Housing Search and Placement",
          "Housing Search and Placement",
          "Housing Search and Placement",
          "Housing Search and Placement",
          "Housing Search and Placement",
          "Housing Search and Placement",
          "Housing Search and Placement",
          "Housing Search and Placement",
          "Housing Search and Placement",
          "Housing Search and Placement"
         ],
         "lat": [
          47.68614501,
          47.68532672,
          47.67330354,
          47.67803024,
          47.68415691,
          47.67708444,
          47.60810282,
          47.61710244,
          47.6104028,
          47.61916109,
          47.6128668,
          47.61560788,
          47.6174257,
          47.61837466,
          47.61632845,
          47.61608833,
          47.61553436,
          47.6105636,
          47.61835336,
          47.61648989,
          47.61556576,
          47.6651984,
          47.66940738,
          47.66404593,
          47.65732911,
          47.659933,
          47.66215516,
          47.66778803,
          47.66664004,
          47.66722261,
          47.66491325
         ],
         "legendgroup": "Housing Search and Placement",
         "lon": [
          -122.332185,
          -122.3423891,
          -122.322513,
          -122.326485,
          -122.3259722,
          -122.3235236,
          -122.2970611,
          -122.2965592,
          -122.3003326,
          -122.2986551,
          -122.2984791,
          -122.301896,
          -122.3009016,
          -122.2977052,
          -122.2954818,
          -122.2885017,
          -122.2830025,
          -122.2863438,
          -122.287456,
          -122.2940182,
          -122.2852787,
          -122.305289,
          -122.3083482,
          -122.3035321,
          -122.3174674,
          -122.3214421,
          -122.3035447,
          -122.3199847,
          -122.3164824,
          -122.3167983,
          -122.3097638
         ],
         "marker": {
          "color": "#FF6692",
          "size": 6
         },
         "mode": "markers",
         "name": "Housing Search and Placement",
         "showlegend": true,
         "subplot": "mapbox",
         "type": "scattermapbox"
        },
        {
         "customdata": [
          [
           "Employment Services",
           47.67431015,
           -122.3226601
          ],
          [
           "Employment Services",
           47.61847456,
           -122.2986787
          ],
          [
           "Employment Services",
           47.60907002,
           -122.2961326
          ],
          [
           "Employment Services",
           47.61495757,
           -122.2891259
          ],
          [
           "Employment Services",
           47.61217344,
           -122.2919284
          ],
          [
           "Employment Services",
           47.66415028,
           -122.3039721
          ],
          [
           "Employment Services",
           47.66449697,
           -122.3127727
          ],
          [
           "Employment Services",
           47.66422452,
           -122.309741
          ],
          [
           "Employment Services",
           47.65749175,
           -122.3198978
          ],
          [
           "Employment Services",
           47.65889785,
           -122.3221733
          ],
          [
           "Employment Services",
           47.65900535,
           -122.3217559
          ]
         ],
         "hovertemplate": "<b>%{hovertext}</b><br><br><extra></extra>",
         "hovertext": [
          "Employment Services",
          "Employment Services",
          "Employment Services",
          "Employment Services",
          "Employment Services",
          "Employment Services",
          "Employment Services",
          "Employment Services",
          "Employment Services",
          "Employment Services",
          "Employment Services"
         ],
         "lat": [
          47.67431015,
          47.61847456,
          47.60907002,
          47.61495757,
          47.61217344,
          47.66415028,
          47.66449697,
          47.66422452,
          47.65749175,
          47.65889785,
          47.65900535
         ],
         "legendgroup": "Employment Services",
         "lon": [
          -122.3226601,
          -122.2986787,
          -122.2961326,
          -122.2891259,
          -122.2919284,
          -122.3039721,
          -122.3127727,
          -122.309741,
          -122.3198978,
          -122.3221733,
          -122.3217559
         ],
         "marker": {
          "color": "#B6E880",
          "size": 6
         },
         "mode": "markers",
         "name": "Employment Services",
         "showlegend": true,
         "subplot": "mapbox",
         "type": "scattermapbox"
        },
        {
         "customdata": [
          [
           "Employment Skills",
           47.61231304,
           -122.2982522
          ],
          [
           "Employment Skills",
           47.6172088,
           -122.3017538
          ],
          [
           "Employment Skills",
           47.67205628,
           -122.3177189
          ]
         ],
         "hovertemplate": "<b>%{hovertext}</b><br><br><extra></extra>",
         "hovertext": [
          "Employment Skills",
          "Employment Skills",
          "Employment Skills"
         ],
         "lat": [
          47.61231304,
          47.6172088,
          47.67205628
         ],
         "legendgroup": "Employment Skills",
         "lon": [
          -122.2982522,
          -122.3017538,
          -122.3177189
         ],
         "marker": {
          "color": "#FF97FF",
          "size": 6
         },
         "mode": "markers",
         "name": "Employment Skills",
         "showlegend": true,
         "subplot": "mapbox",
         "type": "scattermapbox"
        },
        {
         "customdata": [
          [
           "Job Readiness Class",
           47.65707082,
           -122.3142602
          ]
         ],
         "hovertemplate": "<b>%{hovertext}</b><br><br><extra></extra>",
         "hovertext": [
          "Job Readiness Class"
         ],
         "lat": [
          47.65707082
         ],
         "legendgroup": "Job Readiness Class",
         "lon": [
          -122.3142602
         ],
         "marker": {
          "color": "#FECB52",
          "size": 6
         },
         "mode": "markers",
         "name": "Job Readiness Class",
         "showlegend": true,
         "subplot": "mapbox",
         "type": "scattermapbox"
        },
        {
         "customdata": [
          [
           "TBRA",
           47.67140573,
           -122.3167847
          ]
         ],
         "hovertemplate": "<b>%{hovertext}</b><br><br><extra></extra>",
         "hovertext": [
          "TBRA"
         ],
         "lat": [
          47.67140573
         ],
         "legendgroup": "TBRA",
         "lon": [
          -122.3167847
         ],
         "marker": {
          "color": "#636efa",
          "size": 6
         },
         "mode": "markers",
         "name": "TBRA",
         "showlegend": true,
         "subplot": "mapbox",
         "type": "scattermapbox"
        },
        {
         "customdata": [
          [
           "Gas Card",
           47.61687399,
           -122.3032697
          ]
         ],
         "hovertemplate": "<b>%{hovertext}</b><br><br><extra></extra>",
         "hovertext": [
          "Gas Card"
         ],
         "lat": [
          47.61687399
         ],
         "legendgroup": "Gas Card",
         "lon": [
          -122.3032697
         ],
         "marker": {
          "color": "#EF553B",
          "size": 6
         },
         "mode": "markers",
         "name": "Gas Card",
         "showlegend": true,
         "subplot": "mapbox",
         "type": "scattermapbox"
        },
        {
         "customdata": [
          [
           "Outreach",
           47.61704032,
           -122.3028063
          ]
         ],
         "hovertemplate": "<b>%{hovertext}</b><br><br><extra></extra>",
         "hovertext": [
          "Outreach"
         ],
         "lat": [
          47.61704032
         ],
         "legendgroup": "Outreach",
         "lon": [
          -122.3028063
         ],
         "marker": {
          "color": "#00cc96",
          "size": 6
         },
         "mode": "markers",
         "name": "Outreach",
         "showlegend": true,
         "subplot": "mapbox",
         "type": "scattermapbox"
        },
        {
         "customdata": [
          [
           "Transitional Housing - Category 4 (Fleeing DV)",
           47.60688433,
           -122.2872419
          ]
         ],
         "hovertemplate": "<b>%{hovertext}</b><br><br><extra></extra>",
         "hovertext": [
          "Transitional Housing - Category 4 (Fleeing DV)"
         ],
         "lat": [
          47.60688433
         ],
         "legendgroup": "Transitional Housing - Category 4 (Fleeing DV)",
         "lon": [
          -122.2872419
         ],
         "marker": {
          "color": "#ab63fa",
          "size": 6
         },
         "mode": "markers",
         "name": "Transitional Housing - Category 4 (Fleeing DV)",
         "showlegend": true,
         "subplot": "mapbox",
         "type": "scattermapbox"
        }
       ],
       "layout": {
        "legend": {
         "title": {
          "text": "service_description"
         },
         "tracegroupgap": 0
        },
        "mapbox": {
         "center": {
          "lat": 47.642702115400006,
          "lon": -122.33223465879999
         },
         "domain": {
          "x": [
           0,
           1
          ],
          "y": [
           0,
           1
          ]
         },
         "style": "open-street-map",
         "zoom": 11
        },
        "margin": {
         "t": 60
        },
        "showlegend": false,
        "template": {
         "data": {
          "bar": [
           {
            "error_x": {
             "color": "#2a3f5f"
            },
            "error_y": {
             "color": "#2a3f5f"
            },
            "marker": {
             "line": {
              "color": "#E5ECF6",
              "width": 0.5
             }
            },
            "type": "bar"
           }
          ],
          "barpolar": [
           {
            "marker": {
             "line": {
              "color": "#E5ECF6",
              "width": 0.5
             }
            },
            "type": "barpolar"
           }
          ],
          "carpet": [
           {
            "aaxis": {
             "endlinecolor": "#2a3f5f",
             "gridcolor": "white",
             "linecolor": "white",
             "minorgridcolor": "white",
             "startlinecolor": "#2a3f5f"
            },
            "baxis": {
             "endlinecolor": "#2a3f5f",
             "gridcolor": "white",
             "linecolor": "white",
             "minorgridcolor": "white",
             "startlinecolor": "#2a3f5f"
            },
            "type": "carpet"
           }
          ],
          "choropleth": [
           {
            "colorbar": {
             "outlinewidth": 0,
             "ticks": ""
            },
            "type": "choropleth"
           }
          ],
          "contour": [
           {
            "colorbar": {
             "outlinewidth": 0,
             "ticks": ""
            },
            "colorscale": [
             [
              0,
              "#0d0887"
             ],
             [
              0.1111111111111111,
              "#46039f"
             ],
             [
              0.2222222222222222,
              "#7201a8"
             ],
             [
              0.3333333333333333,
              "#9c179e"
             ],
             [
              0.4444444444444444,
              "#bd3786"
             ],
             [
              0.5555555555555556,
              "#d8576b"
             ],
             [
              0.6666666666666666,
              "#ed7953"
             ],
             [
              0.7777777777777778,
              "#fb9f3a"
             ],
             [
              0.8888888888888888,
              "#fdca26"
             ],
             [
              1,
              "#f0f921"
             ]
            ],
            "type": "contour"
           }
          ],
          "contourcarpet": [
           {
            "colorbar": {
             "outlinewidth": 0,
             "ticks": ""
            },
            "type": "contourcarpet"
           }
          ],
          "heatmap": [
           {
            "colorbar": {
             "outlinewidth": 0,
             "ticks": ""
            },
            "colorscale": [
             [
              0,
              "#0d0887"
             ],
             [
              0.1111111111111111,
              "#46039f"
             ],
             [
              0.2222222222222222,
              "#7201a8"
             ],
             [
              0.3333333333333333,
              "#9c179e"
             ],
             [
              0.4444444444444444,
              "#bd3786"
             ],
             [
              0.5555555555555556,
              "#d8576b"
             ],
             [
              0.6666666666666666,
              "#ed7953"
             ],
             [
              0.7777777777777778,
              "#fb9f3a"
             ],
             [
              0.8888888888888888,
              "#fdca26"
             ],
             [
              1,
              "#f0f921"
             ]
            ],
            "type": "heatmap"
           }
          ],
          "heatmapgl": [
           {
            "colorbar": {
             "outlinewidth": 0,
             "ticks": ""
            },
            "colorscale": [
             [
              0,
              "#0d0887"
             ],
             [
              0.1111111111111111,
              "#46039f"
             ],
             [
              0.2222222222222222,
              "#7201a8"
             ],
             [
              0.3333333333333333,
              "#9c179e"
             ],
             [
              0.4444444444444444,
              "#bd3786"
             ],
             [
              0.5555555555555556,
              "#d8576b"
             ],
             [
              0.6666666666666666,
              "#ed7953"
             ],
             [
              0.7777777777777778,
              "#fb9f3a"
             ],
             [
              0.8888888888888888,
              "#fdca26"
             ],
             [
              1,
              "#f0f921"
             ]
            ],
            "type": "heatmapgl"
           }
          ],
          "histogram": [
           {
            "marker": {
             "colorbar": {
              "outlinewidth": 0,
              "ticks": ""
             }
            },
            "type": "histogram"
           }
          ],
          "histogram2d": [
           {
            "colorbar": {
             "outlinewidth": 0,
             "ticks": ""
            },
            "colorscale": [
             [
              0,
              "#0d0887"
             ],
             [
              0.1111111111111111,
              "#46039f"
             ],
             [
              0.2222222222222222,
              "#7201a8"
             ],
             [
              0.3333333333333333,
              "#9c179e"
             ],
             [
              0.4444444444444444,
              "#bd3786"
             ],
             [
              0.5555555555555556,
              "#d8576b"
             ],
             [
              0.6666666666666666,
              "#ed7953"
             ],
             [
              0.7777777777777778,
              "#fb9f3a"
             ],
             [
              0.8888888888888888,
              "#fdca26"
             ],
             [
              1,
              "#f0f921"
             ]
            ],
            "type": "histogram2d"
           }
          ],
          "histogram2dcontour": [
           {
            "colorbar": {
             "outlinewidth": 0,
             "ticks": ""
            },
            "colorscale": [
             [
              0,
              "#0d0887"
             ],
             [
              0.1111111111111111,
              "#46039f"
             ],
             [
              0.2222222222222222,
              "#7201a8"
             ],
             [
              0.3333333333333333,
              "#9c179e"
             ],
             [
              0.4444444444444444,
              "#bd3786"
             ],
             [
              0.5555555555555556,
              "#d8576b"
             ],
             [
              0.6666666666666666,
              "#ed7953"
             ],
             [
              0.7777777777777778,
              "#fb9f3a"
             ],
             [
              0.8888888888888888,
              "#fdca26"
             ],
             [
              1,
              "#f0f921"
             ]
            ],
            "type": "histogram2dcontour"
           }
          ],
          "mesh3d": [
           {
            "colorbar": {
             "outlinewidth": 0,
             "ticks": ""
            },
            "type": "mesh3d"
           }
          ],
          "parcoords": [
           {
            "line": {
             "colorbar": {
              "outlinewidth": 0,
              "ticks": ""
             }
            },
            "type": "parcoords"
           }
          ],
          "pie": [
           {
            "automargin": true,
            "type": "pie"
           }
          ],
          "scatter": [
           {
            "marker": {
             "colorbar": {
              "outlinewidth": 0,
              "ticks": ""
             }
            },
            "type": "scatter"
           }
          ],
          "scatter3d": [
           {
            "line": {
             "colorbar": {
              "outlinewidth": 0,
              "ticks": ""
             }
            },
            "marker": {
             "colorbar": {
              "outlinewidth": 0,
              "ticks": ""
             }
            },
            "type": "scatter3d"
           }
          ],
          "scattercarpet": [
           {
            "marker": {
             "colorbar": {
              "outlinewidth": 0,
              "ticks": ""
             }
            },
            "type": "scattercarpet"
           }
          ],
          "scattergeo": [
           {
            "marker": {
             "colorbar": {
              "outlinewidth": 0,
              "ticks": ""
             }
            },
            "type": "scattergeo"
           }
          ],
          "scattergl": [
           {
            "marker": {
             "colorbar": {
              "outlinewidth": 0,
              "ticks": ""
             }
            },
            "type": "scattergl"
           }
          ],
          "scattermapbox": [
           {
            "marker": {
             "colorbar": {
              "outlinewidth": 0,
              "ticks": ""
             }
            },
            "type": "scattermapbox"
           }
          ],
          "scatterpolar": [
           {
            "marker": {
             "colorbar": {
              "outlinewidth": 0,
              "ticks": ""
             }
            },
            "type": "scatterpolar"
           }
          ],
          "scatterpolargl": [
           {
            "marker": {
             "colorbar": {
              "outlinewidth": 0,
              "ticks": ""
             }
            },
            "type": "scatterpolargl"
           }
          ],
          "scatterternary": [
           {
            "marker": {
             "colorbar": {
              "outlinewidth": 0,
              "ticks": ""
             }
            },
            "type": "scatterternary"
           }
          ],
          "surface": [
           {
            "colorbar": {
             "outlinewidth": 0,
             "ticks": ""
            },
            "colorscale": [
             [
              0,
              "#0d0887"
             ],
             [
              0.1111111111111111,
              "#46039f"
             ],
             [
              0.2222222222222222,
              "#7201a8"
             ],
             [
              0.3333333333333333,
              "#9c179e"
             ],
             [
              0.4444444444444444,
              "#bd3786"
             ],
             [
              0.5555555555555556,
              "#d8576b"
             ],
             [
              0.6666666666666666,
              "#ed7953"
             ],
             [
              0.7777777777777778,
              "#fb9f3a"
             ],
             [
              0.8888888888888888,
              "#fdca26"
             ],
             [
              1,
              "#f0f921"
             ]
            ],
            "type": "surface"
           }
          ],
          "table": [
           {
            "cells": {
             "fill": {
              "color": "#EBF0F8"
             },
             "line": {
              "color": "white"
             }
            },
            "header": {
             "fill": {
              "color": "#C8D4E3"
             },
             "line": {
              "color": "white"
             }
            },
            "type": "table"
           }
          ]
         },
         "layout": {
          "annotationdefaults": {
           "arrowcolor": "#2a3f5f",
           "arrowhead": 0,
           "arrowwidth": 1
          },
          "autotypenumbers": "strict",
          "coloraxis": {
           "colorbar": {
            "outlinewidth": 0,
            "ticks": ""
           }
          },
          "colorscale": {
           "diverging": [
            [
             0,
             "#8e0152"
            ],
            [
             0.1,
             "#c51b7d"
            ],
            [
             0.2,
             "#de77ae"
            ],
            [
             0.3,
             "#f1b6da"
            ],
            [
             0.4,
             "#fde0ef"
            ],
            [
             0.5,
             "#f7f7f7"
            ],
            [
             0.6,
             "#e6f5d0"
            ],
            [
             0.7,
             "#b8e186"
            ],
            [
             0.8,
             "#7fbc41"
            ],
            [
             0.9,
             "#4d9221"
            ],
            [
             1,
             "#276419"
            ]
           ],
           "sequential": [
            [
             0,
             "#0d0887"
            ],
            [
             0.1111111111111111,
             "#46039f"
            ],
            [
             0.2222222222222222,
             "#7201a8"
            ],
            [
             0.3333333333333333,
             "#9c179e"
            ],
            [
             0.4444444444444444,
             "#bd3786"
            ],
            [
             0.5555555555555556,
             "#d8576b"
            ],
            [
             0.6666666666666666,
             "#ed7953"
            ],
            [
             0.7777777777777778,
             "#fb9f3a"
            ],
            [
             0.8888888888888888,
             "#fdca26"
            ],
            [
             1,
             "#f0f921"
            ]
           ],
           "sequentialminus": [
            [
             0,
             "#0d0887"
            ],
            [
             0.1111111111111111,
             "#46039f"
            ],
            [
             0.2222222222222222,
             "#7201a8"
            ],
            [
             0.3333333333333333,
             "#9c179e"
            ],
            [
             0.4444444444444444,
             "#bd3786"
            ],
            [
             0.5555555555555556,
             "#d8576b"
            ],
            [
             0.6666666666666666,
             "#ed7953"
            ],
            [
             0.7777777777777778,
             "#fb9f3a"
            ],
            [
             0.8888888888888888,
             "#fdca26"
            ],
            [
             1,
             "#f0f921"
            ]
           ]
          },
          "colorway": [
           "#636efa",
           "#EF553B",
           "#00cc96",
           "#ab63fa",
           "#FFA15A",
           "#19d3f3",
           "#FF6692",
           "#B6E880",
           "#FF97FF",
           "#FECB52"
          ],
          "font": {
           "color": "#2a3f5f"
          },
          "geo": {
           "bgcolor": "white",
           "lakecolor": "white",
           "landcolor": "#E5ECF6",
           "showlakes": true,
           "showland": true,
           "subunitcolor": "white"
          },
          "hoverlabel": {
           "align": "left"
          },
          "hovermode": "closest",
          "mapbox": {
           "style": "light"
          },
          "paper_bgcolor": "white",
          "plot_bgcolor": "#E5ECF6",
          "polar": {
           "angularaxis": {
            "gridcolor": "white",
            "linecolor": "white",
            "ticks": ""
           },
           "bgcolor": "#E5ECF6",
           "radialaxis": {
            "gridcolor": "white",
            "linecolor": "white",
            "ticks": ""
           }
          },
          "scene": {
           "xaxis": {
            "backgroundcolor": "#E5ECF6",
            "gridcolor": "white",
            "gridwidth": 2,
            "linecolor": "white",
            "showbackground": true,
            "ticks": "",
            "zerolinecolor": "white"
           },
           "yaxis": {
            "backgroundcolor": "#E5ECF6",
            "gridcolor": "white",
            "gridwidth": 2,
            "linecolor": "white",
            "showbackground": true,
            "ticks": "",
            "zerolinecolor": "white"
           },
           "zaxis": {
            "backgroundcolor": "#E5ECF6",
            "gridcolor": "white",
            "gridwidth": 2,
            "linecolor": "white",
            "showbackground": true,
            "ticks": "",
            "zerolinecolor": "white"
           }
          },
          "shapedefaults": {
           "line": {
            "color": "#2a3f5f"
           }
          },
          "ternary": {
           "aaxis": {
            "gridcolor": "white",
            "linecolor": "white",
            "ticks": ""
           },
           "baxis": {
            "gridcolor": "white",
            "linecolor": "white",
            "ticks": ""
           },
           "bgcolor": "#E5ECF6",
           "caxis": {
            "gridcolor": "white",
            "linecolor": "white",
            "ticks": ""
           }
          },
          "title": {
           "x": 0.05
          },
          "xaxis": {
           "automargin": true,
           "gridcolor": "white",
           "linecolor": "white",
           "ticks": "",
           "title": {
            "standoff": 15
           },
           "zerolinecolor": "white",
           "zerolinewidth": 2
          },
          "yaxis": {
           "automargin": true,
           "gridcolor": "white",
           "linecolor": "white",
           "ticks": "",
           "title": {
            "standoff": 15
           },
           "zerolinecolor": "white",
           "zerolinewidth": 2
          }
         }
        }
       }
      }
     },
     "metadata": {}
    }
   ],
   "source": [
    "fig = px.scatter_mapbox(data, lat=\"latitude\", lon='longitude',\n",
    "                            color=\"service_description\",  # which column to use to set the color of markers\n",
    "                            hover_name=\"service_description\",  # column added to hover information\n",
    "                            hover_data={\n",
    "                                'service_description': False,\n",
    "                                'latitude': False,\n",
    "                                'longitude': False\n",
    "                            },\n",
    "                            zoom=11\n",
    "                            )\n",
    "\n",
    "\n",
    "fig.update_layout(mapbox_style=\"open-street-map\")\n",
    "fig.update_layout(showlegend=False)\n",
    "fig.update_traces(marker=dict(size=6))\n",
    "fig.show()"
   ]
  },
  {
   "cell_type": "code",
   "execution_count": 26,
   "metadata": {},
   "outputs": [
    {
     "output_type": "execute_result",
     "data": {
      "text/plain": [
       "client_id              0\n",
       "full_name              0\n",
       "gender                 0\n",
       "age                    0\n",
       "service_description    0\n",
       "address                0\n",
       "latitude               0\n",
       "longitude              0\n",
       "date                   1\n",
       "adult                  0\n",
       "dtype: int64"
      ]
     },
     "metadata": {},
     "execution_count": 26
    }
   ],
   "source": [
    "data.isna().sum()"
   ]
  },
  {
   "cell_type": "code",
   "execution_count": 28,
   "metadata": {},
   "outputs": [
    {
     "output_type": "error",
     "ename": "KeyboardInterrupt",
     "evalue": "",
     "traceback": [
      "\u001b[0;31m---------------------------------------------------------------------------\u001b[0m",
      "\u001b[0;31mKeyboardInterrupt\u001b[0m                         Traceback (most recent call last)",
      "\u001b[0;32m<ipython-input-28-d5826fa85c38>\u001b[0m in \u001b[0;36m<module>\u001b[0;34m\u001b[0m\n\u001b[1;32m      3\u001b[0m \u001b[0mlocator\u001b[0m \u001b[0;34m=\u001b[0m \u001b[0mNominatim\u001b[0m\u001b[0;34m(\u001b[0m\u001b[0muser_agent\u001b[0m\u001b[0;34m=\u001b[0m\u001b[0;34m'DS API - Family Promise'\u001b[0m\u001b[0;34m)\u001b[0m\u001b[0;34m\u001b[0m\u001b[0;34m\u001b[0m\u001b[0m\n\u001b[1;32m      4\u001b[0m \u001b[0;34m\u001b[0m\u001b[0m\n\u001b[0;32m----> 5\u001b[0;31m \u001b[0mdata\u001b[0m\u001b[0;34m[\u001b[0m\u001b[0;34m'my_latitude'\u001b[0m\u001b[0;34m]\u001b[0m \u001b[0;34m=\u001b[0m \u001b[0mdata\u001b[0m\u001b[0;34m[\u001b[0m\u001b[0;34m'address'\u001b[0m\u001b[0;34m]\u001b[0m\u001b[0;34m.\u001b[0m\u001b[0mapply\u001b[0m\u001b[0;34m(\u001b[0m\u001b[0;32mlambda\u001b[0m \u001b[0maddress\u001b[0m\u001b[0;34m:\u001b[0m \u001b[0mlocator\u001b[0m\u001b[0;34m.\u001b[0m\u001b[0mgeocode\u001b[0m\u001b[0;34m(\u001b[0m\u001b[0maddress\u001b[0m\u001b[0;34m)\u001b[0m\u001b[0;34m.\u001b[0m\u001b[0mlatitude\u001b[0m \u001b[0;32mif\u001b[0m \u001b[0mlocator\u001b[0m\u001b[0;34m.\u001b[0m\u001b[0mgeocode\u001b[0m\u001b[0;34m(\u001b[0m\u001b[0maddress\u001b[0m\u001b[0;34m)\u001b[0m \u001b[0;32mis\u001b[0m \u001b[0;32mnot\u001b[0m \u001b[0;32mNone\u001b[0m \u001b[0;32melse\u001b[0m \u001b[0;32mNone\u001b[0m\u001b[0;34m)\u001b[0m\u001b[0;34m\u001b[0m\u001b[0;34m\u001b[0m\u001b[0m\n\u001b[0m\u001b[1;32m      6\u001b[0m \u001b[0;34m\u001b[0m\u001b[0m\n\u001b[1;32m      7\u001b[0m \u001b[0mdata\u001b[0m\u001b[0;34m[\u001b[0m\u001b[0;34m'my_longitude'\u001b[0m\u001b[0;34m]\u001b[0m \u001b[0;34m=\u001b[0m \u001b[0mdata\u001b[0m\u001b[0;34m[\u001b[0m\u001b[0;34m'address'\u001b[0m\u001b[0;34m]\u001b[0m\u001b[0;34m.\u001b[0m\u001b[0mapply\u001b[0m\u001b[0;34m(\u001b[0m\u001b[0;32mlambda\u001b[0m \u001b[0maddress\u001b[0m\u001b[0;34m:\u001b[0m \u001b[0mlocator\u001b[0m\u001b[0;34m.\u001b[0m\u001b[0mgeocode\u001b[0m\u001b[0;34m(\u001b[0m\u001b[0maddress\u001b[0m\u001b[0;34m)\u001b[0m\u001b[0;34m.\u001b[0m\u001b[0mlongitude\u001b[0m\u001b[0;34m)\u001b[0m\u001b[0;34m\u001b[0m\u001b[0;34m\u001b[0m\u001b[0m\n",
      "\u001b[0;32m~/.local/share/virtualenvs/family-promise-service-tracker-ds-a-wWfakoPa/lib/python3.9/site-packages/pandas/core/series.py\u001b[0m in \u001b[0;36mapply\u001b[0;34m(self, func, convert_dtype, args, **kwds)\u001b[0m\n\u001b[1;32m   4136\u001b[0m             \u001b[0;32melse\u001b[0m\u001b[0;34m:\u001b[0m\u001b[0;34m\u001b[0m\u001b[0;34m\u001b[0m\u001b[0m\n\u001b[1;32m   4137\u001b[0m                 \u001b[0mvalues\u001b[0m \u001b[0;34m=\u001b[0m \u001b[0mself\u001b[0m\u001b[0;34m.\u001b[0m\u001b[0mastype\u001b[0m\u001b[0;34m(\u001b[0m\u001b[0mobject\u001b[0m\u001b[0;34m)\u001b[0m\u001b[0;34m.\u001b[0m\u001b[0m_values\u001b[0m\u001b[0;34m\u001b[0m\u001b[0;34m\u001b[0m\u001b[0m\n\u001b[0;32m-> 4138\u001b[0;31m                 \u001b[0mmapped\u001b[0m \u001b[0;34m=\u001b[0m \u001b[0mlib\u001b[0m\u001b[0;34m.\u001b[0m\u001b[0mmap_infer\u001b[0m\u001b[0;34m(\u001b[0m\u001b[0mvalues\u001b[0m\u001b[0;34m,\u001b[0m \u001b[0mf\u001b[0m\u001b[0;34m,\u001b[0m \u001b[0mconvert\u001b[0m\u001b[0;34m=\u001b[0m\u001b[0mconvert_dtype\u001b[0m\u001b[0;34m)\u001b[0m\u001b[0;34m\u001b[0m\u001b[0;34m\u001b[0m\u001b[0m\n\u001b[0m\u001b[1;32m   4139\u001b[0m \u001b[0;34m\u001b[0m\u001b[0m\n\u001b[1;32m   4140\u001b[0m         \u001b[0;32mif\u001b[0m \u001b[0mlen\u001b[0m\u001b[0;34m(\u001b[0m\u001b[0mmapped\u001b[0m\u001b[0;34m)\u001b[0m \u001b[0;32mand\u001b[0m \u001b[0misinstance\u001b[0m\u001b[0;34m(\u001b[0m\u001b[0mmapped\u001b[0m\u001b[0;34m[\u001b[0m\u001b[0;36m0\u001b[0m\u001b[0;34m]\u001b[0m\u001b[0;34m,\u001b[0m \u001b[0mSeries\u001b[0m\u001b[0;34m)\u001b[0m\u001b[0;34m:\u001b[0m\u001b[0;34m\u001b[0m\u001b[0;34m\u001b[0m\u001b[0m\n",
      "\u001b[0;32mpandas/_libs/lib.pyx\u001b[0m in \u001b[0;36mpandas._libs.lib.map_infer\u001b[0;34m()\u001b[0m\n",
      "\u001b[0;32m<ipython-input-28-d5826fa85c38>\u001b[0m in \u001b[0;36m<lambda>\u001b[0;34m(address)\u001b[0m\n\u001b[1;32m      3\u001b[0m \u001b[0mlocator\u001b[0m \u001b[0;34m=\u001b[0m \u001b[0mNominatim\u001b[0m\u001b[0;34m(\u001b[0m\u001b[0muser_agent\u001b[0m\u001b[0;34m=\u001b[0m\u001b[0;34m'DS API - Family Promise'\u001b[0m\u001b[0;34m)\u001b[0m\u001b[0;34m\u001b[0m\u001b[0;34m\u001b[0m\u001b[0m\n\u001b[1;32m      4\u001b[0m \u001b[0;34m\u001b[0m\u001b[0m\n\u001b[0;32m----> 5\u001b[0;31m \u001b[0mdata\u001b[0m\u001b[0;34m[\u001b[0m\u001b[0;34m'my_latitude'\u001b[0m\u001b[0;34m]\u001b[0m \u001b[0;34m=\u001b[0m \u001b[0mdata\u001b[0m\u001b[0;34m[\u001b[0m\u001b[0;34m'address'\u001b[0m\u001b[0;34m]\u001b[0m\u001b[0;34m.\u001b[0m\u001b[0mapply\u001b[0m\u001b[0;34m(\u001b[0m\u001b[0;32mlambda\u001b[0m \u001b[0maddress\u001b[0m\u001b[0;34m:\u001b[0m \u001b[0mlocator\u001b[0m\u001b[0;34m.\u001b[0m\u001b[0mgeocode\u001b[0m\u001b[0;34m(\u001b[0m\u001b[0maddress\u001b[0m\u001b[0;34m)\u001b[0m\u001b[0;34m.\u001b[0m\u001b[0mlatitude\u001b[0m \u001b[0;32mif\u001b[0m \u001b[0mlocator\u001b[0m\u001b[0;34m.\u001b[0m\u001b[0mgeocode\u001b[0m\u001b[0;34m(\u001b[0m\u001b[0maddress\u001b[0m\u001b[0;34m)\u001b[0m \u001b[0;32mis\u001b[0m \u001b[0;32mnot\u001b[0m \u001b[0;32mNone\u001b[0m \u001b[0;32melse\u001b[0m \u001b[0;32mNone\u001b[0m\u001b[0;34m)\u001b[0m\u001b[0;34m\u001b[0m\u001b[0;34m\u001b[0m\u001b[0m\n\u001b[0m\u001b[1;32m      6\u001b[0m \u001b[0;34m\u001b[0m\u001b[0m\n\u001b[1;32m      7\u001b[0m \u001b[0mdata\u001b[0m\u001b[0;34m[\u001b[0m\u001b[0;34m'my_longitude'\u001b[0m\u001b[0;34m]\u001b[0m \u001b[0;34m=\u001b[0m \u001b[0mdata\u001b[0m\u001b[0;34m[\u001b[0m\u001b[0;34m'address'\u001b[0m\u001b[0;34m]\u001b[0m\u001b[0;34m.\u001b[0m\u001b[0mapply\u001b[0m\u001b[0;34m(\u001b[0m\u001b[0;32mlambda\u001b[0m \u001b[0maddress\u001b[0m\u001b[0;34m:\u001b[0m \u001b[0mlocator\u001b[0m\u001b[0;34m.\u001b[0m\u001b[0mgeocode\u001b[0m\u001b[0;34m(\u001b[0m\u001b[0maddress\u001b[0m\u001b[0;34m)\u001b[0m\u001b[0;34m.\u001b[0m\u001b[0mlongitude\u001b[0m\u001b[0;34m)\u001b[0m\u001b[0;34m\u001b[0m\u001b[0;34m\u001b[0m\u001b[0m\n",
      "\u001b[0;32m~/.local/share/virtualenvs/family-promise-service-tracker-ds-a-wWfakoPa/lib/python3.9/site-packages/geopy/geocoders/nominatim.py\u001b[0m in \u001b[0;36mgeocode\u001b[0;34m(self, query, exactly_one, timeout, limit, addressdetails, language, geometry, extratags, country_codes, viewbox, bounded, featuretype, namedetails)\u001b[0m\n\u001b[1;32m    295\u001b[0m         \u001b[0mlogger\u001b[0m\u001b[0;34m.\u001b[0m\u001b[0mdebug\u001b[0m\u001b[0;34m(\u001b[0m\u001b[0;34m\"%s.geocode: %s\"\u001b[0m\u001b[0;34m,\u001b[0m \u001b[0mself\u001b[0m\u001b[0;34m.\u001b[0m\u001b[0m__class__\u001b[0m\u001b[0;34m.\u001b[0m\u001b[0m__name__\u001b[0m\u001b[0;34m,\u001b[0m \u001b[0murl\u001b[0m\u001b[0;34m)\u001b[0m\u001b[0;34m\u001b[0m\u001b[0;34m\u001b[0m\u001b[0m\n\u001b[1;32m    296\u001b[0m         \u001b[0mcallback\u001b[0m \u001b[0;34m=\u001b[0m \u001b[0mpartial\u001b[0m\u001b[0;34m(\u001b[0m\u001b[0mself\u001b[0m\u001b[0;34m.\u001b[0m\u001b[0m_parse_json\u001b[0m\u001b[0;34m,\u001b[0m \u001b[0mexactly_one\u001b[0m\u001b[0;34m=\u001b[0m\u001b[0mexactly_one\u001b[0m\u001b[0;34m)\u001b[0m\u001b[0;34m\u001b[0m\u001b[0;34m\u001b[0m\u001b[0m\n\u001b[0;32m--> 297\u001b[0;31m         \u001b[0;32mreturn\u001b[0m \u001b[0mself\u001b[0m\u001b[0;34m.\u001b[0m\u001b[0m_call_geocoder\u001b[0m\u001b[0;34m(\u001b[0m\u001b[0murl\u001b[0m\u001b[0;34m,\u001b[0m \u001b[0mcallback\u001b[0m\u001b[0;34m,\u001b[0m \u001b[0mtimeout\u001b[0m\u001b[0;34m=\u001b[0m\u001b[0mtimeout\u001b[0m\u001b[0;34m)\u001b[0m\u001b[0;34m\u001b[0m\u001b[0;34m\u001b[0m\u001b[0m\n\u001b[0m\u001b[1;32m    298\u001b[0m \u001b[0;34m\u001b[0m\u001b[0m\n\u001b[1;32m    299\u001b[0m     def reverse(\n",
      "\u001b[0;32m~/.local/share/virtualenvs/family-promise-service-tracker-ds-a-wWfakoPa/lib/python3.9/site-packages/geopy/geocoders/base.py\u001b[0m in \u001b[0;36m_call_geocoder\u001b[0;34m(self, url, callback, timeout, is_json, headers)\u001b[0m\n\u001b[1;32m    358\u001b[0m         \u001b[0;32mtry\u001b[0m\u001b[0;34m:\u001b[0m\u001b[0;34m\u001b[0m\u001b[0;34m\u001b[0m\u001b[0m\n\u001b[1;32m    359\u001b[0m             \u001b[0;32mif\u001b[0m \u001b[0mis_json\u001b[0m\u001b[0;34m:\u001b[0m\u001b[0;34m\u001b[0m\u001b[0;34m\u001b[0m\u001b[0m\n\u001b[0;32m--> 360\u001b[0;31m                 \u001b[0mresult\u001b[0m \u001b[0;34m=\u001b[0m \u001b[0mself\u001b[0m\u001b[0;34m.\u001b[0m\u001b[0madapter\u001b[0m\u001b[0;34m.\u001b[0m\u001b[0mget_json\u001b[0m\u001b[0;34m(\u001b[0m\u001b[0murl\u001b[0m\u001b[0;34m,\u001b[0m \u001b[0mtimeout\u001b[0m\u001b[0;34m=\u001b[0m\u001b[0mtimeout\u001b[0m\u001b[0;34m,\u001b[0m \u001b[0mheaders\u001b[0m\u001b[0;34m=\u001b[0m\u001b[0mreq_headers\u001b[0m\u001b[0;34m)\u001b[0m\u001b[0;34m\u001b[0m\u001b[0;34m\u001b[0m\u001b[0m\n\u001b[0m\u001b[1;32m    361\u001b[0m             \u001b[0;32melse\u001b[0m\u001b[0;34m:\u001b[0m\u001b[0;34m\u001b[0m\u001b[0;34m\u001b[0m\u001b[0m\n\u001b[1;32m    362\u001b[0m                 \u001b[0mresult\u001b[0m \u001b[0;34m=\u001b[0m \u001b[0mself\u001b[0m\u001b[0;34m.\u001b[0m\u001b[0madapter\u001b[0m\u001b[0;34m.\u001b[0m\u001b[0mget_text\u001b[0m\u001b[0;34m(\u001b[0m\u001b[0murl\u001b[0m\u001b[0;34m,\u001b[0m \u001b[0mtimeout\u001b[0m\u001b[0;34m=\u001b[0m\u001b[0mtimeout\u001b[0m\u001b[0;34m,\u001b[0m \u001b[0mheaders\u001b[0m\u001b[0;34m=\u001b[0m\u001b[0mreq_headers\u001b[0m\u001b[0;34m)\u001b[0m\u001b[0;34m\u001b[0m\u001b[0;34m\u001b[0m\u001b[0m\n",
      "\u001b[0;32m~/.local/share/virtualenvs/family-promise-service-tracker-ds-a-wWfakoPa/lib/python3.9/site-packages/geopy/adapters.py\u001b[0m in \u001b[0;36mget_json\u001b[0;34m(self, url, timeout, headers)\u001b[0m\n\u001b[1;32m    375\u001b[0m \u001b[0;34m\u001b[0m\u001b[0m\n\u001b[1;32m    376\u001b[0m     \u001b[0;32mdef\u001b[0m \u001b[0mget_json\u001b[0m\u001b[0;34m(\u001b[0m\u001b[0mself\u001b[0m\u001b[0;34m,\u001b[0m \u001b[0murl\u001b[0m\u001b[0;34m,\u001b[0m \u001b[0;34m*\u001b[0m\u001b[0;34m,\u001b[0m \u001b[0mtimeout\u001b[0m\u001b[0;34m,\u001b[0m \u001b[0mheaders\u001b[0m\u001b[0;34m)\u001b[0m\u001b[0;34m:\u001b[0m\u001b[0;34m\u001b[0m\u001b[0;34m\u001b[0m\u001b[0m\n\u001b[0;32m--> 377\u001b[0;31m         \u001b[0mresp\u001b[0m \u001b[0;34m=\u001b[0m \u001b[0mself\u001b[0m\u001b[0;34m.\u001b[0m\u001b[0m_request\u001b[0m\u001b[0;34m(\u001b[0m\u001b[0murl\u001b[0m\u001b[0;34m,\u001b[0m \u001b[0mtimeout\u001b[0m\u001b[0;34m=\u001b[0m\u001b[0mtimeout\u001b[0m\u001b[0;34m,\u001b[0m \u001b[0mheaders\u001b[0m\u001b[0;34m=\u001b[0m\u001b[0mheaders\u001b[0m\u001b[0;34m)\u001b[0m\u001b[0;34m\u001b[0m\u001b[0;34m\u001b[0m\u001b[0m\n\u001b[0m\u001b[1;32m    378\u001b[0m         \u001b[0;32mtry\u001b[0m\u001b[0;34m:\u001b[0m\u001b[0;34m\u001b[0m\u001b[0;34m\u001b[0m\u001b[0m\n\u001b[1;32m    379\u001b[0m             \u001b[0;32mreturn\u001b[0m \u001b[0mresp\u001b[0m\u001b[0;34m.\u001b[0m\u001b[0mjson\u001b[0m\u001b[0;34m(\u001b[0m\u001b[0;34m)\u001b[0m\u001b[0;34m\u001b[0m\u001b[0;34m\u001b[0m\u001b[0m\n",
      "\u001b[0;32m~/.local/share/virtualenvs/family-promise-service-tracker-ds-a-wWfakoPa/lib/python3.9/site-packages/geopy/adapters.py\u001b[0m in \u001b[0;36m_request\u001b[0;34m(self, url, timeout, headers)\u001b[0m\n\u001b[1;32m    385\u001b[0m     \u001b[0;32mdef\u001b[0m \u001b[0m_request\u001b[0m\u001b[0;34m(\u001b[0m\u001b[0mself\u001b[0m\u001b[0;34m,\u001b[0m \u001b[0murl\u001b[0m\u001b[0;34m,\u001b[0m \u001b[0;34m*\u001b[0m\u001b[0;34m,\u001b[0m \u001b[0mtimeout\u001b[0m\u001b[0;34m,\u001b[0m \u001b[0mheaders\u001b[0m\u001b[0;34m)\u001b[0m\u001b[0;34m:\u001b[0m\u001b[0;34m\u001b[0m\u001b[0;34m\u001b[0m\u001b[0m\n\u001b[1;32m    386\u001b[0m         \u001b[0;32mtry\u001b[0m\u001b[0;34m:\u001b[0m\u001b[0;34m\u001b[0m\u001b[0;34m\u001b[0m\u001b[0m\n\u001b[0;32m--> 387\u001b[0;31m             \u001b[0mresp\u001b[0m \u001b[0;34m=\u001b[0m \u001b[0mself\u001b[0m\u001b[0;34m.\u001b[0m\u001b[0msession\u001b[0m\u001b[0;34m.\u001b[0m\u001b[0mget\u001b[0m\u001b[0;34m(\u001b[0m\u001b[0murl\u001b[0m\u001b[0;34m,\u001b[0m \u001b[0mtimeout\u001b[0m\u001b[0;34m=\u001b[0m\u001b[0mtimeout\u001b[0m\u001b[0;34m,\u001b[0m \u001b[0mheaders\u001b[0m\u001b[0;34m=\u001b[0m\u001b[0mheaders\u001b[0m\u001b[0;34m)\u001b[0m\u001b[0;34m\u001b[0m\u001b[0;34m\u001b[0m\u001b[0m\n\u001b[0m\u001b[1;32m    388\u001b[0m         \u001b[0;32mexcept\u001b[0m \u001b[0mException\u001b[0m \u001b[0;32mas\u001b[0m \u001b[0merror\u001b[0m\u001b[0;34m:\u001b[0m\u001b[0;34m\u001b[0m\u001b[0;34m\u001b[0m\u001b[0m\n\u001b[1;32m    389\u001b[0m             \u001b[0mmessage\u001b[0m \u001b[0;34m=\u001b[0m \u001b[0mstr\u001b[0m\u001b[0;34m(\u001b[0m\u001b[0merror\u001b[0m\u001b[0;34m)\u001b[0m\u001b[0;34m\u001b[0m\u001b[0;34m\u001b[0m\u001b[0m\n",
      "\u001b[0;32m~/.local/share/virtualenvs/family-promise-service-tracker-ds-a-wWfakoPa/lib/python3.9/site-packages/requests/sessions.py\u001b[0m in \u001b[0;36mget\u001b[0;34m(self, url, **kwargs)\u001b[0m\n\u001b[1;32m    553\u001b[0m \u001b[0;34m\u001b[0m\u001b[0m\n\u001b[1;32m    554\u001b[0m         \u001b[0mkwargs\u001b[0m\u001b[0;34m.\u001b[0m\u001b[0msetdefault\u001b[0m\u001b[0;34m(\u001b[0m\u001b[0;34m'allow_redirects'\u001b[0m\u001b[0;34m,\u001b[0m \u001b[0;32mTrue\u001b[0m\u001b[0;34m)\u001b[0m\u001b[0;34m\u001b[0m\u001b[0;34m\u001b[0m\u001b[0m\n\u001b[0;32m--> 555\u001b[0;31m         \u001b[0;32mreturn\u001b[0m \u001b[0mself\u001b[0m\u001b[0;34m.\u001b[0m\u001b[0mrequest\u001b[0m\u001b[0;34m(\u001b[0m\u001b[0;34m'GET'\u001b[0m\u001b[0;34m,\u001b[0m \u001b[0murl\u001b[0m\u001b[0;34m,\u001b[0m \u001b[0;34m**\u001b[0m\u001b[0mkwargs\u001b[0m\u001b[0;34m)\u001b[0m\u001b[0;34m\u001b[0m\u001b[0;34m\u001b[0m\u001b[0m\n\u001b[0m\u001b[1;32m    556\u001b[0m \u001b[0;34m\u001b[0m\u001b[0m\n\u001b[1;32m    557\u001b[0m     \u001b[0;32mdef\u001b[0m \u001b[0moptions\u001b[0m\u001b[0;34m(\u001b[0m\u001b[0mself\u001b[0m\u001b[0;34m,\u001b[0m \u001b[0murl\u001b[0m\u001b[0;34m,\u001b[0m \u001b[0;34m**\u001b[0m\u001b[0mkwargs\u001b[0m\u001b[0;34m)\u001b[0m\u001b[0;34m:\u001b[0m\u001b[0;34m\u001b[0m\u001b[0;34m\u001b[0m\u001b[0m\n",
      "\u001b[0;32m~/.local/share/virtualenvs/family-promise-service-tracker-ds-a-wWfakoPa/lib/python3.9/site-packages/requests/sessions.py\u001b[0m in \u001b[0;36mrequest\u001b[0;34m(self, method, url, params, data, headers, cookies, files, auth, timeout, allow_redirects, proxies, hooks, stream, verify, cert, json)\u001b[0m\n\u001b[1;32m    540\u001b[0m         }\n\u001b[1;32m    541\u001b[0m         \u001b[0msend_kwargs\u001b[0m\u001b[0;34m.\u001b[0m\u001b[0mupdate\u001b[0m\u001b[0;34m(\u001b[0m\u001b[0msettings\u001b[0m\u001b[0;34m)\u001b[0m\u001b[0;34m\u001b[0m\u001b[0;34m\u001b[0m\u001b[0m\n\u001b[0;32m--> 542\u001b[0;31m         \u001b[0mresp\u001b[0m \u001b[0;34m=\u001b[0m \u001b[0mself\u001b[0m\u001b[0;34m.\u001b[0m\u001b[0msend\u001b[0m\u001b[0;34m(\u001b[0m\u001b[0mprep\u001b[0m\u001b[0;34m,\u001b[0m \u001b[0;34m**\u001b[0m\u001b[0msend_kwargs\u001b[0m\u001b[0;34m)\u001b[0m\u001b[0;34m\u001b[0m\u001b[0;34m\u001b[0m\u001b[0m\n\u001b[0m\u001b[1;32m    543\u001b[0m \u001b[0;34m\u001b[0m\u001b[0m\n\u001b[1;32m    544\u001b[0m         \u001b[0;32mreturn\u001b[0m \u001b[0mresp\u001b[0m\u001b[0;34m\u001b[0m\u001b[0;34m\u001b[0m\u001b[0m\n",
      "\u001b[0;32m~/.local/share/virtualenvs/family-promise-service-tracker-ds-a-wWfakoPa/lib/python3.9/site-packages/requests/sessions.py\u001b[0m in \u001b[0;36msend\u001b[0;34m(self, request, **kwargs)\u001b[0m\n\u001b[1;32m    653\u001b[0m \u001b[0;34m\u001b[0m\u001b[0m\n\u001b[1;32m    654\u001b[0m         \u001b[0;31m# Send the request\u001b[0m\u001b[0;34m\u001b[0m\u001b[0;34m\u001b[0m\u001b[0;34m\u001b[0m\u001b[0m\n\u001b[0;32m--> 655\u001b[0;31m         \u001b[0mr\u001b[0m \u001b[0;34m=\u001b[0m \u001b[0madapter\u001b[0m\u001b[0;34m.\u001b[0m\u001b[0msend\u001b[0m\u001b[0;34m(\u001b[0m\u001b[0mrequest\u001b[0m\u001b[0;34m,\u001b[0m \u001b[0;34m**\u001b[0m\u001b[0mkwargs\u001b[0m\u001b[0;34m)\u001b[0m\u001b[0;34m\u001b[0m\u001b[0;34m\u001b[0m\u001b[0m\n\u001b[0m\u001b[1;32m    656\u001b[0m \u001b[0;34m\u001b[0m\u001b[0m\n\u001b[1;32m    657\u001b[0m         \u001b[0;31m# Total elapsed time of the request (approximately)\u001b[0m\u001b[0;34m\u001b[0m\u001b[0;34m\u001b[0m\u001b[0;34m\u001b[0m\u001b[0m\n",
      "\u001b[0;32m~/.local/share/virtualenvs/family-promise-service-tracker-ds-a-wWfakoPa/lib/python3.9/site-packages/requests/adapters.py\u001b[0m in \u001b[0;36msend\u001b[0;34m(self, request, stream, timeout, verify, cert, proxies)\u001b[0m\n\u001b[1;32m    437\u001b[0m         \u001b[0;32mtry\u001b[0m\u001b[0;34m:\u001b[0m\u001b[0;34m\u001b[0m\u001b[0;34m\u001b[0m\u001b[0m\n\u001b[1;32m    438\u001b[0m             \u001b[0;32mif\u001b[0m \u001b[0;32mnot\u001b[0m \u001b[0mchunked\u001b[0m\u001b[0;34m:\u001b[0m\u001b[0;34m\u001b[0m\u001b[0;34m\u001b[0m\u001b[0m\n\u001b[0;32m--> 439\u001b[0;31m                 resp = conn.urlopen(\n\u001b[0m\u001b[1;32m    440\u001b[0m                     \u001b[0mmethod\u001b[0m\u001b[0;34m=\u001b[0m\u001b[0mrequest\u001b[0m\u001b[0;34m.\u001b[0m\u001b[0mmethod\u001b[0m\u001b[0;34m,\u001b[0m\u001b[0;34m\u001b[0m\u001b[0;34m\u001b[0m\u001b[0m\n\u001b[1;32m    441\u001b[0m                     \u001b[0murl\u001b[0m\u001b[0;34m=\u001b[0m\u001b[0murl\u001b[0m\u001b[0;34m,\u001b[0m\u001b[0;34m\u001b[0m\u001b[0;34m\u001b[0m\u001b[0m\n",
      "\u001b[0;32m~/.local/share/virtualenvs/family-promise-service-tracker-ds-a-wWfakoPa/lib/python3.9/site-packages/urllib3/connectionpool.py\u001b[0m in \u001b[0;36murlopen\u001b[0;34m(self, method, url, body, headers, retries, redirect, assert_same_host, timeout, pool_timeout, release_conn, chunked, body_pos, **response_kw)\u001b[0m\n\u001b[1;32m    697\u001b[0m \u001b[0;34m\u001b[0m\u001b[0m\n\u001b[1;32m    698\u001b[0m             \u001b[0;31m# Make the request on the httplib connection object.\u001b[0m\u001b[0;34m\u001b[0m\u001b[0;34m\u001b[0m\u001b[0;34m\u001b[0m\u001b[0m\n\u001b[0;32m--> 699\u001b[0;31m             httplib_response = self._make_request(\n\u001b[0m\u001b[1;32m    700\u001b[0m                 \u001b[0mconn\u001b[0m\u001b[0;34m,\u001b[0m\u001b[0;34m\u001b[0m\u001b[0;34m\u001b[0m\u001b[0m\n\u001b[1;32m    701\u001b[0m                 \u001b[0mmethod\u001b[0m\u001b[0;34m,\u001b[0m\u001b[0;34m\u001b[0m\u001b[0;34m\u001b[0m\u001b[0m\n",
      "\u001b[0;32m~/.local/share/virtualenvs/family-promise-service-tracker-ds-a-wWfakoPa/lib/python3.9/site-packages/urllib3/connectionpool.py\u001b[0m in \u001b[0;36m_make_request\u001b[0;34m(self, conn, method, url, timeout, chunked, **httplib_request_kw)\u001b[0m\n\u001b[1;32m    443\u001b[0m                     \u001b[0;31m# Python 3 (including for exceptions like SystemExit).\u001b[0m\u001b[0;34m\u001b[0m\u001b[0;34m\u001b[0m\u001b[0;34m\u001b[0m\u001b[0m\n\u001b[1;32m    444\u001b[0m                     \u001b[0;31m# Otherwise it looks like a bug in the code.\u001b[0m\u001b[0;34m\u001b[0m\u001b[0;34m\u001b[0m\u001b[0;34m\u001b[0m\u001b[0m\n\u001b[0;32m--> 445\u001b[0;31m                     \u001b[0msix\u001b[0m\u001b[0;34m.\u001b[0m\u001b[0mraise_from\u001b[0m\u001b[0;34m(\u001b[0m\u001b[0me\u001b[0m\u001b[0;34m,\u001b[0m \u001b[0;32mNone\u001b[0m\u001b[0;34m)\u001b[0m\u001b[0;34m\u001b[0m\u001b[0;34m\u001b[0m\u001b[0m\n\u001b[0m\u001b[1;32m    446\u001b[0m         \u001b[0;32mexcept\u001b[0m \u001b[0;34m(\u001b[0m\u001b[0mSocketTimeout\u001b[0m\u001b[0;34m,\u001b[0m \u001b[0mBaseSSLError\u001b[0m\u001b[0;34m,\u001b[0m \u001b[0mSocketError\u001b[0m\u001b[0;34m)\u001b[0m \u001b[0;32mas\u001b[0m \u001b[0me\u001b[0m\u001b[0;34m:\u001b[0m\u001b[0;34m\u001b[0m\u001b[0;34m\u001b[0m\u001b[0m\n\u001b[1;32m    447\u001b[0m             \u001b[0mself\u001b[0m\u001b[0;34m.\u001b[0m\u001b[0m_raise_timeout\u001b[0m\u001b[0;34m(\u001b[0m\u001b[0merr\u001b[0m\u001b[0;34m=\u001b[0m\u001b[0me\u001b[0m\u001b[0;34m,\u001b[0m \u001b[0murl\u001b[0m\u001b[0;34m=\u001b[0m\u001b[0murl\u001b[0m\u001b[0;34m,\u001b[0m \u001b[0mtimeout_value\u001b[0m\u001b[0;34m=\u001b[0m\u001b[0mread_timeout\u001b[0m\u001b[0;34m)\u001b[0m\u001b[0;34m\u001b[0m\u001b[0;34m\u001b[0m\u001b[0m\n",
      "\u001b[0;32m~/.local/share/virtualenvs/family-promise-service-tracker-ds-a-wWfakoPa/lib/python3.9/site-packages/urllib3/packages/six.py\u001b[0m in \u001b[0;36mraise_from\u001b[0;34m(value, from_value)\u001b[0m\n",
      "\u001b[0;32m~/.local/share/virtualenvs/family-promise-service-tracker-ds-a-wWfakoPa/lib/python3.9/site-packages/urllib3/connectionpool.py\u001b[0m in \u001b[0;36m_make_request\u001b[0;34m(self, conn, method, url, timeout, chunked, **httplib_request_kw)\u001b[0m\n\u001b[1;32m    438\u001b[0m                 \u001b[0;31m# Python 3\u001b[0m\u001b[0;34m\u001b[0m\u001b[0;34m\u001b[0m\u001b[0;34m\u001b[0m\u001b[0m\n\u001b[1;32m    439\u001b[0m                 \u001b[0;32mtry\u001b[0m\u001b[0;34m:\u001b[0m\u001b[0;34m\u001b[0m\u001b[0;34m\u001b[0m\u001b[0m\n\u001b[0;32m--> 440\u001b[0;31m                     \u001b[0mhttplib_response\u001b[0m \u001b[0;34m=\u001b[0m \u001b[0mconn\u001b[0m\u001b[0;34m.\u001b[0m\u001b[0mgetresponse\u001b[0m\u001b[0;34m(\u001b[0m\u001b[0;34m)\u001b[0m\u001b[0;34m\u001b[0m\u001b[0;34m\u001b[0m\u001b[0m\n\u001b[0m\u001b[1;32m    441\u001b[0m                 \u001b[0;32mexcept\u001b[0m \u001b[0mBaseException\u001b[0m \u001b[0;32mas\u001b[0m \u001b[0me\u001b[0m\u001b[0;34m:\u001b[0m\u001b[0;34m\u001b[0m\u001b[0;34m\u001b[0m\u001b[0m\n\u001b[1;32m    442\u001b[0m                     \u001b[0;31m# Remove the TypeError from the exception chain in\u001b[0m\u001b[0;34m\u001b[0m\u001b[0;34m\u001b[0m\u001b[0;34m\u001b[0m\u001b[0m\n",
      "\u001b[0;32m/usr/local/Cellar/python@3.9/3.9.5/Frameworks/Python.framework/Versions/3.9/lib/python3.9/http/client.py\u001b[0m in \u001b[0;36mgetresponse\u001b[0;34m(self)\u001b[0m\n\u001b[1;32m   1343\u001b[0m         \u001b[0;32mtry\u001b[0m\u001b[0;34m:\u001b[0m\u001b[0;34m\u001b[0m\u001b[0;34m\u001b[0m\u001b[0m\n\u001b[1;32m   1344\u001b[0m             \u001b[0;32mtry\u001b[0m\u001b[0;34m:\u001b[0m\u001b[0;34m\u001b[0m\u001b[0;34m\u001b[0m\u001b[0m\n\u001b[0;32m-> 1345\u001b[0;31m                 \u001b[0mresponse\u001b[0m\u001b[0;34m.\u001b[0m\u001b[0mbegin\u001b[0m\u001b[0;34m(\u001b[0m\u001b[0;34m)\u001b[0m\u001b[0;34m\u001b[0m\u001b[0;34m\u001b[0m\u001b[0m\n\u001b[0m\u001b[1;32m   1346\u001b[0m             \u001b[0;32mexcept\u001b[0m \u001b[0mConnectionError\u001b[0m\u001b[0;34m:\u001b[0m\u001b[0;34m\u001b[0m\u001b[0;34m\u001b[0m\u001b[0m\n\u001b[1;32m   1347\u001b[0m                 \u001b[0mself\u001b[0m\u001b[0;34m.\u001b[0m\u001b[0mclose\u001b[0m\u001b[0;34m(\u001b[0m\u001b[0;34m)\u001b[0m\u001b[0;34m\u001b[0m\u001b[0;34m\u001b[0m\u001b[0m\n",
      "\u001b[0;32m/usr/local/Cellar/python@3.9/3.9.5/Frameworks/Python.framework/Versions/3.9/lib/python3.9/http/client.py\u001b[0m in \u001b[0;36mbegin\u001b[0;34m(self)\u001b[0m\n\u001b[1;32m    305\u001b[0m         \u001b[0;31m# read until we get a non-100 response\u001b[0m\u001b[0;34m\u001b[0m\u001b[0;34m\u001b[0m\u001b[0;34m\u001b[0m\u001b[0m\n\u001b[1;32m    306\u001b[0m         \u001b[0;32mwhile\u001b[0m \u001b[0;32mTrue\u001b[0m\u001b[0;34m:\u001b[0m\u001b[0;34m\u001b[0m\u001b[0;34m\u001b[0m\u001b[0m\n\u001b[0;32m--> 307\u001b[0;31m             \u001b[0mversion\u001b[0m\u001b[0;34m,\u001b[0m \u001b[0mstatus\u001b[0m\u001b[0;34m,\u001b[0m \u001b[0mreason\u001b[0m \u001b[0;34m=\u001b[0m \u001b[0mself\u001b[0m\u001b[0;34m.\u001b[0m\u001b[0m_read_status\u001b[0m\u001b[0;34m(\u001b[0m\u001b[0;34m)\u001b[0m\u001b[0;34m\u001b[0m\u001b[0;34m\u001b[0m\u001b[0m\n\u001b[0m\u001b[1;32m    308\u001b[0m             \u001b[0;32mif\u001b[0m \u001b[0mstatus\u001b[0m \u001b[0;34m!=\u001b[0m \u001b[0mCONTINUE\u001b[0m\u001b[0;34m:\u001b[0m\u001b[0;34m\u001b[0m\u001b[0;34m\u001b[0m\u001b[0m\n\u001b[1;32m    309\u001b[0m                 \u001b[0;32mbreak\u001b[0m\u001b[0;34m\u001b[0m\u001b[0;34m\u001b[0m\u001b[0m\n",
      "\u001b[0;32m/usr/local/Cellar/python@3.9/3.9.5/Frameworks/Python.framework/Versions/3.9/lib/python3.9/http/client.py\u001b[0m in \u001b[0;36m_read_status\u001b[0;34m(self)\u001b[0m\n\u001b[1;32m    266\u001b[0m \u001b[0;34m\u001b[0m\u001b[0m\n\u001b[1;32m    267\u001b[0m     \u001b[0;32mdef\u001b[0m \u001b[0m_read_status\u001b[0m\u001b[0;34m(\u001b[0m\u001b[0mself\u001b[0m\u001b[0;34m)\u001b[0m\u001b[0;34m:\u001b[0m\u001b[0;34m\u001b[0m\u001b[0;34m\u001b[0m\u001b[0m\n\u001b[0;32m--> 268\u001b[0;31m         \u001b[0mline\u001b[0m \u001b[0;34m=\u001b[0m \u001b[0mstr\u001b[0m\u001b[0;34m(\u001b[0m\u001b[0mself\u001b[0m\u001b[0;34m.\u001b[0m\u001b[0mfp\u001b[0m\u001b[0;34m.\u001b[0m\u001b[0mreadline\u001b[0m\u001b[0;34m(\u001b[0m\u001b[0m_MAXLINE\u001b[0m \u001b[0;34m+\u001b[0m \u001b[0;36m1\u001b[0m\u001b[0;34m)\u001b[0m\u001b[0;34m,\u001b[0m \u001b[0;34m\"iso-8859-1\"\u001b[0m\u001b[0;34m)\u001b[0m\u001b[0;34m\u001b[0m\u001b[0;34m\u001b[0m\u001b[0m\n\u001b[0m\u001b[1;32m    269\u001b[0m         \u001b[0;32mif\u001b[0m \u001b[0mlen\u001b[0m\u001b[0;34m(\u001b[0m\u001b[0mline\u001b[0m\u001b[0;34m)\u001b[0m \u001b[0;34m>\u001b[0m \u001b[0m_MAXLINE\u001b[0m\u001b[0;34m:\u001b[0m\u001b[0;34m\u001b[0m\u001b[0;34m\u001b[0m\u001b[0m\n\u001b[1;32m    270\u001b[0m             \u001b[0;32mraise\u001b[0m \u001b[0mLineTooLong\u001b[0m\u001b[0;34m(\u001b[0m\u001b[0;34m\"status line\"\u001b[0m\u001b[0;34m)\u001b[0m\u001b[0;34m\u001b[0m\u001b[0;34m\u001b[0m\u001b[0m\n",
      "\u001b[0;32m/usr/local/Cellar/python@3.9/3.9.5/Frameworks/Python.framework/Versions/3.9/lib/python3.9/socket.py\u001b[0m in \u001b[0;36mreadinto\u001b[0;34m(self, b)\u001b[0m\n\u001b[1;32m    702\u001b[0m         \u001b[0;32mwhile\u001b[0m \u001b[0;32mTrue\u001b[0m\u001b[0;34m:\u001b[0m\u001b[0;34m\u001b[0m\u001b[0;34m\u001b[0m\u001b[0m\n\u001b[1;32m    703\u001b[0m             \u001b[0;32mtry\u001b[0m\u001b[0;34m:\u001b[0m\u001b[0;34m\u001b[0m\u001b[0;34m\u001b[0m\u001b[0m\n\u001b[0;32m--> 704\u001b[0;31m                 \u001b[0;32mreturn\u001b[0m \u001b[0mself\u001b[0m\u001b[0;34m.\u001b[0m\u001b[0m_sock\u001b[0m\u001b[0;34m.\u001b[0m\u001b[0mrecv_into\u001b[0m\u001b[0;34m(\u001b[0m\u001b[0mb\u001b[0m\u001b[0;34m)\u001b[0m\u001b[0;34m\u001b[0m\u001b[0;34m\u001b[0m\u001b[0m\n\u001b[0m\u001b[1;32m    705\u001b[0m             \u001b[0;32mexcept\u001b[0m \u001b[0mtimeout\u001b[0m\u001b[0;34m:\u001b[0m\u001b[0;34m\u001b[0m\u001b[0;34m\u001b[0m\u001b[0m\n\u001b[1;32m    706\u001b[0m                 \u001b[0mself\u001b[0m\u001b[0;34m.\u001b[0m\u001b[0m_timeout_occurred\u001b[0m \u001b[0;34m=\u001b[0m \u001b[0;32mTrue\u001b[0m\u001b[0;34m\u001b[0m\u001b[0;34m\u001b[0m\u001b[0m\n",
      "\u001b[0;32m/usr/local/Cellar/python@3.9/3.9.5/Frameworks/Python.framework/Versions/3.9/lib/python3.9/ssl.py\u001b[0m in \u001b[0;36mrecv_into\u001b[0;34m(self, buffer, nbytes, flags)\u001b[0m\n\u001b[1;32m   1239\u001b[0m                   \u001b[0;34m\"non-zero flags not allowed in calls to recv_into() on %s\"\u001b[0m \u001b[0;34m%\u001b[0m\u001b[0;34m\u001b[0m\u001b[0;34m\u001b[0m\u001b[0m\n\u001b[1;32m   1240\u001b[0m                   self.__class__)\n\u001b[0;32m-> 1241\u001b[0;31m             \u001b[0;32mreturn\u001b[0m \u001b[0mself\u001b[0m\u001b[0;34m.\u001b[0m\u001b[0mread\u001b[0m\u001b[0;34m(\u001b[0m\u001b[0mnbytes\u001b[0m\u001b[0;34m,\u001b[0m \u001b[0mbuffer\u001b[0m\u001b[0;34m)\u001b[0m\u001b[0;34m\u001b[0m\u001b[0;34m\u001b[0m\u001b[0m\n\u001b[0m\u001b[1;32m   1242\u001b[0m         \u001b[0;32melse\u001b[0m\u001b[0;34m:\u001b[0m\u001b[0;34m\u001b[0m\u001b[0;34m\u001b[0m\u001b[0m\n\u001b[1;32m   1243\u001b[0m             \u001b[0;32mreturn\u001b[0m \u001b[0msuper\u001b[0m\u001b[0;34m(\u001b[0m\u001b[0;34m)\u001b[0m\u001b[0;34m.\u001b[0m\u001b[0mrecv_into\u001b[0m\u001b[0;34m(\u001b[0m\u001b[0mbuffer\u001b[0m\u001b[0;34m,\u001b[0m \u001b[0mnbytes\u001b[0m\u001b[0;34m,\u001b[0m \u001b[0mflags\u001b[0m\u001b[0;34m)\u001b[0m\u001b[0;34m\u001b[0m\u001b[0;34m\u001b[0m\u001b[0m\n",
      "\u001b[0;32m/usr/local/Cellar/python@3.9/3.9.5/Frameworks/Python.framework/Versions/3.9/lib/python3.9/ssl.py\u001b[0m in \u001b[0;36mread\u001b[0;34m(self, len, buffer)\u001b[0m\n\u001b[1;32m   1097\u001b[0m         \u001b[0;32mtry\u001b[0m\u001b[0;34m:\u001b[0m\u001b[0;34m\u001b[0m\u001b[0;34m\u001b[0m\u001b[0m\n\u001b[1;32m   1098\u001b[0m             \u001b[0;32mif\u001b[0m \u001b[0mbuffer\u001b[0m \u001b[0;32mis\u001b[0m \u001b[0;32mnot\u001b[0m \u001b[0;32mNone\u001b[0m\u001b[0;34m:\u001b[0m\u001b[0;34m\u001b[0m\u001b[0;34m\u001b[0m\u001b[0m\n\u001b[0;32m-> 1099\u001b[0;31m                 \u001b[0;32mreturn\u001b[0m \u001b[0mself\u001b[0m\u001b[0;34m.\u001b[0m\u001b[0m_sslobj\u001b[0m\u001b[0;34m.\u001b[0m\u001b[0mread\u001b[0m\u001b[0;34m(\u001b[0m\u001b[0mlen\u001b[0m\u001b[0;34m,\u001b[0m \u001b[0mbuffer\u001b[0m\u001b[0;34m)\u001b[0m\u001b[0;34m\u001b[0m\u001b[0;34m\u001b[0m\u001b[0m\n\u001b[0m\u001b[1;32m   1100\u001b[0m             \u001b[0;32melse\u001b[0m\u001b[0;34m:\u001b[0m\u001b[0;34m\u001b[0m\u001b[0;34m\u001b[0m\u001b[0m\n\u001b[1;32m   1101\u001b[0m                 \u001b[0;32mreturn\u001b[0m \u001b[0mself\u001b[0m\u001b[0;34m.\u001b[0m\u001b[0m_sslobj\u001b[0m\u001b[0;34m.\u001b[0m\u001b[0mread\u001b[0m\u001b[0;34m(\u001b[0m\u001b[0mlen\u001b[0m\u001b[0;34m)\u001b[0m\u001b[0;34m\u001b[0m\u001b[0;34m\u001b[0m\u001b[0m\n",
      "\u001b[0;31mKeyboardInterrupt\u001b[0m: "
     ]
    }
   ],
   "source": [
    "from geopy.geocoders import Nominatim\n",
    "\n",
    "locator = Nominatim(user_agent='DS API - Family Promise')\n",
    "\n",
    "data['my_latitude'] = data['address'].apply(lambda address: locator.geocode(address).latitude if locator.geocode(address) is not None else None)\n",
    "\n",
    "data['my_longitude'] = data['address'].apply(lambda address: locator.geocode(address).longitude)\n",
    "\n",
    "fig = px.scatter_mapbox(data, lat=\"my_latitude\", lon='my_longitude',\n",
    "                            color=\"service_description\",  # which column to use to set the color of markers\n",
    "                            hover_name=\"service_description\",  # column added to hover information\n",
    "                            hover_data={\n",
    "                                'service_description': False,\n",
    "                                'my_latitude': False,\n",
    "                                'my_longitude': False\n",
    "                            },\n",
    "                            zoom=11\n",
    "                            )\n",
    "\n",
    "\n",
    "fig.update_layout(mapbox_style=\"open-street-map\")\n",
    "fig.update_layout(showlegend=False)\n",
    "fig.update_traces(marker=dict(size=6))\n",
    "fig.show()"
   ]
  },
  {
   "cell_type": "code",
   "execution_count": null,
   "metadata": {},
   "outputs": [],
   "source": []
  }
 ]
}