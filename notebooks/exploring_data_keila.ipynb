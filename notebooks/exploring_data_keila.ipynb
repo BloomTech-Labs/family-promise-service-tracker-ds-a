{
 "cells": [
  {
   "cell_type": "code",
   "execution_count": 1,
   "id": "70c67dbf",
   "metadata": {},
   "outputs": [],
   "source": [
    "import pandas as pd\n",
    "import plotly.express as px"
   ]
  },
  {
   "cell_type": "code",
   "execution_count": 2,
   "id": "042e348f",
   "metadata": {},
   "outputs": [
    {
     "output_type": "execute_result",
     "data": {
      "text/plain": [
       "   client_id          full_name  gender  age service_description  \\\n",
       "0      54892  Mehetabel Aylmore    Male   20     Case Management   \n",
       "1      49499       Elga Raeburn  Female    9     Case Management   \n",
       "2      64034   Kimmie Richardot  Female    7     Case Management   \n",
       "3      42222       Adham Polack  Female   62     Case Management   \n",
       "4      45792       Jeff Winspar  Female    8      Transportation   \n",
       "\n",
       "                                             address   latitude   longitude  \\\n",
       "0      Gilman Dr W, Seattle, WA 98119, United States  47.636289 -122.371025   \n",
       "1  7th Avenue West, Seattle, WA 98119, United States  47.639123 -122.365667   \n",
       "2  West Lee Street, Seattle, WA 98119, United States  47.629724 -122.369483   \n",
       "3  8th Avenue West, Seattle, WA 98119, United States  47.638473 -122.369279   \n",
       "4       14th Ave W, Seattle, WA 98119, United States  47.632918 -122.372471   \n",
       "\n",
       "                 date  \n",
       "0  5/14/2018 12:00 AM  \n",
       "1  5/14/2018 12:00 AM  \n",
       "2  5/21/2018 12:00 AM  \n",
       "3  9/17/2018 12:00 AM  \n",
       "4  5/21/2018 12:00 AM  "
      ],
      "text/html": "<div>\n<style scoped>\n    .dataframe tbody tr th:only-of-type {\n        vertical-align: middle;\n    }\n\n    .dataframe tbody tr th {\n        vertical-align: top;\n    }\n\n    .dataframe thead th {\n        text-align: right;\n    }\n</style>\n<table border=\"1\" class=\"dataframe\">\n  <thead>\n    <tr style=\"text-align: right;\">\n      <th></th>\n      <th>client_id</th>\n      <th>full_name</th>\n      <th>gender</th>\n      <th>age</th>\n      <th>service_description</th>\n      <th>address</th>\n      <th>latitude</th>\n      <th>longitude</th>\n      <th>date</th>\n    </tr>\n  </thead>\n  <tbody>\n    <tr>\n      <th>0</th>\n      <td>54892</td>\n      <td>Mehetabel Aylmore</td>\n      <td>Male</td>\n      <td>20</td>\n      <td>Case Management</td>\n      <td>Gilman Dr W, Seattle, WA 98119, United States</td>\n      <td>47.636289</td>\n      <td>-122.371025</td>\n      <td>5/14/2018 12:00 AM</td>\n    </tr>\n    <tr>\n      <th>1</th>\n      <td>49499</td>\n      <td>Elga Raeburn</td>\n      <td>Female</td>\n      <td>9</td>\n      <td>Case Management</td>\n      <td>7th Avenue West, Seattle, WA 98119, United States</td>\n      <td>47.639123</td>\n      <td>-122.365667</td>\n      <td>5/14/2018 12:00 AM</td>\n    </tr>\n    <tr>\n      <th>2</th>\n      <td>64034</td>\n      <td>Kimmie Richardot</td>\n      <td>Female</td>\n      <td>7</td>\n      <td>Case Management</td>\n      <td>West Lee Street, Seattle, WA 98119, United States</td>\n      <td>47.629724</td>\n      <td>-122.369483</td>\n      <td>5/21/2018 12:00 AM</td>\n    </tr>\n    <tr>\n      <th>3</th>\n      <td>42222</td>\n      <td>Adham Polack</td>\n      <td>Female</td>\n      <td>62</td>\n      <td>Case Management</td>\n      <td>8th Avenue West, Seattle, WA 98119, United States</td>\n      <td>47.638473</td>\n      <td>-122.369279</td>\n      <td>9/17/2018 12:00 AM</td>\n    </tr>\n    <tr>\n      <th>4</th>\n      <td>45792</td>\n      <td>Jeff Winspar</td>\n      <td>Female</td>\n      <td>8</td>\n      <td>Transportation</td>\n      <td>14th Ave W, Seattle, WA 98119, United States</td>\n      <td>47.632918</td>\n      <td>-122.372471</td>\n      <td>5/21/2018 12:00 AM</td>\n    </tr>\n  </tbody>\n</table>\n</div>"
     },
     "metadata": {},
     "execution_count": 2
    }
   ],
   "source": [
    "data = pd.read_csv('../data/mock_data.csv')\n",
    "data.head()"
   ]
  },
  {
   "cell_type": "code",
   "execution_count": 3,
   "id": "7246ad9b",
   "metadata": {},
   "outputs": [
    {
     "output_type": "execute_result",
     "data": {
      "text/plain": [
       "   client_id          full_name  gender  age service_description  \\\n",
       "0      54892  Mehetabel Aylmore    Male   20     Case Management   \n",
       "1      49499       Elga Raeburn  Female    9     Case Management   \n",
       "2      64034   Kimmie Richardot  Female    7     Case Management   \n",
       "3      42222       Adham Polack  Female   62     Case Management   \n",
       "4      45792       Jeff Winspar  Female    8      Transportation   \n",
       "\n",
       "                                             address   latitude   longitude  \\\n",
       "0      Gilman Dr W, Seattle, WA 98119, United States  47.636289 -122.371025   \n",
       "1  7th Avenue West, Seattle, WA 98119, United States  47.639123 -122.365667   \n",
       "2  West Lee Street, Seattle, WA 98119, United States  47.629724 -122.369483   \n",
       "3  8th Avenue West, Seattle, WA 98119, United States  47.638473 -122.369279   \n",
       "4       14th Ave W, Seattle, WA 98119, United States  47.632918 -122.372471   \n",
       "\n",
       "                 date  adult  \n",
       "0  5/14/2018 12:00 AM   True  \n",
       "1  5/14/2018 12:00 AM  False  \n",
       "2  5/21/2018 12:00 AM  False  \n",
       "3  9/17/2018 12:00 AM   True  \n",
       "4  5/21/2018 12:00 AM  False  "
      ],
      "text/html": "<div>\n<style scoped>\n    .dataframe tbody tr th:only-of-type {\n        vertical-align: middle;\n    }\n\n    .dataframe tbody tr th {\n        vertical-align: top;\n    }\n\n    .dataframe thead th {\n        text-align: right;\n    }\n</style>\n<table border=\"1\" class=\"dataframe\">\n  <thead>\n    <tr style=\"text-align: right;\">\n      <th></th>\n      <th>client_id</th>\n      <th>full_name</th>\n      <th>gender</th>\n      <th>age</th>\n      <th>service_description</th>\n      <th>address</th>\n      <th>latitude</th>\n      <th>longitude</th>\n      <th>date</th>\n      <th>adult</th>\n    </tr>\n  </thead>\n  <tbody>\n    <tr>\n      <th>0</th>\n      <td>54892</td>\n      <td>Mehetabel Aylmore</td>\n      <td>Male</td>\n      <td>20</td>\n      <td>Case Management</td>\n      <td>Gilman Dr W, Seattle, WA 98119, United States</td>\n      <td>47.636289</td>\n      <td>-122.371025</td>\n      <td>5/14/2018 12:00 AM</td>\n      <td>True</td>\n    </tr>\n    <tr>\n      <th>1</th>\n      <td>49499</td>\n      <td>Elga Raeburn</td>\n      <td>Female</td>\n      <td>9</td>\n      <td>Case Management</td>\n      <td>7th Avenue West, Seattle, WA 98119, United States</td>\n      <td>47.639123</td>\n      <td>-122.365667</td>\n      <td>5/14/2018 12:00 AM</td>\n      <td>False</td>\n    </tr>\n    <tr>\n      <th>2</th>\n      <td>64034</td>\n      <td>Kimmie Richardot</td>\n      <td>Female</td>\n      <td>7</td>\n      <td>Case Management</td>\n      <td>West Lee Street, Seattle, WA 98119, United States</td>\n      <td>47.629724</td>\n      <td>-122.369483</td>\n      <td>5/21/2018 12:00 AM</td>\n      <td>False</td>\n    </tr>\n    <tr>\n      <th>3</th>\n      <td>42222</td>\n      <td>Adham Polack</td>\n      <td>Female</td>\n      <td>62</td>\n      <td>Case Management</td>\n      <td>8th Avenue West, Seattle, WA 98119, United States</td>\n      <td>47.638473</td>\n      <td>-122.369279</td>\n      <td>9/17/2018 12:00 AM</td>\n      <td>True</td>\n    </tr>\n    <tr>\n      <th>4</th>\n      <td>45792</td>\n      <td>Jeff Winspar</td>\n      <td>Female</td>\n      <td>8</td>\n      <td>Transportation</td>\n      <td>14th Ave W, Seattle, WA 98119, United States</td>\n      <td>47.632918</td>\n      <td>-122.372471</td>\n      <td>5/21/2018 12:00 AM</td>\n      <td>False</td>\n    </tr>\n  </tbody>\n</table>\n</div>"
     },
     "metadata": {},
     "execution_count": 3
    }
   ],
   "source": [
    "data.loc[data['age'] < 18, 'adult'] = False\n",
    "data.loc[data['age'] >= 18, 'adult'] = True\n",
    "\n",
    "data.head()"
   ]
  },
  {
   "cell_type": "code",
   "execution_count": 18,
   "id": "0d3affcf",
   "metadata": {},
   "outputs": [
    {
     "output_type": "display_data",
     "data": {
      "application/vnd.plotly.v1+json": {
       "config": {
        "plotlyServerURL": "https://plotly.com"
       },
       "data": [
        {
         "alignmentgroup": "True",
         "hovertemplate": "variable=adult<br>Adult ?=%{x}<br>Count=%{y}<extra></extra>",
         "legendgroup": "adult",
         "marker": {
          "color": "#636efa"
         },
         "name": "adult",
         "offsetgroup": "adult",
         "orientation": "v",
         "showlegend": true,
         "textposition": "auto",
         "type": "bar",
         "x": [
          true,
          false
         ],
         "xaxis": "x",
         "y": [
          776,
          224
         ],
         "yaxis": "y"
        }
       ],
       "layout": {
        "barmode": "relative",
        "legend": {
         "title": {
          "text": "variable"
         },
         "tracegroupgap": 0
        },
        "showlegend": false,
        "template": {
         "data": {
          "bar": [
           {
            "error_x": {
             "color": "#2a3f5f"
            },
            "error_y": {
             "color": "#2a3f5f"
            },
            "marker": {
             "line": {
              "color": "#E5ECF6",
              "width": 0.5
             }
            },
            "type": "bar"
           }
          ],
          "barpolar": [
           {
            "marker": {
             "line": {
              "color": "#E5ECF6",
              "width": 0.5
             }
            },
            "type": "barpolar"
           }
          ],
          "carpet": [
           {
            "aaxis": {
             "endlinecolor": "#2a3f5f",
             "gridcolor": "white",
             "linecolor": "white",
             "minorgridcolor": "white",
             "startlinecolor": "#2a3f5f"
            },
            "baxis": {
             "endlinecolor": "#2a3f5f",
             "gridcolor": "white",
             "linecolor": "white",
             "minorgridcolor": "white",
             "startlinecolor": "#2a3f5f"
            },
            "type": "carpet"
           }
          ],
          "choropleth": [
           {
            "colorbar": {
             "outlinewidth": 0,
             "ticks": ""
            },
            "type": "choropleth"
           }
          ],
          "contour": [
           {
            "colorbar": {
             "outlinewidth": 0,
             "ticks": ""
            },
            "colorscale": [
             [
              0,
              "#0d0887"
             ],
             [
              0.1111111111111111,
              "#46039f"
             ],
             [
              0.2222222222222222,
              "#7201a8"
             ],
             [
              0.3333333333333333,
              "#9c179e"
             ],
             [
              0.4444444444444444,
              "#bd3786"
             ],
             [
              0.5555555555555556,
              "#d8576b"
             ],
             [
              0.6666666666666666,
              "#ed7953"
             ],
             [
              0.7777777777777778,
              "#fb9f3a"
             ],
             [
              0.8888888888888888,
              "#fdca26"
             ],
             [
              1,
              "#f0f921"
             ]
            ],
            "type": "contour"
           }
          ],
          "contourcarpet": [
           {
            "colorbar": {
             "outlinewidth": 0,
             "ticks": ""
            },
            "type": "contourcarpet"
           }
          ],
          "heatmap": [
           {
            "colorbar": {
             "outlinewidth": 0,
             "ticks": ""
            },
            "colorscale": [
             [
              0,
              "#0d0887"
             ],
             [
              0.1111111111111111,
              "#46039f"
             ],
             [
              0.2222222222222222,
              "#7201a8"
             ],
             [
              0.3333333333333333,
              "#9c179e"
             ],
             [
              0.4444444444444444,
              "#bd3786"
             ],
             [
              0.5555555555555556,
              "#d8576b"
             ],
             [
              0.6666666666666666,
              "#ed7953"
             ],
             [
              0.7777777777777778,
              "#fb9f3a"
             ],
             [
              0.8888888888888888,
              "#fdca26"
             ],
             [
              1,
              "#f0f921"
             ]
            ],
            "type": "heatmap"
           }
          ],
          "heatmapgl": [
           {
            "colorbar": {
             "outlinewidth": 0,
             "ticks": ""
            },
            "colorscale": [
             [
              0,
              "#0d0887"
             ],
             [
              0.1111111111111111,
              "#46039f"
             ],
             [
              0.2222222222222222,
              "#7201a8"
             ],
             [
              0.3333333333333333,
              "#9c179e"
             ],
             [
              0.4444444444444444,
              "#bd3786"
             ],
             [
              0.5555555555555556,
              "#d8576b"
             ],
             [
              0.6666666666666666,
              "#ed7953"
             ],
             [
              0.7777777777777778,
              "#fb9f3a"
             ],
             [
              0.8888888888888888,
              "#fdca26"
             ],
             [
              1,
              "#f0f921"
             ]
            ],
            "type": "heatmapgl"
           }
          ],
          "histogram": [
           {
            "marker": {
             "colorbar": {
              "outlinewidth": 0,
              "ticks": ""
             }
            },
            "type": "histogram"
           }
          ],
          "histogram2d": [
           {
            "colorbar": {
             "outlinewidth": 0,
             "ticks": ""
            },
            "colorscale": [
             [
              0,
              "#0d0887"
             ],
             [
              0.1111111111111111,
              "#46039f"
             ],
             [
              0.2222222222222222,
              "#7201a8"
             ],
             [
              0.3333333333333333,
              "#9c179e"
             ],
             [
              0.4444444444444444,
              "#bd3786"
             ],
             [
              0.5555555555555556,
              "#d8576b"
             ],
             [
              0.6666666666666666,
              "#ed7953"
             ],
             [
              0.7777777777777778,
              "#fb9f3a"
             ],
             [
              0.8888888888888888,
              "#fdca26"
             ],
             [
              1,
              "#f0f921"
             ]
            ],
            "type": "histogram2d"
           }
          ],
          "histogram2dcontour": [
           {
            "colorbar": {
             "outlinewidth": 0,
             "ticks": ""
            },
            "colorscale": [
             [
              0,
              "#0d0887"
             ],
             [
              0.1111111111111111,
              "#46039f"
             ],
             [
              0.2222222222222222,
              "#7201a8"
             ],
             [
              0.3333333333333333,
              "#9c179e"
             ],
             [
              0.4444444444444444,
              "#bd3786"
             ],
             [
              0.5555555555555556,
              "#d8576b"
             ],
             [
              0.6666666666666666,
              "#ed7953"
             ],
             [
              0.7777777777777778,
              "#fb9f3a"
             ],
             [
              0.8888888888888888,
              "#fdca26"
             ],
             [
              1,
              "#f0f921"
             ]
            ],
            "type": "histogram2dcontour"
           }
          ],
          "mesh3d": [
           {
            "colorbar": {
             "outlinewidth": 0,
             "ticks": ""
            },
            "type": "mesh3d"
           }
          ],
          "parcoords": [
           {
            "line": {
             "colorbar": {
              "outlinewidth": 0,
              "ticks": ""
             }
            },
            "type": "parcoords"
           }
          ],
          "pie": [
           {
            "automargin": true,
            "type": "pie"
           }
          ],
          "scatter": [
           {
            "marker": {
             "colorbar": {
              "outlinewidth": 0,
              "ticks": ""
             }
            },
            "type": "scatter"
           }
          ],
          "scatter3d": [
           {
            "line": {
             "colorbar": {
              "outlinewidth": 0,
              "ticks": ""
             }
            },
            "marker": {
             "colorbar": {
              "outlinewidth": 0,
              "ticks": ""
             }
            },
            "type": "scatter3d"
           }
          ],
          "scattercarpet": [
           {
            "marker": {
             "colorbar": {
              "outlinewidth": 0,
              "ticks": ""
             }
            },
            "type": "scattercarpet"
           }
          ],
          "scattergeo": [
           {
            "marker": {
             "colorbar": {
              "outlinewidth": 0,
              "ticks": ""
             }
            },
            "type": "scattergeo"
           }
          ],
          "scattergl": [
           {
            "marker": {
             "colorbar": {
              "outlinewidth": 0,
              "ticks": ""
             }
            },
            "type": "scattergl"
           }
          ],
          "scattermapbox": [
           {
            "marker": {
             "colorbar": {
              "outlinewidth": 0,
              "ticks": ""
             }
            },
            "type": "scattermapbox"
           }
          ],
          "scatterpolar": [
           {
            "marker": {
             "colorbar": {
              "outlinewidth": 0,
              "ticks": ""
             }
            },
            "type": "scatterpolar"
           }
          ],
          "scatterpolargl": [
           {
            "marker": {
             "colorbar": {
              "outlinewidth": 0,
              "ticks": ""
             }
            },
            "type": "scatterpolargl"
           }
          ],
          "scatterternary": [
           {
            "marker": {
             "colorbar": {
              "outlinewidth": 0,
              "ticks": ""
             }
            },
            "type": "scatterternary"
           }
          ],
          "surface": [
           {
            "colorbar": {
             "outlinewidth": 0,
             "ticks": ""
            },
            "colorscale": [
             [
              0,
              "#0d0887"
             ],
             [
              0.1111111111111111,
              "#46039f"
             ],
             [
              0.2222222222222222,
              "#7201a8"
             ],
             [
              0.3333333333333333,
              "#9c179e"
             ],
             [
              0.4444444444444444,
              "#bd3786"
             ],
             [
              0.5555555555555556,
              "#d8576b"
             ],
             [
              0.6666666666666666,
              "#ed7953"
             ],
             [
              0.7777777777777778,
              "#fb9f3a"
             ],
             [
              0.8888888888888888,
              "#fdca26"
             ],
             [
              1,
              "#f0f921"
             ]
            ],
            "type": "surface"
           }
          ],
          "table": [
           {
            "cells": {
             "fill": {
              "color": "#EBF0F8"
             },
             "line": {
              "color": "white"
             }
            },
            "header": {
             "fill": {
              "color": "#C8D4E3"
             },
             "line": {
              "color": "white"
             }
            },
            "type": "table"
           }
          ]
         },
         "layout": {
          "annotationdefaults": {
           "arrowcolor": "#2a3f5f",
           "arrowhead": 0,
           "arrowwidth": 1
          },
          "autotypenumbers": "strict",
          "coloraxis": {
           "colorbar": {
            "outlinewidth": 0,
            "ticks": ""
           }
          },
          "colorscale": {
           "diverging": [
            [
             0,
             "#8e0152"
            ],
            [
             0.1,
             "#c51b7d"
            ],
            [
             0.2,
             "#de77ae"
            ],
            [
             0.3,
             "#f1b6da"
            ],
            [
             0.4,
             "#fde0ef"
            ],
            [
             0.5,
             "#f7f7f7"
            ],
            [
             0.6,
             "#e6f5d0"
            ],
            [
             0.7,
             "#b8e186"
            ],
            [
             0.8,
             "#7fbc41"
            ],
            [
             0.9,
             "#4d9221"
            ],
            [
             1,
             "#276419"
            ]
           ],
           "sequential": [
            [
             0,
             "#0d0887"
            ],
            [
             0.1111111111111111,
             "#46039f"
            ],
            [
             0.2222222222222222,
             "#7201a8"
            ],
            [
             0.3333333333333333,
             "#9c179e"
            ],
            [
             0.4444444444444444,
             "#bd3786"
            ],
            [
             0.5555555555555556,
             "#d8576b"
            ],
            [
             0.6666666666666666,
             "#ed7953"
            ],
            [
             0.7777777777777778,
             "#fb9f3a"
            ],
            [
             0.8888888888888888,
             "#fdca26"
            ],
            [
             1,
             "#f0f921"
            ]
           ],
           "sequentialminus": [
            [
             0,
             "#0d0887"
            ],
            [
             0.1111111111111111,
             "#46039f"
            ],
            [
             0.2222222222222222,
             "#7201a8"
            ],
            [
             0.3333333333333333,
             "#9c179e"
            ],
            [
             0.4444444444444444,
             "#bd3786"
            ],
            [
             0.5555555555555556,
             "#d8576b"
            ],
            [
             0.6666666666666666,
             "#ed7953"
            ],
            [
             0.7777777777777778,
             "#fb9f3a"
            ],
            [
             0.8888888888888888,
             "#fdca26"
            ],
            [
             1,
             "#f0f921"
            ]
           ]
          },
          "colorway": [
           "#636efa",
           "#EF553B",
           "#00cc96",
           "#ab63fa",
           "#FFA15A",
           "#19d3f3",
           "#FF6692",
           "#B6E880",
           "#FF97FF",
           "#FECB52"
          ],
          "font": {
           "color": "#2a3f5f"
          },
          "geo": {
           "bgcolor": "white",
           "lakecolor": "white",
           "landcolor": "#E5ECF6",
           "showlakes": true,
           "showland": true,
           "subunitcolor": "white"
          },
          "hoverlabel": {
           "align": "left"
          },
          "hovermode": "closest",
          "mapbox": {
           "style": "light"
          },
          "paper_bgcolor": "white",
          "plot_bgcolor": "#E5ECF6",
          "polar": {
           "angularaxis": {
            "gridcolor": "white",
            "linecolor": "white",
            "ticks": ""
           },
           "bgcolor": "#E5ECF6",
           "radialaxis": {
            "gridcolor": "white",
            "linecolor": "white",
            "ticks": ""
           }
          },
          "scene": {
           "xaxis": {
            "backgroundcolor": "#E5ECF6",
            "gridcolor": "white",
            "gridwidth": 2,
            "linecolor": "white",
            "showbackground": true,
            "ticks": "",
            "zerolinecolor": "white"
           },
           "yaxis": {
            "backgroundcolor": "#E5ECF6",
            "gridcolor": "white",
            "gridwidth": 2,
            "linecolor": "white",
            "showbackground": true,
            "ticks": "",
            "zerolinecolor": "white"
           },
           "zaxis": {
            "backgroundcolor": "#E5ECF6",
            "gridcolor": "white",
            "gridwidth": 2,
            "linecolor": "white",
            "showbackground": true,
            "ticks": "",
            "zerolinecolor": "white"
           }
          },
          "shapedefaults": {
           "line": {
            "color": "#2a3f5f"
           }
          },
          "ternary": {
           "aaxis": {
            "gridcolor": "white",
            "linecolor": "white",
            "ticks": ""
           },
           "baxis": {
            "gridcolor": "white",
            "linecolor": "white",
            "ticks": ""
           },
           "bgcolor": "#E5ECF6",
           "caxis": {
            "gridcolor": "white",
            "linecolor": "white",
            "ticks": ""
           }
          },
          "title": {
           "x": 0.05
          },
          "xaxis": {
           "automargin": true,
           "gridcolor": "white",
           "linecolor": "white",
           "ticks": "",
           "title": {
            "standoff": 15
           },
           "zerolinecolor": "white",
           "zerolinewidth": 2
          },
          "yaxis": {
           "automargin": true,
           "gridcolor": "white",
           "linecolor": "white",
           "ticks": "",
           "title": {
            "standoff": 15
           },
           "zerolinecolor": "white",
           "zerolinewidth": 2
          }
         }
        },
        "title": {
         "text": "Count of Children and Adults Served by Family Promise"
        },
        "xaxis": {
         "anchor": "y",
         "domain": [
          0,
          1
         ],
         "title": {
          "text": "Adult ?"
         }
        },
        "yaxis": {
         "anchor": "x",
         "domain": [
          0,
          1
         ],
         "title": {
          "text": "Count"
         }
        }
       }
      }
     },
     "metadata": {}
    }
   ],
   "source": [
    "adult_child_counts = data['adult'].value_counts()\n",
    "\n",
    "adult_child_count_fig = px.bar(\n",
    "    adult_child_counts, \n",
    "    labels={'index': 'Adult ?', 'value': 'Count'}, \n",
    "    title='Count of Children and Adults Served by Family Promise'\n",
    ")\n",
    "adult_child_count_fig.update_layout(showlegend=False)\n",
    "adult_child_count_fig.show()"
   ]
  },
  {
   "cell_type": "code",
   "execution_count": 6,
   "id": "79cd812f",
   "metadata": {},
   "outputs": [
    {
     "output_type": "execute_result",
     "data": {
      "text/plain": [
       "   client_id          full_name  gender  age  adult  veteran ethnicity   \\\n",
       "0      54892  Mehetabel Aylmore    Male   20      1        1      White   \n",
       "1      49955          Ab Haycox  Female    2      0        0      White   \n",
       "2      60641       Lindi Ransom    Male   23      1        0      Asian   \n",
       "3      64026        Kaye Sample    Male    4      0        0      White   \n",
       "4      63275      Jervis Sydney    Male   67      1        0      White   \n",
       "\n",
       "      service_provided  zipcode            city       state   latitude  \\\n",
       "0  Life Skills Classes    99001  Airway Heights  Washington  47.642922   \n",
       "1      Case Management    99001  Airway Heights  Washington  47.642922   \n",
       "2      Case Management    99001  Airway Heights  Washington  47.642922   \n",
       "3    Rental Assistance    99001  Airway Heights  Washington  47.642922   \n",
       "4       Transportation    99001  Airway Heights  Washington  47.642922   \n",
       "\n",
       "   longitude                date  \n",
       "0 -117.59149  5/14/2018 12:00 AM  \n",
       "1 -117.59149  5/15/2018 12:00 AM  \n",
       "2 -117.59149  5/16/2018 12:00 AM  \n",
       "3 -117.59149  5/17/2018 12:00 AM  \n",
       "4 -117.59149  5/18/2018 12:00 AM  "
      ],
      "text/html": "<div>\n<style scoped>\n    .dataframe tbody tr th:only-of-type {\n        vertical-align: middle;\n    }\n\n    .dataframe tbody tr th {\n        vertical-align: top;\n    }\n\n    .dataframe thead th {\n        text-align: right;\n    }\n</style>\n<table border=\"1\" class=\"dataframe\">\n  <thead>\n    <tr style=\"text-align: right;\">\n      <th></th>\n      <th>client_id</th>\n      <th>full_name</th>\n      <th>gender</th>\n      <th>age</th>\n      <th>adult</th>\n      <th>veteran</th>\n      <th>ethnicity</th>\n      <th>service_provided</th>\n      <th>zipcode</th>\n      <th>city</th>\n      <th>state</th>\n      <th>latitude</th>\n      <th>longitude</th>\n      <th>date</th>\n    </tr>\n  </thead>\n  <tbody>\n    <tr>\n      <th>0</th>\n      <td>54892</td>\n      <td>Mehetabel Aylmore</td>\n      <td>Male</td>\n      <td>20</td>\n      <td>1</td>\n      <td>1</td>\n      <td>White</td>\n      <td>Life Skills Classes</td>\n      <td>99001</td>\n      <td>Airway Heights</td>\n      <td>Washington</td>\n      <td>47.642922</td>\n      <td>-117.59149</td>\n      <td>5/14/2018 12:00 AM</td>\n    </tr>\n    <tr>\n      <th>1</th>\n      <td>49955</td>\n      <td>Ab Haycox</td>\n      <td>Female</td>\n      <td>2</td>\n      <td>0</td>\n      <td>0</td>\n      <td>White</td>\n      <td>Case Management</td>\n      <td>99001</td>\n      <td>Airway Heights</td>\n      <td>Washington</td>\n      <td>47.642922</td>\n      <td>-117.59149</td>\n      <td>5/15/2018 12:00 AM</td>\n    </tr>\n    <tr>\n      <th>2</th>\n      <td>60641</td>\n      <td>Lindi Ransom</td>\n      <td>Male</td>\n      <td>23</td>\n      <td>1</td>\n      <td>0</td>\n      <td>Asian</td>\n      <td>Case Management</td>\n      <td>99001</td>\n      <td>Airway Heights</td>\n      <td>Washington</td>\n      <td>47.642922</td>\n      <td>-117.59149</td>\n      <td>5/16/2018 12:00 AM</td>\n    </tr>\n    <tr>\n      <th>3</th>\n      <td>64026</td>\n      <td>Kaye Sample</td>\n      <td>Male</td>\n      <td>4</td>\n      <td>0</td>\n      <td>0</td>\n      <td>White</td>\n      <td>Rental Assistance</td>\n      <td>99001</td>\n      <td>Airway Heights</td>\n      <td>Washington</td>\n      <td>47.642922</td>\n      <td>-117.59149</td>\n      <td>5/17/2018 12:00 AM</td>\n    </tr>\n    <tr>\n      <th>4</th>\n      <td>63275</td>\n      <td>Jervis Sydney</td>\n      <td>Male</td>\n      <td>67</td>\n      <td>1</td>\n      <td>0</td>\n      <td>White</td>\n      <td>Transportation</td>\n      <td>99001</td>\n      <td>Airway Heights</td>\n      <td>Washington</td>\n      <td>47.642922</td>\n      <td>-117.59149</td>\n      <td>5/18/2018 12:00 AM</td>\n    </tr>\n  </tbody>\n</table>\n</div>"
     },
     "metadata": {},
     "execution_count": 6
    }
   ],
   "source": [
    "data_2 = pd.read_csv('../data/mock_data_v2.csv')\n",
    "data_2.head()"
   ]
  },
  {
   "cell_type": "code",
   "execution_count": 7,
   "metadata": {},
   "outputs": [
    {
     "output_type": "execute_result",
     "data": {
      "text/plain": [
       "   client_id          full_name  gender  age  adult  veteran ethnicity   \\\n",
       "0      54892  Mehetabel Aylmore    Male   20   True        1      White   \n",
       "1      49955          Ab Haycox  Female    2  False        0      White   \n",
       "2      60641       Lindi Ransom    Male   23   True        0      Asian   \n",
       "3      64026        Kaye Sample    Male    4  False        0      White   \n",
       "4      63275      Jervis Sydney    Male   67   True        0      White   \n",
       "\n",
       "      service_provided  zipcode            city       state   latitude  \\\n",
       "0  Life Skills Classes    99001  Airway Heights  Washington  47.642922   \n",
       "1      Case Management    99001  Airway Heights  Washington  47.642922   \n",
       "2      Case Management    99001  Airway Heights  Washington  47.642922   \n",
       "3    Rental Assistance    99001  Airway Heights  Washington  47.642922   \n",
       "4       Transportation    99001  Airway Heights  Washington  47.642922   \n",
       "\n",
       "   longitude                date  \n",
       "0 -117.59149  5/14/2018 12:00 AM  \n",
       "1 -117.59149  5/15/2018 12:00 AM  \n",
       "2 -117.59149  5/16/2018 12:00 AM  \n",
       "3 -117.59149  5/17/2018 12:00 AM  \n",
       "4 -117.59149  5/18/2018 12:00 AM  "
      ],
      "text/html": "<div>\n<style scoped>\n    .dataframe tbody tr th:only-of-type {\n        vertical-align: middle;\n    }\n\n    .dataframe tbody tr th {\n        vertical-align: top;\n    }\n\n    .dataframe thead th {\n        text-align: right;\n    }\n</style>\n<table border=\"1\" class=\"dataframe\">\n  <thead>\n    <tr style=\"text-align: right;\">\n      <th></th>\n      <th>client_id</th>\n      <th>full_name</th>\n      <th>gender</th>\n      <th>age</th>\n      <th>adult</th>\n      <th>veteran</th>\n      <th>ethnicity</th>\n      <th>service_provided</th>\n      <th>zipcode</th>\n      <th>city</th>\n      <th>state</th>\n      <th>latitude</th>\n      <th>longitude</th>\n      <th>date</th>\n    </tr>\n  </thead>\n  <tbody>\n    <tr>\n      <th>0</th>\n      <td>54892</td>\n      <td>Mehetabel Aylmore</td>\n      <td>Male</td>\n      <td>20</td>\n      <td>True</td>\n      <td>1</td>\n      <td>White</td>\n      <td>Life Skills Classes</td>\n      <td>99001</td>\n      <td>Airway Heights</td>\n      <td>Washington</td>\n      <td>47.642922</td>\n      <td>-117.59149</td>\n      <td>5/14/2018 12:00 AM</td>\n    </tr>\n    <tr>\n      <th>1</th>\n      <td>49955</td>\n      <td>Ab Haycox</td>\n      <td>Female</td>\n      <td>2</td>\n      <td>False</td>\n      <td>0</td>\n      <td>White</td>\n      <td>Case Management</td>\n      <td>99001</td>\n      <td>Airway Heights</td>\n      <td>Washington</td>\n      <td>47.642922</td>\n      <td>-117.59149</td>\n      <td>5/15/2018 12:00 AM</td>\n    </tr>\n    <tr>\n      <th>2</th>\n      <td>60641</td>\n      <td>Lindi Ransom</td>\n      <td>Male</td>\n      <td>23</td>\n      <td>True</td>\n      <td>0</td>\n      <td>Asian</td>\n      <td>Case Management</td>\n      <td>99001</td>\n      <td>Airway Heights</td>\n      <td>Washington</td>\n      <td>47.642922</td>\n      <td>-117.59149</td>\n      <td>5/16/2018 12:00 AM</td>\n    </tr>\n    <tr>\n      <th>3</th>\n      <td>64026</td>\n      <td>Kaye Sample</td>\n      <td>Male</td>\n      <td>4</td>\n      <td>False</td>\n      <td>0</td>\n      <td>White</td>\n      <td>Rental Assistance</td>\n      <td>99001</td>\n      <td>Airway Heights</td>\n      <td>Washington</td>\n      <td>47.642922</td>\n      <td>-117.59149</td>\n      <td>5/17/2018 12:00 AM</td>\n    </tr>\n    <tr>\n      <th>4</th>\n      <td>63275</td>\n      <td>Jervis Sydney</td>\n      <td>Male</td>\n      <td>67</td>\n      <td>True</td>\n      <td>0</td>\n      <td>White</td>\n      <td>Transportation</td>\n      <td>99001</td>\n      <td>Airway Heights</td>\n      <td>Washington</td>\n      <td>47.642922</td>\n      <td>-117.59149</td>\n      <td>5/18/2018 12:00 AM</td>\n    </tr>\n  </tbody>\n</table>\n</div>"
     },
     "metadata": {},
     "execution_count": 7
    }
   ],
   "source": [
    "data_2.loc[data_2['adult'] == 0, 'adult'] = False\n",
    "data_2.loc[data_2['adult'] == 1, 'adult'] = True\n",
    "data_2.head()"
   ]
  },
  {
   "cell_type": "code",
   "execution_count": 8,
   "metadata": {},
   "outputs": [
    {
     "output_type": "execute_result",
     "data": {
      "text/plain": [
       "True     72\n",
       "False    28\n",
       "Name: adult, dtype: int64"
      ]
     },
     "metadata": {},
     "execution_count": 8
    }
   ],
   "source": [
    "data_2['adult'].value_counts()"
   ]
  },
  {
   "cell_type": "code",
   "execution_count": 9,
   "metadata": {},
   "outputs": [
    {
     "output_type": "execute_result",
     "data": {
      "text/plain": [
       "0    90\n",
       "1    10\n",
       "Name: veteran, dtype: int64"
      ]
     },
     "metadata": {},
     "execution_count": 9
    }
   ],
   "source": [
    "data_2['veteran'].value_counts()"
   ]
  },
  {
   "cell_type": "code",
   "execution_count": 15,
   "metadata": {},
   "outputs": [
    {
     "output_type": "execute_result",
     "data": {
      "text/plain": [
       "White               63\n",
       "Asian               13\n",
       "African American    10\n",
       "Hispanic             9\n",
       "Pacific Islander     3\n",
       "Indian               2\n",
       "Name: ethnicity , dtype: int64"
      ]
     },
     "metadata": {},
     "execution_count": 15
    }
   ],
   "source": [
    "data_2['ethnicity '].value_counts()"
   ]
  },
  {
   "cell_type": "code",
   "execution_count": null,
   "metadata": {},
   "outputs": [],
   "source": []
  }
 ],
 "metadata": {
  "kernelspec": {
   "name": "python395jvsc74a57bd0b3df403c0b4d61cf82cc6568758280197a7df9c9a2eb7573f16298522bafd4cc",
   "display_name": "Python 3.8.2 64-bit ('family-promise-service-tracker-ds-a-wWfakoPa': pipenv)"
  },
  "language_info": {
   "codemirror_mode": {
    "name": "ipython",
    "version": 3
   },
   "file_extension": ".py",
   "mimetype": "text/x-python",
   "name": "python",
   "nbconvert_exporter": "python",
   "pygments_lexer": "ipython3",
   "version": "3.9.5"
  }
 },
 "nbformat": 4,
 "nbformat_minor": 5
}