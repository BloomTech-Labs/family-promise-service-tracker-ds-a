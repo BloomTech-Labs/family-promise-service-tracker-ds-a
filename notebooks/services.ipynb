{
  "nbformat": 4,
  "nbformat_minor": 0,
  "metadata": {
    "colab": {
      "name": "services.ipynb",
      "provenance": []
    },
    "kernelspec": {
      "name": "python3",
      "display_name": "Python 3"
    },
    "language_info": {
      "name": "python"
    }
  },
  "cells": [
    {
      "cell_type": "code",
      "metadata": {
        "colab": {
          "base_uri": "https://localhost:8080/",
          "height": 419
        },
        "id": "Qbx8_NPgAE3f",
        "outputId": "97f14466-56ae-40a5-8527-42c053bd3f43"
      },
      "source": [
        "import pandas as pd\n",
        "\n",
        "df = pd.read_csv('https://raw.githubusercontent.com/Lambda-School-Labs/family-promise-service-tracker-ds-a/main/notebooks/services_data.csv')\n",
        "df"
      ],
      "execution_count": 1,
      "outputs": [
        {
          "output_type": "execute_result",
          "data": {
            "text/html": [
              "<div>\n",
              "<style scoped>\n",
              "    .dataframe tbody tr th:only-of-type {\n",
              "        vertical-align: middle;\n",
              "    }\n",
              "\n",
              "    .dataframe tbody tr th {\n",
              "        vertical-align: top;\n",
              "    }\n",
              "\n",
              "    .dataframe thead th {\n",
              "        text-align: right;\n",
              "    }\n",
              "</style>\n",
              "<table border=\"1\" class=\"dataframe\">\n",
              "  <thead>\n",
              "    <tr style=\"text-align: right;\">\n",
              "      <th></th>\n",
              "      <th>Unnamed: 0</th>\n",
              "      <th>Client ID</th>\n",
              "      <th>Service</th>\n",
              "      <th>Service Date</th>\n",
              "    </tr>\n",
              "  </thead>\n",
              "  <tbody>\n",
              "    <tr>\n",
              "      <th>0</th>\n",
              "      <td>0</td>\n",
              "      <td>78990</td>\n",
              "      <td>Meal</td>\n",
              "      <td>1/3/2018 12:00 AM</td>\n",
              "    </tr>\n",
              "    <tr>\n",
              "      <th>1</th>\n",
              "      <td>1</td>\n",
              "      <td>68769</td>\n",
              "      <td>Meal</td>\n",
              "      <td>1/3/2018 12:00 AM</td>\n",
              "    </tr>\n",
              "    <tr>\n",
              "      <th>2</th>\n",
              "      <td>2</td>\n",
              "      <td>67407</td>\n",
              "      <td>Meal</td>\n",
              "      <td>1/3/2018 12:00 AM</td>\n",
              "    </tr>\n",
              "    <tr>\n",
              "      <th>3</th>\n",
              "      <td>3</td>\n",
              "      <td>67409</td>\n",
              "      <td>Meal</td>\n",
              "      <td>1/3/2018 12:00 AM</td>\n",
              "    </tr>\n",
              "    <tr>\n",
              "      <th>4</th>\n",
              "      <td>4</td>\n",
              "      <td>37424</td>\n",
              "      <td>Meal</td>\n",
              "      <td>1/3/2018 12:00 AM</td>\n",
              "    </tr>\n",
              "    <tr>\n",
              "      <th>...</th>\n",
              "      <td>...</td>\n",
              "      <td>...</td>\n",
              "      <td>...</td>\n",
              "      <td>...</td>\n",
              "    </tr>\n",
              "    <tr>\n",
              "      <th>151130</th>\n",
              "      <td>151130</td>\n",
              "      <td>100674</td>\n",
              "      <td>Meal</td>\n",
              "      <td>7/27/2020 12:00 AM</td>\n",
              "    </tr>\n",
              "    <tr>\n",
              "      <th>151131</th>\n",
              "      <td>151131</td>\n",
              "      <td>100768</td>\n",
              "      <td>Shower</td>\n",
              "      <td>7/27/2020 12:00 AM</td>\n",
              "    </tr>\n",
              "    <tr>\n",
              "      <th>151132</th>\n",
              "      <td>151132</td>\n",
              "      <td>100768</td>\n",
              "      <td>Meal</td>\n",
              "      <td>7/27/2020 12:00 AM</td>\n",
              "    </tr>\n",
              "    <tr>\n",
              "      <th>151133</th>\n",
              "      <td>151133</td>\n",
              "      <td>100775</td>\n",
              "      <td>Shower</td>\n",
              "      <td>7/27/2020 12:00 AM</td>\n",
              "    </tr>\n",
              "    <tr>\n",
              "      <th>151134</th>\n",
              "      <td>151134</td>\n",
              "      <td>100775</td>\n",
              "      <td>Meal</td>\n",
              "      <td>7/27/2020 12:00 AM</td>\n",
              "    </tr>\n",
              "  </tbody>\n",
              "</table>\n",
              "<p>151135 rows × 4 columns</p>\n",
              "</div>"
            ],
            "text/plain": [
              "        Unnamed: 0  Client ID Service        Service Date\n",
              "0                0      78990    Meal   1/3/2018 12:00 AM\n",
              "1                1      68769    Meal   1/3/2018 12:00 AM\n",
              "2                2      67407    Meal   1/3/2018 12:00 AM\n",
              "3                3      67409    Meal   1/3/2018 12:00 AM\n",
              "4                4      37424    Meal   1/3/2018 12:00 AM\n",
              "...            ...        ...     ...                 ...\n",
              "151130      151130     100674    Meal  7/27/2020 12:00 AM\n",
              "151131      151131     100768  Shower  7/27/2020 12:00 AM\n",
              "151132      151132     100768    Meal  7/27/2020 12:00 AM\n",
              "151133      151133     100775  Shower  7/27/2020 12:00 AM\n",
              "151134      151134     100775    Meal  7/27/2020 12:00 AM\n",
              "\n",
              "[151135 rows x 4 columns]"
            ]
          },
          "metadata": {
            "tags": []
          },
          "execution_count": 1
        }
      ]
    },
    {
      "cell_type": "code",
      "metadata": {
        "colab": {
          "base_uri": "https://localhost:8080/"
        },
        "id": "G_aBrfT-AMnW",
        "outputId": "90b5c755-c82c-4be5-e275-81871e9c1696"
      },
      "source": [
        "df['Client ID'].value_counts()"
      ],
      "execution_count": 2,
      "outputs": [
        {
          "output_type": "execute_result",
          "data": {
            "text/plain": [
              "76956    935\n",
              "84186    913\n",
              "84189    880\n",
              "84188    876\n",
              "84187    859\n",
              "        ... \n",
              "86899      1\n",
              "75299      1\n",
              "68537      1\n",
              "86021      1\n",
              "85518      1\n",
              "Name: Client ID, Length: 1519, dtype: int64"
            ]
          },
          "metadata": {
            "tags": []
          },
          "execution_count": 2
        }
      ]
    },
    {
      "cell_type": "code",
      "metadata": {
        "colab": {
          "base_uri": "https://localhost:8080/"
        },
        "id": "m3nVxTA3ATJo",
        "outputId": "c190a94b-8f46-457c-8b7e-21acfccae723"
      },
      "source": [
        "df['Service'].value_counts()"
      ],
      "execution_count": 3,
      "outputs": [
        {
          "output_type": "execute_result",
          "data": {
            "text/plain": [
              "Housing Check-In                                  48749\n",
              "Meal                                              35619\n",
              "Shower                                            30558\n",
              "Laundry                                           22305\n",
              "Shelter                                            6813\n",
              "Client Contact                                     5523\n",
              "Case Management                                     829\n",
              "Case/Care management                                318\n",
              "Life Skills Classes                                  77\n",
              "Bus Pass                                             66\n",
              "Bus Tokens                                           47\n",
              "Housing Search and Placement                         39\n",
              "Mental Health Counseling                             29\n",
              "Food                                                 18\n",
              "Responsible Renters Class                            14\n",
              "Security Deposit                                     13\n",
              "Employment Services                                  12\n",
              "Gas Card                                             11\n",
              "Birth Certificate                                    10\n",
              "Transportation                                       10\n",
              "Self Awareness Class 2                                9\n",
              "Rental Assistance                                     9\n",
              "Housing Reservation                                   8\n",
              "Material Goods                                        7\n",
              "McDial                                                6\n",
              "Financial Assistance                                  5\n",
              "Moving Costs                                          4\n",
              "Motel + Hotel Vouchers                                4\n",
              "Clothing                                              3\n",
              "I.D. Service                                          3\n",
              "Employment Skills                                     3\n",
              "Work Assessment                                       2\n",
              "Literacy                                              1\n",
              "Responsible Renters 2                                 1\n",
              "Food Handlers Card                                    1\n",
              "Utility Assistance                                    1\n",
              "Job Readiness Class                                   1\n",
              "TBRA                                                  1\n",
              "Health Care                                           1\n",
              "Furniture                                             1\n",
              "Transitional Housing - Category 4 (Fleeing DV)        1\n",
              "Credit Repair                                         1\n",
              "Housing Referral                                      1\n",
              "Outreach                                              1\n",
              "Name: Service, dtype: int64"
            ]
          },
          "metadata": {
            "tags": []
          },
          "execution_count": 3
        }
      ]
    },
    {
      "cell_type": "code",
      "metadata": {
        "id": "zwkALJGTfFGV"
      },
      "source": [
        "internal  = ['Housing Check-In', \n",
        "                'Meal', \n",
        "                'Shower', \n",
        "                'Laundry',\n",
        "                'Shelter', \n",
        "                ]\n",
        "\n",
        "external  = ['Case Management',\n",
        "                'Case/Care management',\n",
        "                'Life Skills Classes',                                  \n",
        "                'Bus Pass',                                             \n",
        "                'Bus Tokens',                                          \n",
        "                'Housing Search and Placement',                       \n",
        "                'Mental Health Counseling',                             \n",
        "                'Food',                                                 \n",
        "                'Responsible Renters Class',                            \n",
        "                'Security Deposit',                                     \n",
        "                'Employment Services',                                  \n",
        "                'Gas Card',                                            \n",
        "                'Transportation',                                       \n",
        "                'Birth Certificate',                                    \n",
        "                'Rental Assistance',                                     \n",
        "                'Self Awareness Class',                                \n",
        "                'Housing Reservation'                                   \n",
        "                'Material Goods',                                        \n",
        "                'McDial'                                                \n",
        "                'Financial Assistance',                                  \n",
        "                'Moving Costs',                                          \n",
        "                'Motel + Hotel Vouchers',                                \n",
        "                'Clothing',                                              \n",
        "                'Employment Skills',                                     \n",
        "                'I.D. Service',                                          \n",
        "                'Work Assessment',                                       \n",
        "                'Housing Referral',                                     \n",
        "                'Responsible Renters',                                \n",
        "                'Transitional Housing - Category 4 (Fleeing DV)',       \n",
        "                'Credit Repair',                                         \n",
        "                'Food Handlers Card',                                    \n",
        "                'Furniture',                                            \n",
        "                'Outreach',                                              \n",
        "                'TBRA',                                                 \n",
        "                'Utility Assistance',                                    \n",
        "                'Literacy',                                             \n",
        "                'Job Readiness Class',                                  \n",
        "                'Health Care'     \n",
        "                ]"
      ],
      "execution_count": 4,
      "outputs": []
    },
    {
      "cell_type": "code",
      "metadata": {
        "id": "2E8AkpdjoWpJ"
      },
      "source": [
        "import numpy as np\n",
        "col = 'Service'\n",
        "conditions = [df[col].isin(internal), df[col].isin(external)]\n",
        "choices = ['internal', 'external']\n",
        "df['target'] = np.select(conditions, choices, default=np.nan)"
      ],
      "execution_count": 5,
      "outputs": []
    },
    {
      "cell_type": "code",
      "metadata": {
        "colab": {
          "base_uri": "https://localhost:8080/"
        },
        "id": "CEp1cTGDoogy",
        "outputId": "ada5d600-4000-42a1-d9e0-88b5d2b05621"
      },
      "source": [
        "df.target.value_counts()"
      ],
      "execution_count": 6,
      "outputs": [
        {
          "output_type": "execute_result",
          "data": {
            "text/plain": [
              "internal    144044\n",
              "nan           5559\n",
              "external      1532\n",
              "Name: target, dtype: int64"
            ]
          },
          "metadata": {
            "tags": []
          },
          "execution_count": 6
        }
      ]
    },
    {
      "cell_type": "code",
      "metadata": {
        "id": "RFrSjHTI05qs"
      },
      "source": [
        "df.sort_values(by=['target'],ascending=False).to_csv(r'/content/test1.csv', index = False)"
      ],
      "execution_count": 9,
      "outputs": []
    },
    {
      "cell_type": "code",
      "metadata": {
        "colab": {
          "base_uri": "https://localhost:8080/",
          "height": 419
        },
        "id": "L5s2uTuG-lUJ",
        "outputId": "825d78dd-0c2a-4290-d7e2-0a1482027687"
      },
      "source": [
        "mock_data = pd.read_csv('https://raw.githubusercontent.com/Lambda-School-Labs/family-promise-service-tracker-ds-a/main/data/mock_data.csv')\n",
        "mock_data"
      ],
      "execution_count": 10,
      "outputs": [
        {
          "output_type": "execute_result",
          "data": {
            "text/html": [
              "<div>\n",
              "<style scoped>\n",
              "    .dataframe tbody tr th:only-of-type {\n",
              "        vertical-align: middle;\n",
              "    }\n",
              "\n",
              "    .dataframe tbody tr th {\n",
              "        vertical-align: top;\n",
              "    }\n",
              "\n",
              "    .dataframe thead th {\n",
              "        text-align: right;\n",
              "    }\n",
              "</style>\n",
              "<table border=\"1\" class=\"dataframe\">\n",
              "  <thead>\n",
              "    <tr style=\"text-align: right;\">\n",
              "      <th></th>\n",
              "      <th>client_id</th>\n",
              "      <th>full_name</th>\n",
              "      <th>gender</th>\n",
              "      <th>age</th>\n",
              "      <th>service_description</th>\n",
              "      <th>address</th>\n",
              "      <th>latitude</th>\n",
              "      <th>longitude</th>\n",
              "      <th>date</th>\n",
              "    </tr>\n",
              "  </thead>\n",
              "  <tbody>\n",
              "    <tr>\n",
              "      <th>0</th>\n",
              "      <td>54892</td>\n",
              "      <td>Mehetabel Aylmore</td>\n",
              "      <td>Male</td>\n",
              "      <td>20</td>\n",
              "      <td>Case Management</td>\n",
              "      <td>Gilman Dr W, Seattle, WA 98119, United States</td>\n",
              "      <td>47.636289</td>\n",
              "      <td>-122.371025</td>\n",
              "      <td>5/14/2018 12:00 AM</td>\n",
              "    </tr>\n",
              "    <tr>\n",
              "      <th>1</th>\n",
              "      <td>49499</td>\n",
              "      <td>Elga Raeburn</td>\n",
              "      <td>Female</td>\n",
              "      <td>9</td>\n",
              "      <td>Case Management</td>\n",
              "      <td>7th Avenue West, Seattle, WA 98119, United States</td>\n",
              "      <td>47.639123</td>\n",
              "      <td>-122.365667</td>\n",
              "      <td>5/14/2018 12:00 AM</td>\n",
              "    </tr>\n",
              "    <tr>\n",
              "      <th>2</th>\n",
              "      <td>64034</td>\n",
              "      <td>Kimmie Richardot</td>\n",
              "      <td>Female</td>\n",
              "      <td>7</td>\n",
              "      <td>Case Management</td>\n",
              "      <td>West Lee Street, Seattle, WA 98119, United States</td>\n",
              "      <td>47.629724</td>\n",
              "      <td>-122.369483</td>\n",
              "      <td>5/21/2018 12:00 AM</td>\n",
              "    </tr>\n",
              "    <tr>\n",
              "      <th>3</th>\n",
              "      <td>42222</td>\n",
              "      <td>Adham Polack</td>\n",
              "      <td>Female</td>\n",
              "      <td>62</td>\n",
              "      <td>Case Management</td>\n",
              "      <td>8th Avenue West, Seattle, WA 98119, United States</td>\n",
              "      <td>47.638473</td>\n",
              "      <td>-122.369279</td>\n",
              "      <td>9/17/2018 12:00 AM</td>\n",
              "    </tr>\n",
              "    <tr>\n",
              "      <th>4</th>\n",
              "      <td>45792</td>\n",
              "      <td>Jeff Winspar</td>\n",
              "      <td>Female</td>\n",
              "      <td>8</td>\n",
              "      <td>Transportation</td>\n",
              "      <td>14th Ave W, Seattle, WA 98119, United States</td>\n",
              "      <td>47.632918</td>\n",
              "      <td>-122.372471</td>\n",
              "      <td>5/21/2018 12:00 AM</td>\n",
              "    </tr>\n",
              "    <tr>\n",
              "      <th>...</th>\n",
              "      <td>...</td>\n",
              "      <td>...</td>\n",
              "      <td>...</td>\n",
              "      <td>...</td>\n",
              "      <td>...</td>\n",
              "      <td>...</td>\n",
              "      <td>...</td>\n",
              "      <td>...</td>\n",
              "      <td>...</td>\n",
              "    </tr>\n",
              "    <tr>\n",
              "      <th>995</th>\n",
              "      <td>54100</td>\n",
              "      <td>Devin Dudill</td>\n",
              "      <td>Male</td>\n",
              "      <td>67</td>\n",
              "      <td>Case/Care management</td>\n",
              "      <td>28th Avenue South, Seattle, WA 98144, United S...</td>\n",
              "      <td>47.594810</td>\n",
              "      <td>-122.296165</td>\n",
              "      <td>3/26/2018 12:00 AM</td>\n",
              "    </tr>\n",
              "    <tr>\n",
              "      <th>996</th>\n",
              "      <td>46985</td>\n",
              "      <td>Ingeberg McHugh</td>\n",
              "      <td>Male</td>\n",
              "      <td>67</td>\n",
              "      <td>Case/Care management</td>\n",
              "      <td>30th Avenue, Seattle, WA 98122, United States</td>\n",
              "      <td>47.604296</td>\n",
              "      <td>-122.294359</td>\n",
              "      <td>3/26/2018 12:00 AM</td>\n",
              "    </tr>\n",
              "    <tr>\n",
              "      <th>997</th>\n",
              "      <td>48860</td>\n",
              "      <td>Kimmie Lartice</td>\n",
              "      <td>Female</td>\n",
              "      <td>40</td>\n",
              "      <td>Case/Care management</td>\n",
              "      <td>32nd Avenue, Seattle, WA 98122, United States</td>\n",
              "      <td>47.604379</td>\n",
              "      <td>-122.291115</td>\n",
              "      <td>3/27/2018 12:00 AM</td>\n",
              "    </tr>\n",
              "    <tr>\n",
              "      <th>998</th>\n",
              "      <td>67058</td>\n",
              "      <td>Kyle Albasini</td>\n",
              "      <td>Male</td>\n",
              "      <td>3</td>\n",
              "      <td>Case/Care management</td>\n",
              "      <td>Martin Luther King Junior Way South, Seattle, ...</td>\n",
              "      <td>47.596971</td>\n",
              "      <td>-122.296482</td>\n",
              "      <td>3/27/2018 12:00 AM</td>\n",
              "    </tr>\n",
              "    <tr>\n",
              "      <th>999</th>\n",
              "      <td>67771</td>\n",
              "      <td>Fitzgerald Siflet</td>\n",
              "      <td>Female</td>\n",
              "      <td>65</td>\n",
              "      <td>Case/Care management</td>\n",
              "      <td>29th Ave S, Seattle, WA 98144, United States</td>\n",
              "      <td>47.591768</td>\n",
              "      <td>-122.294322</td>\n",
              "      <td>NaN</td>\n",
              "    </tr>\n",
              "  </tbody>\n",
              "</table>\n",
              "<p>1000 rows × 9 columns</p>\n",
              "</div>"
            ],
            "text/plain": [
              "     client_id          full_name  ...   longitude                date\n",
              "0        54892  Mehetabel Aylmore  ... -122.371025  5/14/2018 12:00 AM\n",
              "1        49499       Elga Raeburn  ... -122.365667  5/14/2018 12:00 AM\n",
              "2        64034   Kimmie Richardot  ... -122.369483  5/21/2018 12:00 AM\n",
              "3        42222       Adham Polack  ... -122.369279  9/17/2018 12:00 AM\n",
              "4        45792       Jeff Winspar  ... -122.372471  5/21/2018 12:00 AM\n",
              "..         ...                ...  ...         ...                 ...\n",
              "995      54100       Devin Dudill  ... -122.296165  3/26/2018 12:00 AM\n",
              "996      46985    Ingeberg McHugh  ... -122.294359  3/26/2018 12:00 AM\n",
              "997      48860     Kimmie Lartice  ... -122.291115  3/27/2018 12:00 AM\n",
              "998      67058      Kyle Albasini  ... -122.296482  3/27/2018 12:00 AM\n",
              "999      67771  Fitzgerald Siflet  ... -122.294322                 NaN\n",
              "\n",
              "[1000 rows x 9 columns]"
            ]
          },
          "metadata": {
            "tags": []
          },
          "execution_count": 10
        }
      ]
    },
    {
      "cell_type": "code",
      "metadata": {
        "colab": {
          "base_uri": "https://localhost:8080/",
          "height": 232
        },
        "id": "Uqk3EpsSAL2Q",
        "outputId": "5af344dd-414d-4bc8-e8fb-28a2c9984b2c"
      },
      "source": [
        "import plotly.express as px\n",
        "\n",
        "fig = px.scatter_mapbox(, lat=\"latitude\", lon='longitude',\n",
        "                     color=\"V5 City\", # which column to use to set the color of markers\n",
        "                     hover_name=\"zip\", # column added to hover information\n",
        "                     size='total', # size of markers\n",
        "                     zoom=4,\n",
        "                     )\n",
        "\n",
        "fig.update_layout(mapbox_style=\"open-street-map\")\n",
        "fig.show()"
      ],
      "execution_count": 11,
      "outputs": [
        {
          "output_type": "error",
          "ename": "NameError",
          "evalue": "ignored",
          "traceback": [
            "\u001b[0;31m---------------------------------------------------------------------------\u001b[0m",
            "\u001b[0;31mNameError\u001b[0m                                 Traceback (most recent call last)",
            "\u001b[0;32m<ipython-input-11-047d48f1fcf2>\u001b[0m in \u001b[0;36m<module>\u001b[0;34m()\u001b[0m\n\u001b[1;32m      1\u001b[0m \u001b[0;32mimport\u001b[0m \u001b[0mplotly\u001b[0m\u001b[0;34m.\u001b[0m\u001b[0mexpress\u001b[0m \u001b[0;32mas\u001b[0m \u001b[0mpx\u001b[0m\u001b[0;34m\u001b[0m\u001b[0;34m\u001b[0m\u001b[0m\n\u001b[1;32m      2\u001b[0m \u001b[0;34m\u001b[0m\u001b[0m\n\u001b[0;32m----> 3\u001b[0;31m fig = px.scatter_mapbox(guests_by_zip, lat=\"Latitude\", lon='Longitude',\n\u001b[0m\u001b[1;32m      4\u001b[0m                      \u001b[0mcolor\u001b[0m\u001b[0;34m=\u001b[0m\u001b[0;34m\"V5 City\"\u001b[0m\u001b[0;34m,\u001b[0m \u001b[0;31m# which column to use to set the color of markers\u001b[0m\u001b[0;34m\u001b[0m\u001b[0;34m\u001b[0m\u001b[0m\n\u001b[1;32m      5\u001b[0m                      \u001b[0mhover_name\u001b[0m\u001b[0;34m=\u001b[0m\u001b[0;34m\"zip\"\u001b[0m\u001b[0;34m,\u001b[0m \u001b[0;31m# column added to hover information\u001b[0m\u001b[0;34m\u001b[0m\u001b[0;34m\u001b[0m\u001b[0m\n",
            "\u001b[0;31mNameError\u001b[0m: name 'guests_by_zip' is not defined"
          ]
        }
      ]
    }
  ]
}